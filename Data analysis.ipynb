{
  "cells": [
    {
      "cell_type": "code",
      "execution_count": null,
      "metadata": {
        "colab": {
          "base_uri": "https://localhost:8080/",
          "height": 354
        },
        "id": "UvfgLJkNUaws",
        "outputId": "2699edcb-7d6d-467f-c66f-3e2a09a43c5c"
      },
      "outputs": [
        {
          "output_type": "error",
          "ename": "MessageError",
          "evalue": "ignored",
          "traceback": [
            "\u001b[0;31m---------------------------------------------------------------------------\u001b[0m",
            "\u001b[0;31mMessageError\u001b[0m                              Traceback (most recent call last)",
            "\u001b[0;32m<ipython-input-1-853d2b24b68c>\u001b[0m in \u001b[0;36m<module>\u001b[0;34m\u001b[0m\n\u001b[1;32m      1\u001b[0m \u001b[0;32mfrom\u001b[0m \u001b[0mgoogle\u001b[0m\u001b[0;34m.\u001b[0m\u001b[0mcolab\u001b[0m \u001b[0;32mimport\u001b[0m \u001b[0mdrive\u001b[0m\u001b[0;34m\u001b[0m\u001b[0;34m\u001b[0m\u001b[0m\n\u001b[0;32m----> 2\u001b[0;31m \u001b[0mdrive\u001b[0m\u001b[0;34m.\u001b[0m\u001b[0mmount\u001b[0m\u001b[0;34m(\u001b[0m\u001b[0;34m'/content/drive'\u001b[0m\u001b[0;34m)\u001b[0m\u001b[0;34m\u001b[0m\u001b[0;34m\u001b[0m\u001b[0m\n\u001b[0m\u001b[1;32m      3\u001b[0m \u001b[0mrpart\u001b[0m \u001b[0;34m=\u001b[0m \u001b[0;34m\"/content/drive/My Drive/R part/majzara_tweets.csv\"\u001b[0m\u001b[0;34m\u001b[0m\u001b[0;34m\u001b[0m\u001b[0m\n",
            "\u001b[0;32m/usr/local/lib/python3.7/dist-packages/google/colab/drive.py\u001b[0m in \u001b[0;36mmount\u001b[0;34m(mountpoint, force_remount, timeout_ms)\u001b[0m\n\u001b[1;32m    103\u001b[0m       \u001b[0mforce_remount\u001b[0m\u001b[0;34m=\u001b[0m\u001b[0mforce_remount\u001b[0m\u001b[0;34m,\u001b[0m\u001b[0;34m\u001b[0m\u001b[0;34m\u001b[0m\u001b[0m\n\u001b[1;32m    104\u001b[0m       \u001b[0mtimeout_ms\u001b[0m\u001b[0;34m=\u001b[0m\u001b[0mtimeout_ms\u001b[0m\u001b[0;34m,\u001b[0m\u001b[0;34m\u001b[0m\u001b[0;34m\u001b[0m\u001b[0m\n\u001b[0;32m--> 105\u001b[0;31m       ephemeral=True)\n\u001b[0m\u001b[1;32m    106\u001b[0m \u001b[0;34m\u001b[0m\u001b[0m\n\u001b[1;32m    107\u001b[0m \u001b[0;34m\u001b[0m\u001b[0m\n",
            "\u001b[0;32m/usr/local/lib/python3.7/dist-packages/google/colab/drive.py\u001b[0m in \u001b[0;36m_mount\u001b[0;34m(mountpoint, force_remount, timeout_ms, ephemeral)\u001b[0m\n\u001b[1;32m    118\u001b[0m   \u001b[0;32mif\u001b[0m \u001b[0mephemeral\u001b[0m\u001b[0;34m:\u001b[0m\u001b[0;34m\u001b[0m\u001b[0;34m\u001b[0m\u001b[0m\n\u001b[1;32m    119\u001b[0m     _message.blocking_request(\n\u001b[0;32m--> 120\u001b[0;31m         'request_auth', request={'authType': 'dfs_ephemeral'}, timeout_sec=None)\n\u001b[0m\u001b[1;32m    121\u001b[0m \u001b[0;34m\u001b[0m\u001b[0m\n\u001b[1;32m    122\u001b[0m   \u001b[0mmountpoint\u001b[0m \u001b[0;34m=\u001b[0m \u001b[0m_os\u001b[0m\u001b[0;34m.\u001b[0m\u001b[0mpath\u001b[0m\u001b[0;34m.\u001b[0m\u001b[0mexpanduser\u001b[0m\u001b[0;34m(\u001b[0m\u001b[0mmountpoint\u001b[0m\u001b[0;34m)\u001b[0m\u001b[0;34m\u001b[0m\u001b[0;34m\u001b[0m\u001b[0m\n",
            "\u001b[0;32m/usr/local/lib/python3.7/dist-packages/google/colab/_message.py\u001b[0m in \u001b[0;36mblocking_request\u001b[0;34m(request_type, request, timeout_sec, parent)\u001b[0m\n\u001b[1;32m    169\u001b[0m   request_id = send_request(\n\u001b[1;32m    170\u001b[0m       request_type, request, parent=parent, expect_reply=True)\n\u001b[0;32m--> 171\u001b[0;31m   \u001b[0;32mreturn\u001b[0m \u001b[0mread_reply_from_input\u001b[0m\u001b[0;34m(\u001b[0m\u001b[0mrequest_id\u001b[0m\u001b[0;34m,\u001b[0m \u001b[0mtimeout_sec\u001b[0m\u001b[0;34m)\u001b[0m\u001b[0;34m\u001b[0m\u001b[0;34m\u001b[0m\u001b[0m\n\u001b[0m",
            "\u001b[0;32m/usr/local/lib/python3.7/dist-packages/google/colab/_message.py\u001b[0m in \u001b[0;36mread_reply_from_input\u001b[0;34m(message_id, timeout_sec)\u001b[0m\n\u001b[1;32m    100\u001b[0m         reply.get('colab_msg_id') == message_id):\n\u001b[1;32m    101\u001b[0m       \u001b[0;32mif\u001b[0m \u001b[0;34m'error'\u001b[0m \u001b[0;32min\u001b[0m \u001b[0mreply\u001b[0m\u001b[0;34m:\u001b[0m\u001b[0;34m\u001b[0m\u001b[0;34m\u001b[0m\u001b[0m\n\u001b[0;32m--> 102\u001b[0;31m         \u001b[0;32mraise\u001b[0m \u001b[0mMessageError\u001b[0m\u001b[0;34m(\u001b[0m\u001b[0mreply\u001b[0m\u001b[0;34m[\u001b[0m\u001b[0;34m'error'\u001b[0m\u001b[0;34m]\u001b[0m\u001b[0;34m)\u001b[0m\u001b[0;34m\u001b[0m\u001b[0;34m\u001b[0m\u001b[0m\n\u001b[0m\u001b[1;32m    103\u001b[0m       \u001b[0;32mreturn\u001b[0m \u001b[0mreply\u001b[0m\u001b[0;34m.\u001b[0m\u001b[0mget\u001b[0m\u001b[0;34m(\u001b[0m\u001b[0;34m'data'\u001b[0m\u001b[0;34m,\u001b[0m \u001b[0;32mNone\u001b[0m\u001b[0;34m)\u001b[0m\u001b[0;34m\u001b[0m\u001b[0;34m\u001b[0m\u001b[0m\n\u001b[1;32m    104\u001b[0m \u001b[0;34m\u001b[0m\u001b[0m\n",
            "\u001b[0;31mMessageError\u001b[0m: Error: credential propagation was unsuccessful"
          ]
        }
      ],
      "source": [
        "from google.colab import drive\n",
        "drive.mount('/content/drive')\n",
        "rpart = \"/content/drive/My Drive/R part/majzara_tweets.csv\""
      ]
    },
    {
      "cell_type": "code",
      "execution_count": null,
      "metadata": {
        "id": "uWg0vpysKGoz"
      },
      "outputs": [],
      "source": [
        "%load_ext rpy2.ipython"
      ]
    },
    {
      "cell_type": "code",
      "execution_count": null,
      "metadata": {
        "id": "qhK43dd9UYtH"
      },
      "outputs": [],
      "source": [
        "%%R\n",
        "#TOOK 1 MINUTE TO RUN\n",
        "sitin2 <- read.csv(\"/content/drive/MyDrive/R part/majzara_tweets.csv\")\n",
        "maj1 <- read.csv(\"/content/drive/MyDrive/R part/majzara_tweets.csv\")\n",
        "maj2 <- read.csv(\"/content/drive/MyDrive/R part/majzara_tweets2.csv\")\n",
        "shahdeedtweets <- read.csv(\"/content/drive/MyDrive/R part/shaeehd.csv\")\n",
        "modn <- read.csv(\"/content/drive/MyDrive/R part/modnalsudan_tweets.csv\")\n",
        "silmeeya <- read.csv(\"/content/drive/MyDrive/R part/silmeeya.csv\")\n",
        "silah <- read.csv(\"/content/drive/MyDrive/R part/silah.csv\")\n",
        "royalcare <- read.csv(\"/content/drive/MyDrive/R part/royalcare.csv\")\n",
        "sudanrevolts <- read.csv(\"/content/drive/MyDrive/R part/sudanrevoluts.csv\")\n",
        "mawakibmarch <- read.csv(\"/content/drive/MyDrive/R part/mawakibmarch.csv\")\n",
        "mawakibfebruary <- read.csv(\"/content/drive/MyDrive/R part/mawakibfebruary.csv\")\n",
        "mawakibjuanuary <- read.csv(\"/content/drive/MyDrive/R part/mawakibjuanuary.csv\")\n",
        "newmawakibjanuary<-subset(mawakibjuanuary, grepl(\"RT\", mawakibjuanuary[[\"text\"]]) == FALSE) \n",
        "shohdadata <- read.csv('/content/drive/MyDrive/R part/Demographics dataset2.csv')\n",
        "tasgot <- read.csv(\"/content/drive/MyDrive/R part/tasgod.csv\")\n",
        "\n"
      ]
    },
    {
      "cell_type": "code",
      "source": [
        "%%R\n",
        "sudatweets <- rbind(sitin2, maj1, maj2, modn, silmeeya, silah, royalcare, sudanrevolts, mawakibmarch,newmawakibjanuary, mawakibfebruary, tasgot)"
      ],
      "metadata": {
        "id": "NfQBncxzvE2M"
      },
      "execution_count": null,
      "outputs": []
    },
    {
      "cell_type": "code",
      "source": [
        "%%R\n",
        "sudatweets <- sudatweets[, -c(1)]\n",
        "\n",
        "colnames(sudatweets)"
      ],
      "metadata": {
        "colab": {
          "base_uri": "https://localhost:8080/"
        },
        "id": "AdEaAxNVcR4a",
        "outputId": "2bad6606-02cd-437f-f4bc-7fa0f5bfb1e1"
      },
      "execution_count": null,
      "outputs": [
        {
          "output_type": "stream",
          "name": "stdout",
          "text": [
            " [1] \"author_id\"          \"username\"           \"author_followers\"  \n",
            " [4] \"author_tweets\"      \"author_description\" \"author_location\"   \n",
            " [7] \"text\"               \"created_at\"         \"retweets\"          \n",
            "[10] \"replies\"            \"likes\"              \"quote_count\"       \n"
          ]
        }
      ]
    },
    {
      "cell_type": "code",
      "source": [
        "%%R\n",
        "library(tidyverse)\n",
        "#create an ID coloumn in the data\n",
        "sudatweets <- tibble::rowid_to_column(sudatweets, \"X\")"
      ],
      "metadata": {
        "id": "zWc1RdNnuOAV",
        "colab": {
          "base_uri": "https://localhost:8080/"
        },
        "outputId": "735bba33-9171-4595-c811-4b79f01c2787"
      },
      "execution_count": null,
      "outputs": [
        {
          "output_type": "stream",
          "name": "stderr",
          "text": [
            "WARNING:rpy2.rinterface_lib.callbacks:R[write to console]: ── Attaching packages ─────────────────────────────────────── tidyverse 1.3.1 ──\n",
            "\n",
            "WARNING:rpy2.rinterface_lib.callbacks:R[write to console]: ✔ ggplot2 3.3.6     ✔ purrr   0.3.4\n",
            "✔ tibble  3.1.7     ✔ dplyr   1.0.9\n",
            "✔ tidyr   1.2.0     ✔ stringr 1.4.0\n",
            "✔ readr   2.1.2     ✔ forcats 0.5.1\n",
            "\n",
            "WARNING:rpy2.rinterface_lib.callbacks:R[write to console]: ── Conflicts ────────────────────────────────────────── tidyverse_conflicts() ──\n",
            "✖ dplyr::filter() masks stats::filter()\n",
            "✖ dplyr::lag()    masks stats::lag()\n",
            "\n"
          ]
        }
      ]
    },
    {
      "cell_type": "code",
      "execution_count": null,
      "metadata": {
        "id": "vTwMewh4KrFW"
      },
      "outputs": [],
      "source": [
        "%%R\n",
        "sudatweets <- sudatweets[sample(1:nrow(sudatweets), 150000\n",
        "),] "
      ]
    },
    {
      "cell_type": "code",
      "source": [
        "%%R\n",
        "sudatweetsdiscourses <- sudatweets[, c(\"X\", \"text\")]\n",
        "#saving the sample to predict their dicsourses \n",
        "#write.csv(sudatweetsdiscourses, \"tweetsdiscourses.csv\", row.names=FALSE)"
      ],
      "metadata": {
        "id": "jZ3fzHt2v5x6"
      },
      "execution_count": null,
      "outputs": []
    },
    {
      "cell_type": "code",
      "source": [
        "%%R\n",
        "install.packages(\"writexl\")\n",
        "library(\"writexl\")\n",
        "write_xlsx(sudatweetsdiscourses, \"/content/drive/MyDrive/R part/sampleforclassification.xlsx\" )"
      ],
      "metadata": {
        "colab": {
          "base_uri": "https://localhost:8080/"
        },
        "id": "ys_Bn6xyyAVn",
        "outputId": "3560beb4-9dab-48ee-a43a-37a60ef481b4"
      },
      "execution_count": null,
      "outputs": [
        {
          "output_type": "stream",
          "name": "stderr",
          "text": [
            "WARNING:rpy2.rinterface_lib.callbacks:R[write to console]: Installing package into ‘/usr/local/lib/R/site-library’\n",
            "(as ‘lib’ is unspecified)\n",
            "\n",
            "WARNING:rpy2.rinterface_lib.callbacks:R[write to console]: trying URL 'https://cran.rstudio.com/src/contrib/writexl_1.4.0.tar.gz'\n",
            "\n",
            "WARNING:rpy2.rinterface_lib.callbacks:R[write to console]: Content type 'application/x-gzip'\n",
            "WARNING:rpy2.rinterface_lib.callbacks:R[write to console]:  length 258516 bytes (252 KB)\n",
            "\n",
            "WARNING:rpy2.rinterface_lib.callbacks:R[write to console]: =\n",
            "WARNING:rpy2.rinterface_lib.callbacks:R[write to console]: =\n",
            "WARNING:rpy2.rinterface_lib.callbacks:R[write to console]: =\n",
            "WARNING:rpy2.rinterface_lib.callbacks:R[write to console]: =\n",
            "WARNING:rpy2.rinterface_lib.callbacks:R[write to console]: =\n",
            "WARNING:rpy2.rinterface_lib.callbacks:R[write to console]: =\n",
            "WARNING:rpy2.rinterface_lib.callbacks:R[write to console]: =\n",
            "WARNING:rpy2.rinterface_lib.callbacks:R[write to console]: =\n",
            "WARNING:rpy2.rinterface_lib.callbacks:R[write to console]: =\n",
            "WARNING:rpy2.rinterface_lib.callbacks:R[write to console]: =\n",
            "WARNING:rpy2.rinterface_lib.callbacks:R[write to console]: =\n",
            "WARNING:rpy2.rinterface_lib.callbacks:R[write to console]: =\n",
            "WARNING:rpy2.rinterface_lib.callbacks:R[write to console]: =\n",
            "WARNING:rpy2.rinterface_lib.callbacks:R[write to console]: =\n",
            "WARNING:rpy2.rinterface_lib.callbacks:R[write to console]: =\n",
            "WARNING:rpy2.rinterface_lib.callbacks:R[write to console]: =\n",
            "WARNING:rpy2.rinterface_lib.callbacks:R[write to console]: =\n",
            "WARNING:rpy2.rinterface_lib.callbacks:R[write to console]: =\n",
            "WARNING:rpy2.rinterface_lib.callbacks:R[write to console]: =\n",
            "WARNING:rpy2.rinterface_lib.callbacks:R[write to console]: =\n",
            "WARNING:rpy2.rinterface_lib.callbacks:R[write to console]: =\n",
            "WARNING:rpy2.rinterface_lib.callbacks:R[write to console]: =\n",
            "WARNING:rpy2.rinterface_lib.callbacks:R[write to console]: =\n",
            "WARNING:rpy2.rinterface_lib.callbacks:R[write to console]: =\n",
            "WARNING:rpy2.rinterface_lib.callbacks:R[write to console]: =\n",
            "WARNING:rpy2.rinterface_lib.callbacks:R[write to console]: =\n",
            "WARNING:rpy2.rinterface_lib.callbacks:R[write to console]: =\n",
            "WARNING:rpy2.rinterface_lib.callbacks:R[write to console]: =\n",
            "WARNING:rpy2.rinterface_lib.callbacks:R[write to console]: =\n",
            "WARNING:rpy2.rinterface_lib.callbacks:R[write to console]: =\n",
            "WARNING:rpy2.rinterface_lib.callbacks:R[write to console]: =\n",
            "WARNING:rpy2.rinterface_lib.callbacks:R[write to console]: =\n",
            "WARNING:rpy2.rinterface_lib.callbacks:R[write to console]: =\n",
            "WARNING:rpy2.rinterface_lib.callbacks:R[write to console]: =\n",
            "WARNING:rpy2.rinterface_lib.callbacks:R[write to console]: =\n",
            "WARNING:rpy2.rinterface_lib.callbacks:R[write to console]: =\n",
            "WARNING:rpy2.rinterface_lib.callbacks:R[write to console]: =\n",
            "WARNING:rpy2.rinterface_lib.callbacks:R[write to console]: =\n",
            "WARNING:rpy2.rinterface_lib.callbacks:R[write to console]: =\n",
            "WARNING:rpy2.rinterface_lib.callbacks:R[write to console]: =\n",
            "WARNING:rpy2.rinterface_lib.callbacks:R[write to console]: =\n",
            "WARNING:rpy2.rinterface_lib.callbacks:R[write to console]: =\n",
            "WARNING:rpy2.rinterface_lib.callbacks:R[write to console]: =\n",
            "WARNING:rpy2.rinterface_lib.callbacks:R[write to console]: =\n",
            "WARNING:rpy2.rinterface_lib.callbacks:R[write to console]: =\n",
            "WARNING:rpy2.rinterface_lib.callbacks:R[write to console]: =\n",
            "WARNING:rpy2.rinterface_lib.callbacks:R[write to console]: =\n",
            "WARNING:rpy2.rinterface_lib.callbacks:R[write to console]: =\n",
            "WARNING:rpy2.rinterface_lib.callbacks:R[write to console]: =\n",
            "WARNING:rpy2.rinterface_lib.callbacks:R[write to console]: =\n",
            "WARNING:rpy2.rinterface_lib.callbacks:R[write to console]: \n",
            "\n",
            "WARNING:rpy2.rinterface_lib.callbacks:R[write to console]: downloaded 252 KB\n",
            "\n",
            "\n",
            "WARNING:rpy2.rinterface_lib.callbacks:R[write to console]: \n",
            "\n",
            "WARNING:rpy2.rinterface_lib.callbacks:R[write to console]: \n",
            "WARNING:rpy2.rinterface_lib.callbacks:R[write to console]: The downloaded source packages are in\n",
            "\t‘/tmp/RtmpCtK1Pa/downloaded_packages’\n",
            "WARNING:rpy2.rinterface_lib.callbacks:R[write to console]: \n",
            "WARNING:rpy2.rinterface_lib.callbacks:R[write to console]: \n",
            "\n"
          ]
        }
      ]
    },
    {
      "cell_type": "code",
      "source": [
        "%%R\n",
        "colnames(sudatweets)"
      ],
      "metadata": {
        "colab": {
          "base_uri": "https://localhost:8080/"
        },
        "id": "Wvu2KML4yAeM",
        "outputId": "871cbc1a-1509-4e3e-9b8b-a9a742b78f0a"
      },
      "execution_count": null,
      "outputs": [
        {
          "output_type": "stream",
          "name": "stdout",
          "text": [
            " [1] \"Text\"               \"Discourse\"          \"X\"                 \n",
            " [4] \"author_id\"          \"username\"           \"author_followers\"  \n",
            " [7] \"author_tweets\"      \"author_description\" \"author_location\"   \n",
            "[10] \"text\"               \"created_at\"         \"retweets\"          \n",
            "[13] \"replies\"            \"likes\"              \"quote_count\"       \n",
            "[16] \"tweet_time\"        \n"
          ]
        }
      ]
    },
    {
      "cell_type": "code",
      "execution_count": null,
      "metadata": {
        "id": "rosx-4kjgH4I"
      },
      "outputs": [],
      "source": [
        "%%R\n",
        "colnames(shohdadata)[2] <- \"text\""
      ]
    },
    {
      "cell_type": "code",
      "execution_count": null,
      "metadata": {
        "id": "rPU3oHhTgu-3"
      },
      "outputs": [],
      "source": [
        "%%R\n",
        "shohdadata$Date.of.Death <- as.Date(shohdadata$Date.of.Death, format = \"%d/%m/%Y\")\n",
        "sudatweets$tweet_time <-as.Date(sudatweets$created_at)\n",
        "shohdadata$quere_end <- shohdadata$Date.of.Death +14"
      ]
    },
    {
      "cell_type": "code",
      "execution_count": null,
      "metadata": {
        "id": "O8qqzi5ShEEL"
      },
      "outputs": [],
      "source": [
        "%%R\n",
        "shohdadata<- shohdadata[complete.cases(shohdadata$Date.of.Death),]\n",
        "shohdadata<- shohdadata[complete.cases(shohdadata$Age),]"
      ]
    },
    {
      "cell_type": "code",
      "source": [
        "%%R\n",
        "nrow(shohdadata)"
      ],
      "metadata": {
        "colab": {
          "base_uri": "https://localhost:8080/"
        },
        "id": "UeTfkSnUWhaG",
        "outputId": "964ea61e-6f11-4aba-cf14-452ca5080918"
      },
      "execution_count": null,
      "outputs": [
        {
          "output_type": "stream",
          "name": "stdout",
          "text": [
            "[1] 160\n"
          ]
        }
      ]
    },
    {
      "cell_type": "code",
      "execution_count": null,
      "metadata": {
        "colab": {
          "base_uri": "https://localhost:8080/"
        },
        "id": "ffR0kioNhLGA",
        "outputId": "c4660dcc-6d55-4fa2-a382-5acd079ed4cd"
      },
      "outputs": [
        {
          "output_type": "stream",
          "name": "stderr",
          "text": [
            "WARNING:rpy2.rinterface_lib.callbacks:R[write to console]: \n",
            "Attaching package: ‘lubridate’\n",
            "\n",
            "\n",
            "WARNING:rpy2.rinterface_lib.callbacks:R[write to console]: The following objects are masked from ‘package:base’:\n",
            "\n",
            "    date, intersect, setdiff, union\n",
            "\n",
            "\n"
          ]
        },
        {
          "output_type": "stream",
          "name": "stdout",
          "text": [
            "[1] 1\n",
            "[1] 2\n",
            "[1] 3\n",
            "[1] 4\n",
            "[1] 5\n",
            "[1] 6\n",
            "[1] 7\n",
            "[1] 8\n",
            "[1] 9\n",
            "[1] 10\n",
            "[1] 11\n",
            "[1] 12\n",
            "[1] 13\n",
            "[1] 14\n",
            "[1] 15\n",
            "[1] 16\n",
            "[1] 17\n",
            "[1] 18\n",
            "[1] 19\n",
            "[1] 20\n",
            "[1] 21\n",
            "[1] 22\n",
            "[1] 23\n",
            "[1] 24\n",
            "[1] 25\n",
            "[1] 26\n",
            "[1] 27\n",
            "[1] 28\n",
            "[1] 29\n",
            "[1] 30\n",
            "[1] 31\n",
            "[1] 32\n",
            "[1] 33\n",
            "[1] 34\n",
            "[1] 35\n",
            "[1] 36\n",
            "[1] 37\n",
            "[1] 38\n",
            "[1] 39\n",
            "[1] 40\n",
            "[1] 41\n",
            "[1] 42\n",
            "[1] 43\n",
            "[1] 44\n",
            "[1] 45\n",
            "[1] 46\n",
            "[1] 47\n",
            "[1] 48\n",
            "[1] 49\n",
            "[1] 50\n",
            "[1] 51\n",
            "[1] 52\n",
            "[1] 53\n",
            "[1] 54\n",
            "[1] 55\n",
            "[1] 56\n",
            "[1] 57\n",
            "[1] 58\n",
            "[1] 59\n",
            "[1] 60\n",
            "[1] 61\n",
            "[1] 62\n",
            "[1] 63\n",
            "[1] 64\n",
            "[1] 65\n",
            "[1] 66\n",
            "[1] 67\n",
            "[1] 68\n",
            "[1] 69\n",
            "[1] 70\n",
            "[1] 71\n",
            "[1] 72\n",
            "[1] 73\n",
            "[1] 74\n",
            "[1] 75\n",
            "[1] 76\n",
            "[1] 77\n",
            "[1] 78\n",
            "[1] 79\n",
            "[1] 80\n",
            "[1] 81\n",
            "[1] 82\n",
            "[1] 83\n",
            "[1] 84\n",
            "[1] 85\n",
            "[1] 86\n",
            "[1] 87\n",
            "[1] 88\n",
            "[1] 89\n",
            "[1] 90\n",
            "[1] 91\n",
            "[1] 92\n",
            "[1] 93\n",
            "[1] 94\n",
            "[1] 95\n",
            "[1] 96\n",
            "[1] 97\n",
            "[1] 98\n",
            "[1] 99\n",
            "[1] 100\n",
            "[1] 101\n",
            "[1] 102\n",
            "[1] 103\n",
            "[1] 104\n",
            "[1] 105\n",
            "[1] 106\n",
            "[1] 107\n",
            "[1] 108\n",
            "[1] 109\n",
            "[1] 110\n",
            "[1] 111\n",
            "[1] 112\n",
            "[1] 113\n",
            "[1] 114\n",
            "[1] 115\n",
            "[1] 116\n",
            "[1] 117\n",
            "[1] 118\n",
            "[1] 119\n",
            "[1] 120\n",
            "[1] 121\n",
            "[1] 122\n",
            "[1] 123\n",
            "[1] 124\n",
            "[1] 125\n",
            "[1] 126\n",
            "[1] 127\n",
            "[1] 128\n",
            "[1] 129\n",
            "[1] 130\n",
            "[1] 131\n",
            "[1] 132\n",
            "[1] 133\n",
            "[1] 134\n",
            "[1] 135\n",
            "[1] 136\n",
            "[1] 137\n",
            "[1] 138\n",
            "[1] 139\n",
            "[1] 140\n",
            "[1] 141\n",
            "[1] 142\n",
            "[1] 143\n",
            "[1] 144\n",
            "[1] 145\n",
            "[1] 146\n",
            "[1] 147\n",
            "[1] 148\n",
            "[1] 149\n",
            "[1] 150\n",
            "[1] 151\n",
            "[1] 152\n",
            "[1] 153\n",
            "[1] 154\n",
            "[1] 155\n",
            "[1] 156\n",
            "[1] 157\n",
            "[1] 158\n",
            "[1] 159\n",
            "[1] 160\n"
          ]
        }
      ],
      "source": [
        "%%R\n",
        "library(lubridate)\n",
        "tweetsdf <- sudatweets[FALSE,]\n",
        "#took 1:33 minutes to run\n",
        "for (i in 1:160){\n",
        "data_new <- sudatweets[sudatweets$tweet_time >= shohdadata$Date.of.Death[i] &    # Extract data frame subset\n",
        "                   sudatweets$tweet_time <= shohdadata$quere_end[i],]\n",
        "data_new <- data_new%>%mutate(person = shohdadata$text[i])\n",
        "tweetsdf <- rbind(tweetsdf, data_new)\n",
        "print(i)\n",
        "#write.csv(tweetsdf, \"tweetsdf50.csv\")\n",
        "}"
      ]
    },
    {
      "cell_type": "code",
      "source": [
        "%%R\n",
        "colnames(sudatweets)"
      ],
      "metadata": {
        "colab": {
          "base_uri": "https://localhost:8080/"
        },
        "id": "mXcQVdNwGty-",
        "outputId": "7e7cb511-0fc1-44b1-abfc-f72e28c7d559"
      },
      "execution_count": null,
      "outputs": [
        {
          "output_type": "stream",
          "name": "stdout",
          "text": [
            " [1] \"Text\"               \"Discourse\"          \"X\"                 \n",
            " [4] \"author_id\"          \"username\"           \"author_followers\"  \n",
            " [7] \"author_tweets\"      \"author_description\" \"author_location\"   \n",
            "[10] \"text\"               \"created_at\"         \"retweets\"          \n",
            "[13] \"replies\"            \"likes\"              \"quote_count\"       \n",
            "[16] \"tweet_time\"        \n"
          ]
        }
      ]
    },
    {
      "cell_type": "code",
      "execution_count": null,
      "metadata": {
        "colab": {
          "base_uri": "https://localhost:8080/"
        },
        "id": "GXwRupd3tn3y",
        "outputId": "b5a931c6-f1e1-4809-e735-88e6032efcf0"
      },
      "outputs": [
        {
          "output_type": "stream",
          "name": "stdout",
          "text": [
            "[1] 1913823\n"
          ]
        }
      ],
      "source": [
        "%%R\n",
        "nrow(tweetsdf)\n",
        "#head(tweetsdf)\n",
        "#1913823"
      ]
    },
    {
      "cell_type": "code",
      "execution_count": null,
      "metadata": {
        "colab": {
          "base_uri": "https://localhost:8080/"
        },
        "id": "WEQQoqQ2FRpK",
        "outputId": "e3ae80ed-aa24-4ec9-9ade-33a8a0e4275f"
      },
      "outputs": [
        {
          "output_type": "stream",
          "name": "stdout",
          "text": [
            " [1] \"Text\"               \"Discourse\"          \"X\"                 \n",
            " [4] \"author_id\"          \"username\"           \"author_followers\"  \n",
            " [7] \"author_tweets\"      \"author_description\" \"author_location\"   \n",
            "[10] \"text\"               \"created_at\"         \"retweets\"          \n",
            "[13] \"replies\"            \"likes\"              \"quote_count\"       \n",
            "[16] \"tweet_time\"        \n"
          ]
        }
      ],
      "source": [
        "%%R\n",
        "colnames(sudatweets)"
      ]
    },
    {
      "cell_type": "markdown",
      "source": [
        ""
      ],
      "metadata": {
        "id": "pQJgLRaLhaQg"
      }
    },
    {
      "cell_type": "code",
      "execution_count": null,
      "metadata": {
        "colab": {
          "base_uri": "https://localhost:8080/"
        },
        "id": "AEFh0r_fGDCR",
        "outputId": "cd54f817-b95a-49b3-bfe6-ef66746d6208"
      },
      "outputs": [
        {
          "output_type": "stream",
          "name": "stderr",
          "text": [
            "WARNING:rpy2.rinterface_lib.callbacks:R[write to console]: Installing package into ‘/usr/local/lib/R/site-library’\n",
            "(as ‘lib’ is unspecified)\n",
            "\n",
            "WARNING:rpy2.rinterface_lib.callbacks:R[write to console]: also installing the dependencies ‘sp’, ‘stringdist’, ‘geosphere’\n",
            "\n",
            "\n",
            "WARNING:rpy2.rinterface_lib.callbacks:R[write to console]: trying URL 'https://cran.rstudio.com/src/contrib/sp_1.5-0.tar.gz'\n",
            "\n",
            "WARNING:rpy2.rinterface_lib.callbacks:R[write to console]: Content type 'application/x-gzip'\n",
            "WARNING:rpy2.rinterface_lib.callbacks:R[write to console]:  length 1033924 bytes (1009 KB)\n",
            "\n",
            "WARNING:rpy2.rinterface_lib.callbacks:R[write to console]: =\n",
            "WARNING:rpy2.rinterface_lib.callbacks:R[write to console]: =\n",
            "WARNING:rpy2.rinterface_lib.callbacks:R[write to console]: =\n",
            "WARNING:rpy2.rinterface_lib.callbacks:R[write to console]: =\n",
            "WARNING:rpy2.rinterface_lib.callbacks:R[write to console]: =\n",
            "WARNING:rpy2.rinterface_lib.callbacks:R[write to console]: =\n",
            "WARNING:rpy2.rinterface_lib.callbacks:R[write to console]: =\n",
            "WARNING:rpy2.rinterface_lib.callbacks:R[write to console]: =\n",
            "WARNING:rpy2.rinterface_lib.callbacks:R[write to console]: =\n",
            "WARNING:rpy2.rinterface_lib.callbacks:R[write to console]: =\n",
            "WARNING:rpy2.rinterface_lib.callbacks:R[write to console]: =\n",
            "WARNING:rpy2.rinterface_lib.callbacks:R[write to console]: =\n",
            "WARNING:rpy2.rinterface_lib.callbacks:R[write to console]: =\n",
            "WARNING:rpy2.rinterface_lib.callbacks:R[write to console]: =\n",
            "WARNING:rpy2.rinterface_lib.callbacks:R[write to console]: =\n",
            "WARNING:rpy2.rinterface_lib.callbacks:R[write to console]: =\n",
            "WARNING:rpy2.rinterface_lib.callbacks:R[write to console]: =\n",
            "WARNING:rpy2.rinterface_lib.callbacks:R[write to console]: =\n",
            "WARNING:rpy2.rinterface_lib.callbacks:R[write to console]: =\n",
            "WARNING:rpy2.rinterface_lib.callbacks:R[write to console]: =\n",
            "WARNING:rpy2.rinterface_lib.callbacks:R[write to console]: =\n",
            "WARNING:rpy2.rinterface_lib.callbacks:R[write to console]: =\n",
            "WARNING:rpy2.rinterface_lib.callbacks:R[write to console]: =\n",
            "WARNING:rpy2.rinterface_lib.callbacks:R[write to console]: =\n",
            "WARNING:rpy2.rinterface_lib.callbacks:R[write to console]: =\n",
            "WARNING:rpy2.rinterface_lib.callbacks:R[write to console]: =\n",
            "WARNING:rpy2.rinterface_lib.callbacks:R[write to console]: =\n",
            "WARNING:rpy2.rinterface_lib.callbacks:R[write to console]: =\n",
            "WARNING:rpy2.rinterface_lib.callbacks:R[write to console]: =\n",
            "WARNING:rpy2.rinterface_lib.callbacks:R[write to console]: =\n",
            "WARNING:rpy2.rinterface_lib.callbacks:R[write to console]: =\n",
            "WARNING:rpy2.rinterface_lib.callbacks:R[write to console]: =\n",
            "WARNING:rpy2.rinterface_lib.callbacks:R[write to console]: =\n",
            "WARNING:rpy2.rinterface_lib.callbacks:R[write to console]: =\n",
            "WARNING:rpy2.rinterface_lib.callbacks:R[write to console]: =\n",
            "WARNING:rpy2.rinterface_lib.callbacks:R[write to console]: =\n",
            "WARNING:rpy2.rinterface_lib.callbacks:R[write to console]: =\n",
            "WARNING:rpy2.rinterface_lib.callbacks:R[write to console]: =\n",
            "WARNING:rpy2.rinterface_lib.callbacks:R[write to console]: =\n",
            "WARNING:rpy2.rinterface_lib.callbacks:R[write to console]: =\n",
            "WARNING:rpy2.rinterface_lib.callbacks:R[write to console]: =\n",
            "WARNING:rpy2.rinterface_lib.callbacks:R[write to console]: =\n",
            "WARNING:rpy2.rinterface_lib.callbacks:R[write to console]: =\n",
            "WARNING:rpy2.rinterface_lib.callbacks:R[write to console]: =\n",
            "WARNING:rpy2.rinterface_lib.callbacks:R[write to console]: =\n",
            "WARNING:rpy2.rinterface_lib.callbacks:R[write to console]: =\n",
            "WARNING:rpy2.rinterface_lib.callbacks:R[write to console]: =\n",
            "WARNING:rpy2.rinterface_lib.callbacks:R[write to console]: =\n",
            "WARNING:rpy2.rinterface_lib.callbacks:R[write to console]: =\n",
            "WARNING:rpy2.rinterface_lib.callbacks:R[write to console]: =\n",
            "WARNING:rpy2.rinterface_lib.callbacks:R[write to console]: \n",
            "\n",
            "WARNING:rpy2.rinterface_lib.callbacks:R[write to console]: downloaded 1009 KB\n",
            "\n",
            "\n",
            "WARNING:rpy2.rinterface_lib.callbacks:R[write to console]: trying URL 'https://cran.rstudio.com/src/contrib/stringdist_0.9.8.tar.gz'\n",
            "\n",
            "WARNING:rpy2.rinterface_lib.callbacks:R[write to console]: Content type 'application/x-gzip'\n",
            "WARNING:rpy2.rinterface_lib.callbacks:R[write to console]:  length 840199 bytes (820 KB)\n",
            "\n",
            "WARNING:rpy2.rinterface_lib.callbacks:R[write to console]: =\n",
            "WARNING:rpy2.rinterface_lib.callbacks:R[write to console]: =\n",
            "WARNING:rpy2.rinterface_lib.callbacks:R[write to console]: =\n",
            "WARNING:rpy2.rinterface_lib.callbacks:R[write to console]: =\n",
            "WARNING:rpy2.rinterface_lib.callbacks:R[write to console]: =\n",
            "WARNING:rpy2.rinterface_lib.callbacks:R[write to console]: =\n",
            "WARNING:rpy2.rinterface_lib.callbacks:R[write to console]: =\n",
            "WARNING:rpy2.rinterface_lib.callbacks:R[write to console]: =\n",
            "WARNING:rpy2.rinterface_lib.callbacks:R[write to console]: =\n",
            "WARNING:rpy2.rinterface_lib.callbacks:R[write to console]: =\n",
            "WARNING:rpy2.rinterface_lib.callbacks:R[write to console]: =\n",
            "WARNING:rpy2.rinterface_lib.callbacks:R[write to console]: =\n",
            "WARNING:rpy2.rinterface_lib.callbacks:R[write to console]: =\n",
            "WARNING:rpy2.rinterface_lib.callbacks:R[write to console]: =\n",
            "WARNING:rpy2.rinterface_lib.callbacks:R[write to console]: =\n",
            "WARNING:rpy2.rinterface_lib.callbacks:R[write to console]: =\n",
            "WARNING:rpy2.rinterface_lib.callbacks:R[write to console]: =\n",
            "WARNING:rpy2.rinterface_lib.callbacks:R[write to console]: =\n",
            "WARNING:rpy2.rinterface_lib.callbacks:R[write to console]: =\n",
            "WARNING:rpy2.rinterface_lib.callbacks:R[write to console]: =\n",
            "WARNING:rpy2.rinterface_lib.callbacks:R[write to console]: =\n",
            "WARNING:rpy2.rinterface_lib.callbacks:R[write to console]: =\n",
            "WARNING:rpy2.rinterface_lib.callbacks:R[write to console]: =\n",
            "WARNING:rpy2.rinterface_lib.callbacks:R[write to console]: =\n",
            "WARNING:rpy2.rinterface_lib.callbacks:R[write to console]: =\n",
            "WARNING:rpy2.rinterface_lib.callbacks:R[write to console]: =\n",
            "WARNING:rpy2.rinterface_lib.callbacks:R[write to console]: =\n",
            "WARNING:rpy2.rinterface_lib.callbacks:R[write to console]: =\n",
            "WARNING:rpy2.rinterface_lib.callbacks:R[write to console]: =\n",
            "WARNING:rpy2.rinterface_lib.callbacks:R[write to console]: =\n",
            "WARNING:rpy2.rinterface_lib.callbacks:R[write to console]: =\n",
            "WARNING:rpy2.rinterface_lib.callbacks:R[write to console]: =\n",
            "WARNING:rpy2.rinterface_lib.callbacks:R[write to console]: =\n",
            "WARNING:rpy2.rinterface_lib.callbacks:R[write to console]: =\n",
            "WARNING:rpy2.rinterface_lib.callbacks:R[write to console]: =\n",
            "WARNING:rpy2.rinterface_lib.callbacks:R[write to console]: =\n",
            "WARNING:rpy2.rinterface_lib.callbacks:R[write to console]: =\n",
            "WARNING:rpy2.rinterface_lib.callbacks:R[write to console]: =\n",
            "WARNING:rpy2.rinterface_lib.callbacks:R[write to console]: =\n",
            "WARNING:rpy2.rinterface_lib.callbacks:R[write to console]: =\n",
            "WARNING:rpy2.rinterface_lib.callbacks:R[write to console]: =\n",
            "WARNING:rpy2.rinterface_lib.callbacks:R[write to console]: =\n",
            "WARNING:rpy2.rinterface_lib.callbacks:R[write to console]: =\n",
            "WARNING:rpy2.rinterface_lib.callbacks:R[write to console]: =\n",
            "WARNING:rpy2.rinterface_lib.callbacks:R[write to console]: =\n",
            "WARNING:rpy2.rinterface_lib.callbacks:R[write to console]: =\n",
            "WARNING:rpy2.rinterface_lib.callbacks:R[write to console]: =\n",
            "WARNING:rpy2.rinterface_lib.callbacks:R[write to console]: =\n",
            "WARNING:rpy2.rinterface_lib.callbacks:R[write to console]: =\n",
            "WARNING:rpy2.rinterface_lib.callbacks:R[write to console]: =\n",
            "WARNING:rpy2.rinterface_lib.callbacks:R[write to console]: \n",
            "\n",
            "WARNING:rpy2.rinterface_lib.callbacks:R[write to console]: downloaded 820 KB\n",
            "\n",
            "\n",
            "WARNING:rpy2.rinterface_lib.callbacks:R[write to console]: trying URL 'https://cran.rstudio.com/src/contrib/geosphere_1.5-14.tar.gz'\n",
            "\n",
            "WARNING:rpy2.rinterface_lib.callbacks:R[write to console]: Content type 'application/x-gzip'\n",
            "WARNING:rpy2.rinterface_lib.callbacks:R[write to console]:  length 797724 bytes (779 KB)\n",
            "\n",
            "WARNING:rpy2.rinterface_lib.callbacks:R[write to console]: =\n",
            "WARNING:rpy2.rinterface_lib.callbacks:R[write to console]: =\n",
            "WARNING:rpy2.rinterface_lib.callbacks:R[write to console]: =\n",
            "WARNING:rpy2.rinterface_lib.callbacks:R[write to console]: =\n",
            "WARNING:rpy2.rinterface_lib.callbacks:R[write to console]: =\n",
            "WARNING:rpy2.rinterface_lib.callbacks:R[write to console]: =\n",
            "WARNING:rpy2.rinterface_lib.callbacks:R[write to console]: =\n",
            "WARNING:rpy2.rinterface_lib.callbacks:R[write to console]: =\n",
            "WARNING:rpy2.rinterface_lib.callbacks:R[write to console]: =\n",
            "WARNING:rpy2.rinterface_lib.callbacks:R[write to console]: =\n",
            "WARNING:rpy2.rinterface_lib.callbacks:R[write to console]: =\n",
            "WARNING:rpy2.rinterface_lib.callbacks:R[write to console]: =\n",
            "WARNING:rpy2.rinterface_lib.callbacks:R[write to console]: =\n",
            "WARNING:rpy2.rinterface_lib.callbacks:R[write to console]: =\n",
            "WARNING:rpy2.rinterface_lib.callbacks:R[write to console]: =\n",
            "WARNING:rpy2.rinterface_lib.callbacks:R[write to console]: =\n",
            "WARNING:rpy2.rinterface_lib.callbacks:R[write to console]: =\n",
            "WARNING:rpy2.rinterface_lib.callbacks:R[write to console]: =\n",
            "WARNING:rpy2.rinterface_lib.callbacks:R[write to console]: =\n",
            "WARNING:rpy2.rinterface_lib.callbacks:R[write to console]: =\n",
            "WARNING:rpy2.rinterface_lib.callbacks:R[write to console]: =\n",
            "WARNING:rpy2.rinterface_lib.callbacks:R[write to console]: =\n",
            "WARNING:rpy2.rinterface_lib.callbacks:R[write to console]: =\n",
            "WARNING:rpy2.rinterface_lib.callbacks:R[write to console]: =\n",
            "WARNING:rpy2.rinterface_lib.callbacks:R[write to console]: =\n",
            "WARNING:rpy2.rinterface_lib.callbacks:R[write to console]: =\n",
            "WARNING:rpy2.rinterface_lib.callbacks:R[write to console]: =\n",
            "WARNING:rpy2.rinterface_lib.callbacks:R[write to console]: =\n",
            "WARNING:rpy2.rinterface_lib.callbacks:R[write to console]: =\n",
            "WARNING:rpy2.rinterface_lib.callbacks:R[write to console]: =\n",
            "WARNING:rpy2.rinterface_lib.callbacks:R[write to console]: =\n",
            "WARNING:rpy2.rinterface_lib.callbacks:R[write to console]: =\n",
            "WARNING:rpy2.rinterface_lib.callbacks:R[write to console]: =\n",
            "WARNING:rpy2.rinterface_lib.callbacks:R[write to console]: =\n",
            "WARNING:rpy2.rinterface_lib.callbacks:R[write to console]: =\n",
            "WARNING:rpy2.rinterface_lib.callbacks:R[write to console]: =\n",
            "WARNING:rpy2.rinterface_lib.callbacks:R[write to console]: =\n",
            "WARNING:rpy2.rinterface_lib.callbacks:R[write to console]: =\n",
            "WARNING:rpy2.rinterface_lib.callbacks:R[write to console]: =\n",
            "WARNING:rpy2.rinterface_lib.callbacks:R[write to console]: =\n",
            "WARNING:rpy2.rinterface_lib.callbacks:R[write to console]: =\n",
            "WARNING:rpy2.rinterface_lib.callbacks:R[write to console]: =\n",
            "WARNING:rpy2.rinterface_lib.callbacks:R[write to console]: =\n",
            "WARNING:rpy2.rinterface_lib.callbacks:R[write to console]: =\n",
            "WARNING:rpy2.rinterface_lib.callbacks:R[write to console]: =\n",
            "WARNING:rpy2.rinterface_lib.callbacks:R[write to console]: =\n",
            "WARNING:rpy2.rinterface_lib.callbacks:R[write to console]: =\n",
            "WARNING:rpy2.rinterface_lib.callbacks:R[write to console]: =\n",
            "WARNING:rpy2.rinterface_lib.callbacks:R[write to console]: =\n",
            "WARNING:rpy2.rinterface_lib.callbacks:R[write to console]: =\n",
            "WARNING:rpy2.rinterface_lib.callbacks:R[write to console]: \n",
            "\n",
            "WARNING:rpy2.rinterface_lib.callbacks:R[write to console]: downloaded 779 KB\n",
            "\n",
            "\n",
            "WARNING:rpy2.rinterface_lib.callbacks:R[write to console]: trying URL 'https://cran.rstudio.com/src/contrib/fuzzyjoin_0.1.6.tar.gz'\n",
            "\n",
            "WARNING:rpy2.rinterface_lib.callbacks:R[write to console]: Content type 'application/x-gzip'\n",
            "WARNING:rpy2.rinterface_lib.callbacks:R[write to console]:  length 104236 bytes (101 KB)\n",
            "\n",
            "WARNING:rpy2.rinterface_lib.callbacks:R[write to console]: =\n",
            "WARNING:rpy2.rinterface_lib.callbacks:R[write to console]: =\n",
            "WARNING:rpy2.rinterface_lib.callbacks:R[write to console]: =\n",
            "WARNING:rpy2.rinterface_lib.callbacks:R[write to console]: =\n",
            "WARNING:rpy2.rinterface_lib.callbacks:R[write to console]: =\n",
            "WARNING:rpy2.rinterface_lib.callbacks:R[write to console]: =\n",
            "WARNING:rpy2.rinterface_lib.callbacks:R[write to console]: =\n",
            "WARNING:rpy2.rinterface_lib.callbacks:R[write to console]: =\n",
            "WARNING:rpy2.rinterface_lib.callbacks:R[write to console]: =\n",
            "WARNING:rpy2.rinterface_lib.callbacks:R[write to console]: =\n",
            "WARNING:rpy2.rinterface_lib.callbacks:R[write to console]: =\n",
            "WARNING:rpy2.rinterface_lib.callbacks:R[write to console]: =\n",
            "WARNING:rpy2.rinterface_lib.callbacks:R[write to console]: =\n",
            "WARNING:rpy2.rinterface_lib.callbacks:R[write to console]: =\n",
            "WARNING:rpy2.rinterface_lib.callbacks:R[write to console]: =\n",
            "WARNING:rpy2.rinterface_lib.callbacks:R[write to console]: =\n",
            "WARNING:rpy2.rinterface_lib.callbacks:R[write to console]: =\n",
            "WARNING:rpy2.rinterface_lib.callbacks:R[write to console]: =\n",
            "WARNING:rpy2.rinterface_lib.callbacks:R[write to console]: =\n",
            "WARNING:rpy2.rinterface_lib.callbacks:R[write to console]: =\n",
            "WARNING:rpy2.rinterface_lib.callbacks:R[write to console]: =\n",
            "WARNING:rpy2.rinterface_lib.callbacks:R[write to console]: =\n",
            "WARNING:rpy2.rinterface_lib.callbacks:R[write to console]: =\n",
            "WARNING:rpy2.rinterface_lib.callbacks:R[write to console]: =\n",
            "WARNING:rpy2.rinterface_lib.callbacks:R[write to console]: =\n",
            "WARNING:rpy2.rinterface_lib.callbacks:R[write to console]: =\n",
            "WARNING:rpy2.rinterface_lib.callbacks:R[write to console]: =\n",
            "WARNING:rpy2.rinterface_lib.callbacks:R[write to console]: =\n",
            "WARNING:rpy2.rinterface_lib.callbacks:R[write to console]: =\n",
            "WARNING:rpy2.rinterface_lib.callbacks:R[write to console]: =\n",
            "WARNING:rpy2.rinterface_lib.callbacks:R[write to console]: =\n",
            "WARNING:rpy2.rinterface_lib.callbacks:R[write to console]: =\n",
            "WARNING:rpy2.rinterface_lib.callbacks:R[write to console]: =\n",
            "WARNING:rpy2.rinterface_lib.callbacks:R[write to console]: =\n",
            "WARNING:rpy2.rinterface_lib.callbacks:R[write to console]: =\n",
            "WARNING:rpy2.rinterface_lib.callbacks:R[write to console]: =\n",
            "WARNING:rpy2.rinterface_lib.callbacks:R[write to console]: =\n",
            "WARNING:rpy2.rinterface_lib.callbacks:R[write to console]: =\n",
            "WARNING:rpy2.rinterface_lib.callbacks:R[write to console]: =\n",
            "WARNING:rpy2.rinterface_lib.callbacks:R[write to console]: =\n",
            "WARNING:rpy2.rinterface_lib.callbacks:R[write to console]: =\n",
            "WARNING:rpy2.rinterface_lib.callbacks:R[write to console]: =\n",
            "WARNING:rpy2.rinterface_lib.callbacks:R[write to console]: =\n",
            "WARNING:rpy2.rinterface_lib.callbacks:R[write to console]: =\n",
            "WARNING:rpy2.rinterface_lib.callbacks:R[write to console]: =\n",
            "WARNING:rpy2.rinterface_lib.callbacks:R[write to console]: =\n",
            "WARNING:rpy2.rinterface_lib.callbacks:R[write to console]: =\n",
            "WARNING:rpy2.rinterface_lib.callbacks:R[write to console]: =\n",
            "WARNING:rpy2.rinterface_lib.callbacks:R[write to console]: =\n",
            "WARNING:rpy2.rinterface_lib.callbacks:R[write to console]: =\n",
            "WARNING:rpy2.rinterface_lib.callbacks:R[write to console]: \n",
            "\n",
            "WARNING:rpy2.rinterface_lib.callbacks:R[write to console]: downloaded 101 KB\n",
            "\n",
            "\n",
            "WARNING:rpy2.rinterface_lib.callbacks:R[write to console]: \n",
            "\n",
            "WARNING:rpy2.rinterface_lib.callbacks:R[write to console]: \n",
            "WARNING:rpy2.rinterface_lib.callbacks:R[write to console]: The downloaded source packages are in\n",
            "\t‘/tmp/RtmpfNF24C/downloaded_packages’\n",
            "WARNING:rpy2.rinterface_lib.callbacks:R[write to console]: \n",
            "WARNING:rpy2.rinterface_lib.callbacks:R[write to console]: \n",
            "\n"
          ]
        }
      ],
      "source": [
        "%%R\n",
        "install.packages(\"fuzzyjoin\")\n",
        "library(fuzzyjoin)\n",
        "library(stats)"
      ]
    },
    {
      "cell_type": "code",
      "execution_count": null,
      "metadata": {
        "id": "fsx6AGtBGXwt"
      },
      "outputs": [],
      "source": [
        "%%R\n",
        "#took 3:04 minutes to run\n",
        "testingmerge <- tweetsdf %>% regex_inner_join(shohdadata, by = \"text\")\n",
        "testingmerge <- testingmerge%>%mutate(mention = \"Yes\")\n"
      ]
    },
    {
      "cell_type": "code",
      "source": [
        "%%R\n",
        "nrow(sudatweets)"
      ],
      "metadata": {
        "colab": {
          "base_uri": "https://localhost:8080/"
        },
        "id": "_2UDdEHWMzhW",
        "outputId": "e745b400-67d4-4cbf-9ca9-5d98e227bc08"
      },
      "execution_count": null,
      "outputs": [
        {
          "output_type": "stream",
          "name": "stdout",
          "text": [
            "[1] 150000\n"
          ]
        }
      ]
    },
    {
      "cell_type": "code",
      "execution_count": null,
      "metadata": {
        "id": "ps7yO6udSeD6"
      },
      "outputs": [],
      "source": [
        "%%R\n",
        "colnames(testingmerge)\n",
        "#testingmerge2 <- testingmerge[c(\"X\",\"person.x\", \"mention\")] This is for two names \n",
        "testingmerge2 <- testingmerge[c(\"X\",\"person\", \"mention\")]\n"
      ]
    },
    {
      "cell_type": "code",
      "source": [
        "%%R\n",
        "colnames(testingmerge2)[2] <- \"person\"\n",
        "nrow(testingmerge2)"
      ],
      "metadata": {
        "colab": {
          "base_uri": "https://localhost:8080/"
        },
        "id": "tCLCyd0PlXMI",
        "outputId": "6f16cd75-8447-4a08-8f01-a6e365a595dc"
      },
      "execution_count": null,
      "outputs": [
        {
          "output_type": "stream",
          "name": "stdout",
          "text": [
            "[1] 1189\n"
          ]
        }
      ]
    },
    {
      "cell_type": "code",
      "source": [
        "%%R\n",
        "colnames(shohdadata)[2] <- \"person\"\n",
        "head(shohdadata)"
      ],
      "metadata": {
        "colab": {
          "base_uri": "https://localhost:8080/"
        },
        "id": "ekAWJpHF8UR7",
        "outputId": "cb213a26-2ef1-4bef-cde4-65d7247e62bc"
      },
      "execution_count": null,
      "outputs": [
        {
          "output_type": "stream",
          "name": "stdout",
          "text": [
            "  ID                     person Gender Age Death.location Residence   Injury\n",
            "1  1 محمد محمود فضل المولي سعيد   Male  38       بيست كير   Wilayat طلق ناري\n",
            "2  2            محمد عيسي ماكور   Male  30           بربر   Wilayat طلق ناري\n",
            "3  3       مختار عبدالله صالحين   Male  33          عطبرة   Wilayat طلق ناري\n",
            "4  4           مأمون محمد الخير   Male  40           بربر   Wilayat طلق ناري\n",
            "5  5       عثمان سليمان اللبوتة   Male  30          كريمة   Wilayat طلق ناري\n",
            "6  6              عاصم علي حسين   Male  20          عطبرة   Wilayat طلق ناري\n",
            "  Injury.location Date.of.injury Date.of.Death Marital.status Origional.place\n",
            "1           الرأس       4/6/2019    2019-06-04     متزوج و أب                \n",
            "2           الرأس     20/12/2018    2018-12-20      غير متزوج            Arab\n",
            "3           الصدر      11/4/2019    2019-04-11     متزوج و أب            Arab\n",
            "4    الصدر والبطن     20/12/2018    2018-12-21     متزوج و أب            Arab\n",
            "5           الرأس     20/12/2018    2019-01-01      غير متزوج            Arab\n",
            "6           الرأس     20/12/2018    2018-12-20      غير متزوج            Arab\n",
            "  Political.affiliation                  Other  quere_end\n",
            "1                    No                        2019-06-18\n",
            "2                    No ذوي الاحتياجات الخاصة  2019-01-03\n",
            "3                    No                        2019-04-25\n",
            "4                    No                        2019-01-04\n",
            "5                    No                        2019-01-15\n",
            "6                    No                        2019-01-03\n"
          ]
        }
      ]
    },
    {
      "cell_type": "code",
      "execution_count": null,
      "metadata": {
        "id": "lCeOmGXgUSwn",
        "colab": {
          "base_uri": "https://localhost:8080/"
        },
        "outputId": "fa262a09-aec5-493c-b774-3393ecbd9c18"
      },
      "outputs": [
        {
          "output_type": "stream",
          "name": "stdout",
          "text": [
            "[1] 1913828\n"
          ]
        }
      ],
      "source": [
        "%%R\n",
        "trymerge <-left_join(tweetsdf, testingmerge2, by = c(\"X\", \"person\"))\n",
        "nrow(trymerge)"
      ]
    },
    {
      "cell_type": "code",
      "source": [
        "%%R\n",
        "trymerge[\"mention\"][is.na(trymerge[\"mention\"])] <- \"No\""
      ],
      "metadata": {
        "id": "xD6qfHv68sTQ"
      },
      "execution_count": null,
      "outputs": []
    },
    {
      "cell_type": "code",
      "source": [
        "%%R\n",
        "table(trymerge$mention)"
      ],
      "metadata": {
        "colab": {
          "base_uri": "https://localhost:8080/"
        },
        "id": "SXfp-Z3Z9Pz1",
        "outputId": "2a0a0b14-1627-4b61-a994-866c6fcc81c9"
      },
      "execution_count": null,
      "outputs": [
        {
          "output_type": "stream",
          "name": "stdout",
          "text": [
            "\n",
            "     No     Yes \n",
            "1912635    1193 \n"
          ]
        }
      ]
    },
    {
      "cell_type": "code",
      "source": [
        "%%R\n",
        "trymerge2 <- sudatweets %>% regex_inner_join(shohdadata, by = \"text\")"
      ],
      "metadata": {
        "id": "HvCZzbq2I9VV"
      },
      "execution_count": null,
      "outputs": []
    },
    {
      "cell_type": "code",
      "source": [
        ""
      ],
      "metadata": {
        "colab": {
          "base_uri": "https://localhost:8080/"
        },
        "id": "9P-QoPeTKe39",
        "outputId": "e021bf8d-394b-4871-e135-e5ebd41e8efd"
      },
      "execution_count": null,
      "outputs": [
        {
          "output_type": "stream",
          "name": "stdout",
          "text": [
            "[1] 185\n"
          ]
        }
      ]
    },
    {
      "cell_type": "code",
      "source": [
        ""
      ],
      "metadata": {
        "id": "FbUSgKD606gx"
      },
      "execution_count": null,
      "outputs": []
    },
    {
      "cell_type": "code",
      "source": [
        "%%R\n",
        "colnames(shohdadata)[2] <- \"person\""
      ],
      "metadata": {
        "id": "qV8DHWlC9U6l"
      },
      "execution_count": null,
      "outputs": []
    },
    {
      "cell_type": "code",
      "source": [
        "%%R\n",
        "trymerge <- left_join(trymerge, shohdadata, by = \"person\")"
      ],
      "metadata": {
        "id": "tGXbX-U--Tlf"
      },
      "execution_count": null,
      "outputs": []
    },
    {
      "cell_type": "code",
      "source": [
        "%%R\n",
        "library(nnet)\n",
        "colnames(trymerge)"
      ],
      "metadata": {
        "id": "tSHBq-qK-uht",
        "colab": {
          "base_uri": "https://localhost:8080/"
        },
        "outputId": "58906ee8-bf63-415a-ecfc-0e61077542b1"
      },
      "execution_count": null,
      "outputs": [
        {
          "output_type": "stream",
          "name": "stdout",
          "text": [
            " [1] \"Text\"                  \"Discourse\"             \"X\"                    \n",
            " [4] \"author_id\"             \"username\"              \"author_followers\"     \n",
            " [7] \"author_tweets\"         \"author_description\"    \"author_location\"      \n",
            "[10] \"text\"                  \"created_at\"            \"retweets\"             \n",
            "[13] \"replies\"               \"likes\"                 \"quote_count\"          \n",
            "[16] \"tweet_time\"            \"person\"                \"mention\"              \n",
            "[19] \"ID\"                    \"Gender\"                \"Age\"                  \n",
            "[22] \"Death.location\"        \"Residence\"             \"Injury\"               \n",
            "[25] \"Injury.location\"       \"Date.of.injury\"        \"Date.of.Death\"        \n",
            "[28] \"Marital.status\"        \"Origional.place\"       \"Political.affiliation\"\n",
            "[31] \"Other\"                 \"quere_end\"            \n"
          ]
        }
      ]
    },
    {
      "cell_type": "code",
      "source": [
        "%%R\n",
        "trymerge <- trymerge%>%mutate(agedummy = case_when(Age <= 30 ~ \"Youth\", Age > 30 ~ \"old\") )"
      ],
      "metadata": {
        "id": "dioCsCGb_vel"
      },
      "execution_count": null,
      "outputs": []
    },
    {
      "cell_type": "code",
      "source": [
        "%%R\n",
        "trymerge$Residence <- gsub(\"Wilayat\", \"outsidekhartoum\", trymerge$Residence)"
      ],
      "metadata": {
        "id": "JTeZ6I6Y6O6N"
      },
      "execution_count": null,
      "outputs": []
    },
    {
      "cell_type": "code",
      "source": [
        "%%R\n",
        "colnames(trymerge)[29] <- \"Ethnicity\""
      ],
      "metadata": {
        "id": "GD4Y0yG-6hFx"
      },
      "execution_count": null,
      "outputs": []
    },
    {
      "cell_type": "code",
      "source": [
        "%%R\n",
        "#trymerge <- trymerge[complete.cases(trymerge$Origional.place ),]\n",
        "trymerge <- trymerge%>%filter(Ethnicity %in% c(\"African\", \"Arab\"))"
      ],
      "metadata": {
        "id": "9V3O9x5yDHq2"
      },
      "execution_count": null,
      "outputs": []
    },
    {
      "cell_type": "code",
      "source": [
        "%%R\n",
        "m11 <- glm(as.factor(mention) ~Gender+Age+ Political.affiliation+Residence+ Race , data = trymerge, family = \"binomial\")\n",
        "summary(m11)"
      ],
      "metadata": {
        "colab": {
          "base_uri": "https://localhost:8080/"
        },
        "id": "WzmVR6j4R2WX",
        "outputId": "c1757f34-c902-43f0-84c3-9bf2950469a4"
      },
      "execution_count": null,
      "outputs": [
        {
          "output_type": "stream",
          "name": "stdout",
          "text": [
            "\n",
            "Call:\n",
            "glm(formula = as.factor(mention) ~ Gender + Age + Political.affiliation + \n",
            "    Residence + Race, family = \"binomial\", data = trymerge)\n",
            "\n",
            "Deviance Residuals: \n",
            "    Min       1Q   Median       3Q      Max  \n",
            "-0.0707  -0.0526  -0.0364  -0.0303   4.0691  \n",
            "\n",
            "Coefficients:\n",
            "                          Estimate Std. Error z value Pr(>|z|)    \n",
            "(Intercept)              -7.122111   0.302107 -23.575  < 2e-16 ***\n",
            "GenderMale                0.242630   0.278653   0.871 0.383905    \n",
            "Age                       0.017424   0.002999   5.810 6.25e-09 ***\n",
            "Political.affiliationyes -0.505320   0.135038  -3.742 0.000183 ***\n",
            "Residenceoutsidekhartoum -1.085943   0.078733 -13.793  < 2e-16 ***\n",
            "RaceArab                 -0.156360   0.076993  -2.031 0.042270 *  \n",
            "---\n",
            "Signif. codes:  0 ‘***’ 0.001 ‘**’ 0.01 ‘*’ 0.05 ‘.’ 0.1 ‘ ’ 1\n",
            "\n",
            "(Dispersion parameter for binomial family taken to be 1)\n",
            "\n",
            "    Null deviance: 13643  on 948789  degrees of freedom\n",
            "Residual deviance: 13373  on 948784  degrees of freedom\n",
            "AIC: 13385\n",
            "\n",
            "Number of Fisher Scoring iterations: 10\n",
            "\n"
          ]
        }
      ]
    },
    {
      "cell_type": "code",
      "source": [
        "%%R\n",
        "trymerge = trymerge%>% mutate(mention.factor = as.factor(mention))\n",
        "trymerge = trymerge %>% mutate(mention.ref = relevel(mention.factor, ref = \"Yes\"))\n",
        "class(trymerge$mention.factor)"
      ],
      "metadata": {
        "colab": {
          "base_uri": "https://localhost:8080/"
        },
        "id": "t9RUbcI-G0M_",
        "outputId": "f560742a-13cf-4975-c4b7-46acc2d3b841"
      },
      "execution_count": null,
      "outputs": [
        {
          "output_type": "stream",
          "name": "stdout",
          "text": [
            "[1] \"factor\"\n"
          ]
        }
      ]
    },
    {
      "cell_type": "code",
      "source": [
        "%%R\n",
        "m12 <- glm(mention.ref ~Gender+Age+ Political.affiliation+Residence+ Ethnicity , data = trymerge, family = \"binomial\")\n",
        "summary(m12)"
      ],
      "metadata": {
        "colab": {
          "base_uri": "https://localhost:8080/"
        },
        "id": "fiFxM--FHko1",
        "outputId": "b6a52b60-f9fd-46b8-9a95-acf1379f2be9"
      },
      "execution_count": null,
      "outputs": [
        {
          "output_type": "stream",
          "name": "stdout",
          "text": [
            "\n",
            "Call:\n",
            "glm(formula = mention.ref ~ Gender + Age + Political.affiliation + \n",
            "    Residence + Ethnicity, family = \"binomial\", data = trymerge)\n",
            "\n",
            "Deviance Residuals: \n",
            "    Min       1Q   Median       3Q      Max  \n",
            "-4.0691   0.0303   0.0364   0.0526   0.0707  \n",
            "\n",
            "Coefficients:\n",
            "                          Estimate Std. Error z value Pr(>|z|)    \n",
            "(Intercept)               7.122111   0.302107  23.575  < 2e-16 ***\n",
            "GenderMale               -0.242630   0.278653  -0.871 0.383905    \n",
            "Age                      -0.017424   0.002999  -5.810 6.25e-09 ***\n",
            "Political.affiliationyes  0.505320   0.135038   3.742 0.000183 ***\n",
            "Residenceoutsidekhartoum  1.085943   0.078733  13.793  < 2e-16 ***\n",
            "EthnicityArab             0.156360   0.076993   2.031 0.042270 *  \n",
            "---\n",
            "Signif. codes:  0 ‘***’ 0.001 ‘**’ 0.01 ‘*’ 0.05 ‘.’ 0.1 ‘ ’ 1\n",
            "\n",
            "(Dispersion parameter for binomial family taken to be 1)\n",
            "\n",
            "    Null deviance: 13643  on 948789  degrees of freedom\n",
            "Residual deviance: 13373  on 948784  degrees of freedom\n",
            "AIC: 13385\n",
            "\n",
            "Number of Fisher Scoring iterations: 10\n",
            "\n"
          ]
        }
      ]
    },
    {
      "cell_type": "code",
      "source": [
        "%%R\n",
        "install.packages(\"pscl\")"
      ],
      "metadata": {
        "colab": {
          "base_uri": "https://localhost:8080/"
        },
        "id": "7bIgZ6G_EHaB",
        "outputId": "3765f063-ac7a-4e28-ddd8-ed63c5178691"
      },
      "execution_count": null,
      "outputs": [
        {
          "output_type": "stream",
          "name": "stderr",
          "text": [
            "WARNING:rpy2.rinterface_lib.callbacks:R[write to console]: Installing package into ‘/usr/local/lib/R/site-library’\n",
            "(as ‘lib’ is unspecified)\n",
            "\n",
            "WARNING:rpy2.rinterface_lib.callbacks:R[write to console]: trying URL 'https://cran.rstudio.com/src/contrib/pscl_1.5.5.tar.gz'\n",
            "\n",
            "WARNING:rpy2.rinterface_lib.callbacks:R[write to console]: Content type 'application/x-gzip'\n",
            "WARNING:rpy2.rinterface_lib.callbacks:R[write to console]:  length 3170945 bytes (3.0 MB)\n",
            "\n",
            "WARNING:rpy2.rinterface_lib.callbacks:R[write to console]: =\n",
            "WARNING:rpy2.rinterface_lib.callbacks:R[write to console]: =\n",
            "WARNING:rpy2.rinterface_lib.callbacks:R[write to console]: =\n",
            "WARNING:rpy2.rinterface_lib.callbacks:R[write to console]: =\n",
            "WARNING:rpy2.rinterface_lib.callbacks:R[write to console]: =\n",
            "WARNING:rpy2.rinterface_lib.callbacks:R[write to console]: =\n",
            "WARNING:rpy2.rinterface_lib.callbacks:R[write to console]: =\n",
            "WARNING:rpy2.rinterface_lib.callbacks:R[write to console]: =\n",
            "WARNING:rpy2.rinterface_lib.callbacks:R[write to console]: =\n",
            "WARNING:rpy2.rinterface_lib.callbacks:R[write to console]: =\n",
            "WARNING:rpy2.rinterface_lib.callbacks:R[write to console]: =\n",
            "WARNING:rpy2.rinterface_lib.callbacks:R[write to console]: =\n",
            "WARNING:rpy2.rinterface_lib.callbacks:R[write to console]: =\n",
            "WARNING:rpy2.rinterface_lib.callbacks:R[write to console]: =\n",
            "WARNING:rpy2.rinterface_lib.callbacks:R[write to console]: =\n",
            "WARNING:rpy2.rinterface_lib.callbacks:R[write to console]: =\n",
            "WARNING:rpy2.rinterface_lib.callbacks:R[write to console]: =\n",
            "WARNING:rpy2.rinterface_lib.callbacks:R[write to console]: =\n",
            "WARNING:rpy2.rinterface_lib.callbacks:R[write to console]: =\n",
            "WARNING:rpy2.rinterface_lib.callbacks:R[write to console]: =\n",
            "WARNING:rpy2.rinterface_lib.callbacks:R[write to console]: =\n",
            "WARNING:rpy2.rinterface_lib.callbacks:R[write to console]: =\n",
            "WARNING:rpy2.rinterface_lib.callbacks:R[write to console]: =\n",
            "WARNING:rpy2.rinterface_lib.callbacks:R[write to console]: =\n",
            "WARNING:rpy2.rinterface_lib.callbacks:R[write to console]: =\n",
            "WARNING:rpy2.rinterface_lib.callbacks:R[write to console]: =\n",
            "WARNING:rpy2.rinterface_lib.callbacks:R[write to console]: =\n",
            "WARNING:rpy2.rinterface_lib.callbacks:R[write to console]: =\n",
            "WARNING:rpy2.rinterface_lib.callbacks:R[write to console]: =\n",
            "WARNING:rpy2.rinterface_lib.callbacks:R[write to console]: =\n",
            "WARNING:rpy2.rinterface_lib.callbacks:R[write to console]: =\n",
            "WARNING:rpy2.rinterface_lib.callbacks:R[write to console]: =\n",
            "WARNING:rpy2.rinterface_lib.callbacks:R[write to console]: =\n",
            "WARNING:rpy2.rinterface_lib.callbacks:R[write to console]: =\n",
            "WARNING:rpy2.rinterface_lib.callbacks:R[write to console]: =\n",
            "WARNING:rpy2.rinterface_lib.callbacks:R[write to console]: =\n",
            "WARNING:rpy2.rinterface_lib.callbacks:R[write to console]: =\n",
            "WARNING:rpy2.rinterface_lib.callbacks:R[write to console]: =\n",
            "WARNING:rpy2.rinterface_lib.callbacks:R[write to console]: =\n",
            "WARNING:rpy2.rinterface_lib.callbacks:R[write to console]: =\n",
            "WARNING:rpy2.rinterface_lib.callbacks:R[write to console]: =\n",
            "WARNING:rpy2.rinterface_lib.callbacks:R[write to console]: =\n",
            "WARNING:rpy2.rinterface_lib.callbacks:R[write to console]: =\n",
            "WARNING:rpy2.rinterface_lib.callbacks:R[write to console]: =\n",
            "WARNING:rpy2.rinterface_lib.callbacks:R[write to console]: =\n",
            "WARNING:rpy2.rinterface_lib.callbacks:R[write to console]: =\n",
            "WARNING:rpy2.rinterface_lib.callbacks:R[write to console]: =\n",
            "WARNING:rpy2.rinterface_lib.callbacks:R[write to console]: =\n",
            "WARNING:rpy2.rinterface_lib.callbacks:R[write to console]: =\n",
            "WARNING:rpy2.rinterface_lib.callbacks:R[write to console]: =\n",
            "WARNING:rpy2.rinterface_lib.callbacks:R[write to console]: \n",
            "\n",
            "WARNING:rpy2.rinterface_lib.callbacks:R[write to console]: downloaded 3.0 MB\n",
            "\n",
            "\n",
            "WARNING:rpy2.rinterface_lib.callbacks:R[write to console]: \n",
            "\n",
            "WARNING:rpy2.rinterface_lib.callbacks:R[write to console]: \n",
            "WARNING:rpy2.rinterface_lib.callbacks:R[write to console]: The downloaded source packages are in\n",
            "\t‘/tmp/RtmpSbY4xC/downloaded_packages’\n",
            "WARNING:rpy2.rinterface_lib.callbacks:R[write to console]: \n",
            "WARNING:rpy2.rinterface_lib.callbacks:R[write to console]: \n",
            "\n"
          ]
        }
      ]
    },
    {
      "cell_type": "code",
      "source": [
        "%%R\n",
        "library(pscl)\n",
        "pR2(m13)\n",
        "#1.980199e-02 for m12\n",
        "#2.154723e-02 for m13"
      ],
      "metadata": {
        "colab": {
          "base_uri": "https://localhost:8080/"
        },
        "id": "wZKXwM7SDVbv",
        "outputId": "6bebd322-5168-4d9a-9ca6-902d5df6c9b5"
      },
      "execution_count": null,
      "outputs": [
        {
          "output_type": "stream",
          "name": "stdout",
          "text": [
            "fitting null model for pseudo-r2\n",
            "          llh       llhNull            G2      McFadden          r2ML \n",
            "-6.674697e+03 -6.821686e+03  2.939769e+02  2.154723e-02  3.097960e-04 \n",
            "         r2CU \n",
            " 2.169916e-02 \n"
          ]
        }
      ]
    },
    {
      "cell_type": "code",
      "source": [
        "%%R\n",
        "m13 <- glm(mention.ref ~Gender+Age+ Political.affiliation+Residence+ Ethnicity+ Residence*Ethnicity , data = trymerge, family = \"binomial\")\n",
        "summary(m13)"
      ],
      "metadata": {
        "colab": {
          "base_uri": "https://localhost:8080/"
        },
        "id": "vfPu1kKtDgXd",
        "outputId": "f2fde88f-6d0b-4d01-bfc0-9f20323534f0"
      },
      "execution_count": null,
      "outputs": [
        {
          "output_type": "stream",
          "name": "stdout",
          "text": [
            "\n",
            "Call:\n",
            "glm(formula = mention.ref ~ Gender + Age + Political.affiliation + \n",
            "    Residence + Ethnicity + Residence * Ethnicity, family = \"binomial\", \n",
            "    data = trymerge)\n",
            "\n",
            "Deviance Residuals: \n",
            "    Min       1Q   Median       3Q      Max  \n",
            "-4.0598   0.0305   0.0374   0.0508   0.0686  \n",
            "\n",
            "Coefficients:\n",
            "                                        Estimate Std. Error z value Pr(>|z|)\n",
            "(Intercept)                             6.949646   0.302902  22.944  < 2e-16\n",
            "GenderMale                             -0.203041   0.278487  -0.729    0.466\n",
            "Age                                    -0.017623   0.003014  -5.848 4.99e-09\n",
            "Political.affiliationyes                0.525788   0.134928   3.897 9.75e-05\n",
            "Residenceoutsidekhartoum                1.740972   0.169791  10.254  < 2e-16\n",
            "EthnicityArab                           0.362851   0.086639   4.188 2.81e-05\n",
            "Residenceoutsidekhartoum:EthnicityArab -0.880189   0.189984  -4.633 3.60e-06\n",
            "                                          \n",
            "(Intercept)                            ***\n",
            "GenderMale                                \n",
            "Age                                    ***\n",
            "Political.affiliationyes               ***\n",
            "Residenceoutsidekhartoum               ***\n",
            "EthnicityArab                          ***\n",
            "Residenceoutsidekhartoum:EthnicityArab ***\n",
            "---\n",
            "Signif. codes:  0 ‘***’ 0.001 ‘**’ 0.01 ‘*’ 0.05 ‘.’ 0.1 ‘ ’ 1\n",
            "\n",
            "(Dispersion parameter for binomial family taken to be 1)\n",
            "\n",
            "    Null deviance: 13643  on 948789  degrees of freedom\n",
            "Residual deviance: 13349  on 948783  degrees of freedom\n",
            "AIC: 13363\n",
            "\n",
            "Number of Fisher Scoring iterations: 10\n",
            "\n"
          ]
        }
      ]
    },
    {
      "cell_type": "code",
      "source": [
        "%%R\n",
        "m12odds <-as.data.frame(exp(coef(m12)))\n",
        "m13odds <-as.data.frame(exp(coef(m13)))"
      ],
      "metadata": {
        "id": "HAPnYox4N4R9"
      },
      "execution_count": null,
      "outputs": []
    },
    {
      "cell_type": "code",
      "source": [
        "%%R\n",
        "colnames(plottingdf)"
      ],
      "metadata": {
        "colab": {
          "base_uri": "https://localhost:8080/"
        },
        "id": "M6YMP741heGi",
        "outputId": "4b21c7e9-807f-443e-ea04-52b3c25c5778"
      },
      "execution_count": null,
      "outputs": [
        {
          "output_type": "stream",
          "name": "stdout",
          "text": [
            " [1] \"X\"                     \"author_id\"             \"username\"             \n",
            " [4] \"author_followers\"      \"author_tweets\"         \"author_description\"   \n",
            " [7] \"author_location\"       \"text\"                  \"created_at\"           \n",
            "[10] \"retweets\"              \"replies\"               \"likes\"                \n",
            "[13] \"quote_count\"           \"tweet_time\"            \"person\"               \n",
            "[16] \"mention\"               \"ID\"                    \"Gender\"               \n",
            "[19] \"Age\"                   \"Death.location\"        \"Residence\"            \n",
            "[22] \"Injury\"                \"Injury.location\"       \"Date.of.injury\"       \n",
            "[25] \"Date.of.Death\"         \"Marital.status\"        \"Race\"                 \n",
            "[28] \"Political.affiliation\" \"Other\"                 \"quere_end\"            \n",
            "[31] \"mention.factor\"        \"mention.ref\"           \"Month\"                \n",
            "[34] \"month\"                \n"
          ]
        }
      ]
    },
    {
      "cell_type": "code",
      "source": [
        "%%R\n",
        "library(ggplot2)\n",
        "library(tidyverse)\n",
        "plottingdf <- trymerge%>%dplyr::filter(mention == \"Yes\")\n"
      ],
      "metadata": {
        "id": "pwI8IhfTQB9f"
      },
      "execution_count": null,
      "outputs": []
    },
    {
      "cell_type": "code",
      "source": [
        "%%R\n",
        "library(lubridate)\n",
        "plottingdf$month = format(as.Date(plottingdf$created_at), \"%y-%m\")\n",
        "#class(plottingdf$created_at)\n",
        "table(plottingdf$month)"
      ],
      "metadata": {
        "colab": {
          "base_uri": "https://localhost:8080/"
        },
        "id": "h5M-tpAOfxJz",
        "outputId": "5a21a4ce-1574-4623-be97-bfdc68a9f662"
      },
      "execution_count": null,
      "outputs": [
        {
          "output_type": "stream",
          "name": "stdout",
          "text": [
            "\n",
            "18-12 19-01 19-02 19-03 19-04 19-05 19-06 19-07 \n",
            "   82   460    47     5   116     2    97     9 \n"
          ]
        }
      ]
    },
    {
      "cell_type": "code",
      "source": [
        "%%R\n",
        "ggplot(plt1, aes(x = month, y= num_tweets))+\n",
        "  geom_point(data=subset(plt1, Residence == \"Wilayat\"), aes(color=\"gray40\"), shape=10, size=4)+\n",
        "  geom_point(data=subset(plt1, Residence == \"Khartoum\"), aes(color=\"red\"), shape=10, size=4)+\n",
        "   scale_colour_manual(name = 'Residence', values =c('gray40'='gray40','red'='#E95556'), labels = c('Outside Khartoum','Khartoum'))+\n",
        "  theme(panel.grid.major = element_blank(), panel.grid.minor = element_blank(), \n",
        "        panel.background = element_blank(), axis.line.x = element_line(size=1, colour = \"black\"), \n",
        "        axis.line.y = element_line(size=1, colour = \"black\"), axis.ticks = element_line(size=1), \n",
        "        axis.ticks.length = unit(.15, \"cm\"),  \n",
        "        axis.text=element_text(size=16), \n",
        "        axis.title=element_text(size=18,face=\"bold\"), \n",
        "        legend.title = element_text(colour=\"black\", size=18, face=\"bold\"), \n",
        "        legend.text = element_text(colour=\"black\", size = 16))\n"
      ],
      "metadata": {
        "colab": {
          "base_uri": "https://localhost:8080/",
          "height": 497
        },
        "id": "ywaJw8SDic8p",
        "outputId": "245bef53-fe4f-4717-c303-10bcb240125d"
      },
      "execution_count": null,
      "outputs": [
        {
          "output_type": "display_data",
          "data": {
            "image/png": "[encoded data removed]"
          },
          "metadata": {}
        }
      ]
    },
    {
      "cell_type": "code",
      "source": [
        "%%R\n",
        "colnames(plt1)[14] <- \"Race\""
      ],
      "metadata": {
        "id": "XuRwDYabmSVw"
      },
      "execution_count": null,
      "outputs": []
    },
    {
      "cell_type": "code",
      "source": [
        "%%R\n",
        "ggplot(plt1, aes(x = month, y= num_tweets))+\n",
        "  geom_point(data=subset(plt1, Race == \"Arab\"), aes(color=\"gray40\"), shape=10, size=4)+\n",
        "  geom_point(data=subset(plt1, Race == \"African\"), aes(color=\"red\"), shape=10, size=4)+\n",
        "   scale_colour_manual(name = 'Race', values =c('gray40'='gray40','red'='#E95556'), labels = c('Arab','African'))+\n",
        "  theme(panel.grid.major = element_blank(), panel.grid.minor = element_blank(), \n",
        "        panel.background = element_blank(), axis.line.x = element_line(size=1, colour = \"black\"), \n",
        "        axis.line.y = element_line(size=1, colour = \"black\"), axis.ticks = element_line(size=1), \n",
        "        axis.ticks.length = unit(.15, \"cm\"),  \n",
        "        axis.text=element_text(size=16), \n",
        "        axis.title=element_text(size=18,face=\"bold\"), \n",
        "        legend.title = element_text(colour=\"black\", size=18, face=\"bold\"), \n",
        "        legend.text = element_text(colour=\"black\", size = 16))"
      ],
      "metadata": {
        "colab": {
          "base_uri": "https://localhost:8080/",
          "height": 497
        },
        "id": "AZsmOhFVl5og",
        "outputId": "36cb910c-c7ae-443c-8c23-71067bf46828"
      },
      "execution_count": null,
      "outputs": [
        {
          "output_type": "display_data",
          "data": {
            "image/png": "[encoded data removed]"
          },
          "metadata": {}
        }
      ]
    },
    {
      "cell_type": "code",
      "source": [
        "%%R\n",
        "ggplot(plt1, aes(x = month, y= num_tweets))+\n",
        "  geom_point(data=subset(plt1, Gender == \"Male\"), aes(color=\"gray40\"), shape=10, size=4)+\n",
        "  geom_point(data=subset(plt1, Gender == \"Female\"), aes(color=\"red\"), shape=10, size=4)+\n",
        "   scale_colour_manual(name = 'Gender', values =c('gray40'='gray40','red'='#E95556'), labels = c('Male','Female'))+\n",
        "  theme(panel.grid.major = element_blank(), panel.grid.minor = element_blank(), \n",
        "        panel.background = element_blank(), axis.line.x = element_line(size=1, colour = \"black\"), \n",
        "        axis.line.y = element_line(size=1, colour = \"black\"), axis.ticks = element_line(size=1), \n",
        "        axis.ticks.length = unit(.15, \"cm\"),  \n",
        "        axis.text=element_text(size=16), \n",
        "        axis.title=element_text(size=18,face=\"bold\"), \n",
        "        legend.title = element_text(colour=\"black\", size=18, face=\"bold\"), \n",
        "        legend.text = element_text(colour=\"black\", size = 16))"
      ],
      "metadata": {
        "colab": {
          "base_uri": "https://localhost:8080/",
          "height": 497
        },
        "id": "ZZ-a0gvdmpQB",
        "outputId": "e13bf5da-2471-418c-c7e9-463bdfd14470"
      },
      "execution_count": null,
      "outputs": [
        {
          "output_type": "display_data",
          "data": {
            "image/png": "[encoded data removed]"
          },
          "metadata": {}
        }
      ]
    },
    {
      "cell_type": "code",
      "source": [
        "%%R\n",
        "nrow(trymerge%>%filter(mention == \"Yes\"))"
      ],
      "metadata": {
        "colab": {
          "base_uri": "https://localhost:8080/"
        },
        "id": "-1_gwy6l_P8z",
        "outputId": "93805ab3-c4e1-4ae5-f6d5-16031defcf0d"
      },
      "execution_count": null,
      "outputs": [
        {
          "output_type": "stream",
          "name": "stdout",
          "text": [
            "[1] 818\n"
          ]
        }
      ]
    },
    {
      "cell_type": "code",
      "source": [
        "%%R\n",
        "install.packages(\"writexl\")\n",
        "library(\"writexl\")"
      ],
      "metadata": {
        "colab": {
          "base_uri": "https://localhost:8080/"
        },
        "id": "6aCKQ7dpOz2y",
        "outputId": "8e754a32-dacb-47c8-970a-23e79f8971b2"
      },
      "execution_count": null,
      "outputs": [
        {
          "output_type": "stream",
          "name": "stderr",
          "text": [
            "WARNING:rpy2.rinterface_lib.callbacks:R[write to console]: Installing package into ‘/usr/local/lib/R/site-library’\n",
            "(as ‘lib’ is unspecified)\n",
            "\n",
            "WARNING:rpy2.rinterface_lib.callbacks:R[write to console]: trying URL 'https://cran.rstudio.com/src/contrib/writexl_1.4.0.tar.gz'\n",
            "\n",
            "WARNING:rpy2.rinterface_lib.callbacks:R[write to console]: Content type 'application/x-gzip'\n",
            "WARNING:rpy2.rinterface_lib.callbacks:R[write to console]:  length 258516 bytes (252 KB)\n",
            "\n",
            "WARNING:rpy2.rinterface_lib.callbacks:R[write to console]: =\n",
            "WARNING:rpy2.rinterface_lib.callbacks:R[write to console]: =\n",
            "WARNING:rpy2.rinterface_lib.callbacks:R[write to console]: =\n",
            "WARNING:rpy2.rinterface_lib.callbacks:R[write to console]: =\n",
            "WARNING:rpy2.rinterface_lib.callbacks:R[write to console]: =\n",
            "WARNING:rpy2.rinterface_lib.callbacks:R[write to console]: =\n",
            "WARNING:rpy2.rinterface_lib.callbacks:R[write to console]: =\n",
            "WARNING:rpy2.rinterface_lib.callbacks:R[write to console]: =\n",
            "WARNING:rpy2.rinterface_lib.callbacks:R[write to console]: =\n",
            "WARNING:rpy2.rinterface_lib.callbacks:R[write to console]: =\n",
            "WARNING:rpy2.rinterface_lib.callbacks:R[write to console]: =\n",
            "WARNING:rpy2.rinterface_lib.callbacks:R[write to console]: =\n",
            "WARNING:rpy2.rinterface_lib.callbacks:R[write to console]: =\n",
            "WARNING:rpy2.rinterface_lib.callbacks:R[write to console]: =\n",
            "WARNING:rpy2.rinterface_lib.callbacks:R[write to console]: =\n",
            "WARNING:rpy2.rinterface_lib.callbacks:R[write to console]: =\n",
            "WARNING:rpy2.rinterface_lib.callbacks:R[write to console]: =\n",
            "WARNING:rpy2.rinterface_lib.callbacks:R[write to console]: =\n",
            "WARNING:rpy2.rinterface_lib.callbacks:R[write to console]: =\n",
            "WARNING:rpy2.rinterface_lib.callbacks:R[write to console]: =\n",
            "WARNING:rpy2.rinterface_lib.callbacks:R[write to console]: =\n",
            "WARNING:rpy2.rinterface_lib.callbacks:R[write to console]: =\n",
            "WARNING:rpy2.rinterface_lib.callbacks:R[write to console]: =\n",
            "WARNING:rpy2.rinterface_lib.callbacks:R[write to console]: =\n",
            "WARNING:rpy2.rinterface_lib.callbacks:R[write to console]: =\n",
            "WARNING:rpy2.rinterface_lib.callbacks:R[write to console]: =\n",
            "WARNING:rpy2.rinterface_lib.callbacks:R[write to console]: =\n",
            "WARNING:rpy2.rinterface_lib.callbacks:R[write to console]: =\n",
            "WARNING:rpy2.rinterface_lib.callbacks:R[write to console]: =\n",
            "WARNING:rpy2.rinterface_lib.callbacks:R[write to console]: =\n",
            "WARNING:rpy2.rinterface_lib.callbacks:R[write to console]: =\n",
            "WARNING:rpy2.rinterface_lib.callbacks:R[write to console]: =\n",
            "WARNING:rpy2.rinterface_lib.callbacks:R[write to console]: =\n",
            "WARNING:rpy2.rinterface_lib.callbacks:R[write to console]: =\n",
            "WARNING:rpy2.rinterface_lib.callbacks:R[write to console]: =\n",
            "WARNING:rpy2.rinterface_lib.callbacks:R[write to console]: =\n",
            "WARNING:rpy2.rinterface_lib.callbacks:R[write to console]: =\n",
            "WARNING:rpy2.rinterface_lib.callbacks:R[write to console]: =\n",
            "WARNING:rpy2.rinterface_lib.callbacks:R[write to console]: =\n",
            "WARNING:rpy2.rinterface_lib.callbacks:R[write to console]: =\n",
            "WARNING:rpy2.rinterface_lib.callbacks:R[write to console]: =\n",
            "WARNING:rpy2.rinterface_lib.callbacks:R[write to console]: =\n",
            "WARNING:rpy2.rinterface_lib.callbacks:R[write to console]: =\n",
            "WARNING:rpy2.rinterface_lib.callbacks:R[write to console]: =\n",
            "WARNING:rpy2.rinterface_lib.callbacks:R[write to console]: =\n",
            "WARNING:rpy2.rinterface_lib.callbacks:R[write to console]: =\n",
            "WARNING:rpy2.rinterface_lib.callbacks:R[write to console]: =\n",
            "WARNING:rpy2.rinterface_lib.callbacks:R[write to console]: =\n",
            "WARNING:rpy2.rinterface_lib.callbacks:R[write to console]: =\n",
            "WARNING:rpy2.rinterface_lib.callbacks:R[write to console]: =\n",
            "WARNING:rpy2.rinterface_lib.callbacks:R[write to console]: \n",
            "\n",
            "WARNING:rpy2.rinterface_lib.callbacks:R[write to console]: downloaded 252 KB\n",
            "\n",
            "\n",
            "WARNING:rpy2.rinterface_lib.callbacks:R[write to console]: \n",
            "\n",
            "WARNING:rpy2.rinterface_lib.callbacks:R[write to console]: \n",
            "WARNING:rpy2.rinterface_lib.callbacks:R[write to console]: The downloaded source packages are in\n",
            "\t‘/tmp/RtmpGq4COb/downloaded_packages’\n",
            "WARNING:rpy2.rinterface_lib.callbacks:R[write to console]: \n",
            "WARNING:rpy2.rinterface_lib.callbacks:R[write to console]: \n",
            "\n"
          ]
        }
      ]
    },
    {
      "cell_type": "code",
      "source": [
        "%%R\n",
        "library(ggplot2) \n",
        "install.packages(\"descr\")\n",
        "library(descr) \n",
        "install.packages(\"pander\")\n",
        "library(pander) \n",
        "install.packages(\"texreg\")\n",
        "library(texreg) \n",
        "install.packages(\"MASS\")\n",
        "require(MASS)\n"
      ],
      "metadata": {
        "colab": {
          "base_uri": "https://localhost:8080/"
        },
        "id": "CuOBgLK3y0Ua",
        "outputId": "01814a64-7615-45e8-c706-650f27fd01bd"
      },
      "execution_count": null,
      "outputs": [
        {
          "output_type": "stream",
          "name": "stderr",
          "text": [
            "WARNING:rpy2.rinterface_lib.callbacks:R[write to console]: Installing package into ‘/usr/local/lib/R/site-library’\n",
            "(as ‘lib’ is unspecified)\n",
            "\n",
            "WARNING:rpy2.rinterface_lib.callbacks:R[write to console]: also installing the dependency ‘xtable’\n",
            "\n",
            "\n",
            "WARNING:rpy2.rinterface_lib.callbacks:R[write to console]: trying URL 'https://cran.rstudio.com/src/contrib/xtable_1.8-4.tar.gz'\n",
            "\n",
            "WARNING:rpy2.rinterface_lib.callbacks:R[write to console]: Content type 'application/x-gzip'\n",
            "WARNING:rpy2.rinterface_lib.callbacks:R[write to console]:  length 564589 bytes (551 KB)\n",
            "\n",
            "WARNING:rpy2.rinterface_lib.callbacks:R[write to console]: =\n",
            "WARNING:rpy2.rinterface_lib.callbacks:R[write to console]: =\n",
            "WARNING:rpy2.rinterface_lib.callbacks:R[write to console]: =\n",
            "WARNING:rpy2.rinterface_lib.callbacks:R[write to console]: =\n",
            "WARNING:rpy2.rinterface_lib.callbacks:R[write to console]: =\n",
            "WARNING:rpy2.rinterface_lib.callbacks:R[write to console]: =\n",
            "WARNING:rpy2.rinterface_lib.callbacks:R[write to console]: =\n",
            "WARNING:rpy2.rinterface_lib.callbacks:R[write to console]: =\n",
            "WARNING:rpy2.rinterface_lib.callbacks:R[write to console]: =\n",
            "WARNING:rpy2.rinterface_lib.callbacks:R[write to console]: =\n",
            "WARNING:rpy2.rinterface_lib.callbacks:R[write to console]: =\n",
            "WARNING:rpy2.rinterface_lib.callbacks:R[write to console]: =\n",
            "WARNING:rpy2.rinterface_lib.callbacks:R[write to console]: =\n",
            "WARNING:rpy2.rinterface_lib.callbacks:R[write to console]: =\n",
            "WARNING:rpy2.rinterface_lib.callbacks:R[write to console]: =\n",
            "WARNING:rpy2.rinterface_lib.callbacks:R[write to console]: =\n",
            "WARNING:rpy2.rinterface_lib.callbacks:R[write to console]: =\n",
            "WARNING:rpy2.rinterface_lib.callbacks:R[write to console]: =\n",
            "WARNING:rpy2.rinterface_lib.callbacks:R[write to console]: =\n",
            "WARNING:rpy2.rinterface_lib.callbacks:R[write to console]: =\n",
            "WARNING:rpy2.rinterface_lib.callbacks:R[write to console]: =\n",
            "WARNING:rpy2.rinterface_lib.callbacks:R[write to console]: =\n",
            "WARNING:rpy2.rinterface_lib.callbacks:R[write to console]: =\n",
            "WARNING:rpy2.rinterface_lib.callbacks:R[write to console]: =\n",
            "WARNING:rpy2.rinterface_lib.callbacks:R[write to console]: =\n",
            "WARNING:rpy2.rinterface_lib.callbacks:R[write to console]: =\n",
            "WARNING:rpy2.rinterface_lib.callbacks:R[write to console]: =\n",
            "WARNING:rpy2.rinterface_lib.callbacks:R[write to console]: =\n",
            "WARNING:rpy2.rinterface_lib.callbacks:R[write to console]: =\n",
            "WARNING:rpy2.rinterface_lib.callbacks:R[write to console]: =\n",
            "WARNING:rpy2.rinterface_lib.callbacks:R[write to console]: =\n",
            "WARNING:rpy2.rinterface_lib.callbacks:R[write to console]: =\n",
            "WARNING:rpy2.rinterface_lib.callbacks:R[write to console]: =\n",
            "WARNING:rpy2.rinterface_lib.callbacks:R[write to console]: =\n",
            "WARNING:rpy2.rinterface_lib.callbacks:R[write to console]: =\n",
            "WARNING:rpy2.rinterface_lib.callbacks:R[write to console]: =\n",
            "WARNING:rpy2.rinterface_lib.callbacks:R[write to console]: =\n",
            "WARNING:rpy2.rinterface_lib.callbacks:R[write to console]: =\n",
            "WARNING:rpy2.rinterface_lib.callbacks:R[write to console]: =\n",
            "WARNING:rpy2.rinterface_lib.callbacks:R[write to console]: =\n",
            "WARNING:rpy2.rinterface_lib.callbacks:R[write to console]: =\n",
            "WARNING:rpy2.rinterface_lib.callbacks:R[write to console]: =\n",
            "WARNING:rpy2.rinterface_lib.callbacks:R[write to console]: =\n",
            "WARNING:rpy2.rinterface_lib.callbacks:R[write to console]: =\n",
            "WARNING:rpy2.rinterface_lib.callbacks:R[write to console]: =\n",
            "WARNING:rpy2.rinterface_lib.callbacks:R[write to console]: =\n",
            "WARNING:rpy2.rinterface_lib.callbacks:R[write to console]: =\n",
            "WARNING:rpy2.rinterface_lib.callbacks:R[write to console]: =\n",
            "WARNING:rpy2.rinterface_lib.callbacks:R[write to console]: =\n",
            "WARNING:rpy2.rinterface_lib.callbacks:R[write to console]: =\n",
            "WARNING:rpy2.rinterface_lib.callbacks:R[write to console]: \n",
            "\n",
            "WARNING:rpy2.rinterface_lib.callbacks:R[write to console]: downloaded 551 KB\n",
            "\n",
            "\n",
            "WARNING:rpy2.rinterface_lib.callbacks:R[write to console]: trying URL 'https://cran.rstudio.com/src/contrib/descr_1.1.5.tar.gz'\n",
            "\n",
            "WARNING:rpy2.rinterface_lib.callbacks:R[write to console]: Content type 'application/x-gzip'\n",
            "WARNING:rpy2.rinterface_lib.callbacks:R[write to console]:  length 38491 bytes (37 KB)\n",
            "\n",
            "WARNING:rpy2.rinterface_lib.callbacks:R[write to console]: =\n",
            "WARNING:rpy2.rinterface_lib.callbacks:R[write to console]: =\n",
            "WARNING:rpy2.rinterface_lib.callbacks:R[write to console]: =\n",
            "WARNING:rpy2.rinterface_lib.callbacks:R[write to console]: =\n",
            "WARNING:rpy2.rinterface_lib.callbacks:R[write to console]: =\n",
            "WARNING:rpy2.rinterface_lib.callbacks:R[write to console]: =\n",
            "WARNING:rpy2.rinterface_lib.callbacks:R[write to console]: =\n",
            "WARNING:rpy2.rinterface_lib.callbacks:R[write to console]: =\n",
            "WARNING:rpy2.rinterface_lib.callbacks:R[write to console]: =\n",
            "WARNING:rpy2.rinterface_lib.callbacks:R[write to console]: =\n",
            "WARNING:rpy2.rinterface_lib.callbacks:R[write to console]: =\n",
            "WARNING:rpy2.rinterface_lib.callbacks:R[write to console]: =\n",
            "WARNING:rpy2.rinterface_lib.callbacks:R[write to console]: =\n",
            "WARNING:rpy2.rinterface_lib.callbacks:R[write to console]: =\n",
            "WARNING:rpy2.rinterface_lib.callbacks:R[write to console]: =\n",
            "WARNING:rpy2.rinterface_lib.callbacks:R[write to console]: =\n",
            "WARNING:rpy2.rinterface_lib.callbacks:R[write to console]: =\n",
            "WARNING:rpy2.rinterface_lib.callbacks:R[write to console]: =\n",
            "WARNING:rpy2.rinterface_lib.callbacks:R[write to console]: =\n",
            "WARNING:rpy2.rinterface_lib.callbacks:R[write to console]: =\n",
            "WARNING:rpy2.rinterface_lib.callbacks:R[write to console]: =\n",
            "WARNING:rpy2.rinterface_lib.callbacks:R[write to console]: =\n",
            "WARNING:rpy2.rinterface_lib.callbacks:R[write to console]: =\n",
            "WARNING:rpy2.rinterface_lib.callbacks:R[write to console]: =\n",
            "WARNING:rpy2.rinterface_lib.callbacks:R[write to console]: =\n",
            "WARNING:rpy2.rinterface_lib.callbacks:R[write to console]: =\n",
            "WARNING:rpy2.rinterface_lib.callbacks:R[write to console]: =\n",
            "WARNING:rpy2.rinterface_lib.callbacks:R[write to console]: =\n",
            "WARNING:rpy2.rinterface_lib.callbacks:R[write to console]: =\n",
            "WARNING:rpy2.rinterface_lib.callbacks:R[write to console]: =\n",
            "WARNING:rpy2.rinterface_lib.callbacks:R[write to console]: =\n",
            "WARNING:rpy2.rinterface_lib.callbacks:R[write to console]: =\n",
            "WARNING:rpy2.rinterface_lib.callbacks:R[write to console]: =\n",
            "WARNING:rpy2.rinterface_lib.callbacks:R[write to console]: =\n",
            "WARNING:rpy2.rinterface_lib.callbacks:R[write to console]: =\n",
            "WARNING:rpy2.rinterface_lib.callbacks:R[write to console]: =\n",
            "WARNING:rpy2.rinterface_lib.callbacks:R[write to console]: =\n",
            "WARNING:rpy2.rinterface_lib.callbacks:R[write to console]: =\n",
            "WARNING:rpy2.rinterface_lib.callbacks:R[write to console]: =\n",
            "WARNING:rpy2.rinterface_lib.callbacks:R[write to console]: =\n",
            "WARNING:rpy2.rinterface_lib.callbacks:R[write to console]: =\n",
            "WARNING:rpy2.rinterface_lib.callbacks:R[write to console]: =\n",
            "WARNING:rpy2.rinterface_lib.callbacks:R[write to console]: =\n",
            "WARNING:rpy2.rinterface_lib.callbacks:R[write to console]: =\n",
            "WARNING:rpy2.rinterface_lib.callbacks:R[write to console]: =\n",
            "WARNING:rpy2.rinterface_lib.callbacks:R[write to console]: =\n",
            "WARNING:rpy2.rinterface_lib.callbacks:R[write to console]: =\n",
            "WARNING:rpy2.rinterface_lib.callbacks:R[write to console]: =\n",
            "WARNING:rpy2.rinterface_lib.callbacks:R[write to console]: =\n",
            "WARNING:rpy2.rinterface_lib.callbacks:R[write to console]: =\n",
            "WARNING:rpy2.rinterface_lib.callbacks:R[write to console]: \n",
            "\n",
            "WARNING:rpy2.rinterface_lib.callbacks:R[write to console]: downloaded 37 KB\n",
            "\n",
            "\n",
            "WARNING:rpy2.rinterface_lib.callbacks:R[write to console]: \n",
            "\n",
            "WARNING:rpy2.rinterface_lib.callbacks:R[write to console]: \n",
            "WARNING:rpy2.rinterface_lib.callbacks:R[write to console]: The downloaded source packages are in\n",
            "\t‘/tmp/RtmpfNF24C/downloaded_packages’\n",
            "WARNING:rpy2.rinterface_lib.callbacks:R[write to console]: \n",
            "WARNING:rpy2.rinterface_lib.callbacks:R[write to console]: \n",
            "\n",
            "WARNING:rpy2.rinterface_lib.callbacks:R[write to console]: Installing package into ‘/usr/local/lib/R/site-library’\n",
            "(as ‘lib’ is unspecified)\n",
            "\n",
            "WARNING:rpy2.rinterface_lib.callbacks:R[write to console]: also installing the dependency ‘Rcpp’\n",
            "\n",
            "\n",
            "WARNING:rpy2.rinterface_lib.callbacks:R[write to console]: trying URL 'https://cran.rstudio.com/src/contrib/Rcpp_1.0.9.tar.gz'\n",
            "\n",
            "WARNING:rpy2.rinterface_lib.callbacks:R[write to console]: Content type 'application/x-gzip'\n",
            "WARNING:rpy2.rinterface_lib.callbacks:R[write to console]:  length 2957812 bytes (2.8 MB)\n",
            "\n",
            "WARNING:rpy2.rinterface_lib.callbacks:R[write to console]: =\n",
            "WARNING:rpy2.rinterface_lib.callbacks:R[write to console]: =\n",
            "WARNING:rpy2.rinterface_lib.callbacks:R[write to console]: =\n",
            "WARNING:rpy2.rinterface_lib.callbacks:R[write to console]: =\n",
            "WARNING:rpy2.rinterface_lib.callbacks:R[write to console]: =\n",
            "WARNING:rpy2.rinterface_lib.callbacks:R[write to console]: =\n",
            "WARNING:rpy2.rinterface_lib.callbacks:R[write to console]: =\n",
            "WARNING:rpy2.rinterface_lib.callbacks:R[write to console]: =\n",
            "WARNING:rpy2.rinterface_lib.callbacks:R[write to console]: =\n",
            "WARNING:rpy2.rinterface_lib.callbacks:R[write to console]: =\n",
            "WARNING:rpy2.rinterface_lib.callbacks:R[write to console]: =\n",
            "WARNING:rpy2.rinterface_lib.callbacks:R[write to console]: =\n",
            "WARNING:rpy2.rinterface_lib.callbacks:R[write to console]: =\n",
            "WARNING:rpy2.rinterface_lib.callbacks:R[write to console]: =\n",
            "WARNING:rpy2.rinterface_lib.callbacks:R[write to console]: =\n",
            "WARNING:rpy2.rinterface_lib.callbacks:R[write to console]: =\n",
            "WARNING:rpy2.rinterface_lib.callbacks:R[write to console]: =\n",
            "WARNING:rpy2.rinterface_lib.callbacks:R[write to console]: =\n",
            "WARNING:rpy2.rinterface_lib.callbacks:R[write to console]: =\n",
            "WARNING:rpy2.rinterface_lib.callbacks:R[write to console]: =\n",
            "WARNING:rpy2.rinterface_lib.callbacks:R[write to console]: =\n",
            "WARNING:rpy2.rinterface_lib.callbacks:R[write to console]: =\n",
            "WARNING:rpy2.rinterface_lib.callbacks:R[write to console]: =\n",
            "WARNING:rpy2.rinterface_lib.callbacks:R[write to console]: =\n",
            "WARNING:rpy2.rinterface_lib.callbacks:R[write to console]: =\n",
            "WARNING:rpy2.rinterface_lib.callbacks:R[write to console]: =\n",
            "WARNING:rpy2.rinterface_lib.callbacks:R[write to console]: =\n",
            "WARNING:rpy2.rinterface_lib.callbacks:R[write to console]: =\n",
            "WARNING:rpy2.rinterface_lib.callbacks:R[write to console]: =\n",
            "WARNING:rpy2.rinterface_lib.callbacks:R[write to console]: =\n",
            "WARNING:rpy2.rinterface_lib.callbacks:R[write to console]: =\n",
            "WARNING:rpy2.rinterface_lib.callbacks:R[write to console]: =\n",
            "WARNING:rpy2.rinterface_lib.callbacks:R[write to console]: =\n",
            "WARNING:rpy2.rinterface_lib.callbacks:R[write to console]: =\n",
            "WARNING:rpy2.rinterface_lib.callbacks:R[write to console]: =\n",
            "WARNING:rpy2.rinterface_lib.callbacks:R[write to console]: =\n",
            "WARNING:rpy2.rinterface_lib.callbacks:R[write to console]: =\n",
            "WARNING:rpy2.rinterface_lib.callbacks:R[write to console]: =\n",
            "WARNING:rpy2.rinterface_lib.callbacks:R[write to console]: =\n",
            "WARNING:rpy2.rinterface_lib.callbacks:R[write to console]: =\n",
            "WARNING:rpy2.rinterface_lib.callbacks:R[write to console]: =\n",
            "WARNING:rpy2.rinterface_lib.callbacks:R[write to console]: =\n",
            "WARNING:rpy2.rinterface_lib.callbacks:R[write to console]: =\n",
            "WARNING:rpy2.rinterface_lib.callbacks:R[write to console]: =\n",
            "WARNING:rpy2.rinterface_lib.callbacks:R[write to console]: =\n",
            "WARNING:rpy2.rinterface_lib.callbacks:R[write to console]: =\n",
            "WARNING:rpy2.rinterface_lib.callbacks:R[write to console]: =\n",
            "WARNING:rpy2.rinterface_lib.callbacks:R[write to console]: =\n",
            "WARNING:rpy2.rinterface_lib.callbacks:R[write to console]: =\n",
            "WARNING:rpy2.rinterface_lib.callbacks:R[write to console]: =\n",
            "WARNING:rpy2.rinterface_lib.callbacks:R[write to console]: \n",
            "\n",
            "WARNING:rpy2.rinterface_lib.callbacks:R[write to console]: downloaded 2.8 MB\n",
            "\n",
            "\n",
            "WARNING:rpy2.rinterface_lib.callbacks:R[write to console]: trying URL 'https://cran.rstudio.com/src/contrib/pander_0.6.5.tar.gz'\n",
            "\n",
            "WARNING:rpy2.rinterface_lib.callbacks:R[write to console]: Content type 'application/x-gzip'\n",
            "WARNING:rpy2.rinterface_lib.callbacks:R[write to console]:  length 393677 bytes (384 KB)\n",
            "\n",
            "WARNING:rpy2.rinterface_lib.callbacks:R[write to console]: =\n",
            "WARNING:rpy2.rinterface_lib.callbacks:R[write to console]: =\n",
            "WARNING:rpy2.rinterface_lib.callbacks:R[write to console]: =\n",
            "WARNING:rpy2.rinterface_lib.callbacks:R[write to console]: =\n",
            "WARNING:rpy2.rinterface_lib.callbacks:R[write to console]: =\n",
            "WARNING:rpy2.rinterface_lib.callbacks:R[write to console]: =\n",
            "WARNING:rpy2.rinterface_lib.callbacks:R[write to console]: =\n",
            "WARNING:rpy2.rinterface_lib.callbacks:R[write to console]: =\n",
            "WARNING:rpy2.rinterface_lib.callbacks:R[write to console]: =\n",
            "WARNING:rpy2.rinterface_lib.callbacks:R[write to console]: =\n",
            "WARNING:rpy2.rinterface_lib.callbacks:R[write to console]: =\n",
            "WARNING:rpy2.rinterface_lib.callbacks:R[write to console]: =\n",
            "WARNING:rpy2.rinterface_lib.callbacks:R[write to console]: =\n",
            "WARNING:rpy2.rinterface_lib.callbacks:R[write to console]: =\n",
            "WARNING:rpy2.rinterface_lib.callbacks:R[write to console]: =\n",
            "WARNING:rpy2.rinterface_lib.callbacks:R[write to console]: =\n",
            "WARNING:rpy2.rinterface_lib.callbacks:R[write to console]: =\n",
            "WARNING:rpy2.rinterface_lib.callbacks:R[write to console]: =\n",
            "WARNING:rpy2.rinterface_lib.callbacks:R[write to console]: =\n",
            "WARNING:rpy2.rinterface_lib.callbacks:R[write to console]: =\n",
            "WARNING:rpy2.rinterface_lib.callbacks:R[write to console]: =\n",
            "WARNING:rpy2.rinterface_lib.callbacks:R[write to console]: =\n",
            "WARNING:rpy2.rinterface_lib.callbacks:R[write to console]: =\n",
            "WARNING:rpy2.rinterface_lib.callbacks:R[write to console]: =\n",
            "WARNING:rpy2.rinterface_lib.callbacks:R[write to console]: =\n",
            "WARNING:rpy2.rinterface_lib.callbacks:R[write to console]: =\n",
            "WARNING:rpy2.rinterface_lib.callbacks:R[write to console]: =\n",
            "WARNING:rpy2.rinterface_lib.callbacks:R[write to console]: =\n",
            "WARNING:rpy2.rinterface_lib.callbacks:R[write to console]: =\n",
            "WARNING:rpy2.rinterface_lib.callbacks:R[write to console]: =\n",
            "WARNING:rpy2.rinterface_lib.callbacks:R[write to console]: =\n",
            "WARNING:rpy2.rinterface_lib.callbacks:R[write to console]: =\n",
            "WARNING:rpy2.rinterface_lib.callbacks:R[write to console]: =\n",
            "WARNING:rpy2.rinterface_lib.callbacks:R[write to console]: =\n",
            "WARNING:rpy2.rinterface_lib.callbacks:R[write to console]: =\n",
            "WARNING:rpy2.rinterface_lib.callbacks:R[write to console]: =\n",
            "WARNING:rpy2.rinterface_lib.callbacks:R[write to console]: =\n",
            "WARNING:rpy2.rinterface_lib.callbacks:R[write to console]: =\n",
            "WARNING:rpy2.rinterface_lib.callbacks:R[write to console]: =\n",
            "WARNING:rpy2.rinterface_lib.callbacks:R[write to console]: =\n",
            "WARNING:rpy2.rinterface_lib.callbacks:R[write to console]: =\n",
            "WARNING:rpy2.rinterface_lib.callbacks:R[write to console]: =\n",
            "WARNING:rpy2.rinterface_lib.callbacks:R[write to console]: =\n",
            "WARNING:rpy2.rinterface_lib.callbacks:R[write to console]: =\n",
            "WARNING:rpy2.rinterface_lib.callbacks:R[write to console]: =\n",
            "WARNING:rpy2.rinterface_lib.callbacks:R[write to console]: =\n",
            "WARNING:rpy2.rinterface_lib.callbacks:R[write to console]: =\n",
            "WARNING:rpy2.rinterface_lib.callbacks:R[write to console]: =\n",
            "WARNING:rpy2.rinterface_lib.callbacks:R[write to console]: =\n",
            "WARNING:rpy2.rinterface_lib.callbacks:R[write to console]: =\n",
            "WARNING:rpy2.rinterface_lib.callbacks:R[write to console]: \n",
            "\n",
            "WARNING:rpy2.rinterface_lib.callbacks:R[write to console]: downloaded 384 KB\n",
            "\n",
            "\n",
            "WARNING:rpy2.rinterface_lib.callbacks:R[write to console]: \n",
            "\n",
            "WARNING:rpy2.rinterface_lib.callbacks:R[write to console]: \n",
            "WARNING:rpy2.rinterface_lib.callbacks:R[write to console]: The downloaded source packages are in\n",
            "\t‘/tmp/RtmpfNF24C/downloaded_packages’\n",
            "WARNING:rpy2.rinterface_lib.callbacks:R[write to console]: \n",
            "WARNING:rpy2.rinterface_lib.callbacks:R[write to console]: \n",
            "\n",
            "WARNING:rpy2.rinterface_lib.callbacks:R[write to console]: Installing package into ‘/usr/local/lib/R/site-library’\n",
            "(as ‘lib’ is unspecified)\n",
            "\n",
            "WARNING:rpy2.rinterface_lib.callbacks:R[write to console]: trying URL 'https://cran.rstudio.com/src/contrib/texreg_1.38.6.tar.gz'\n",
            "\n",
            "WARNING:rpy2.rinterface_lib.callbacks:R[write to console]: Content type 'application/x-gzip'\n",
            "WARNING:rpy2.rinterface_lib.callbacks:R[write to console]:  length 625638 bytes (610 KB)\n",
            "\n",
            "WARNING:rpy2.rinterface_lib.callbacks:R[write to console]: =\n",
            "WARNING:rpy2.rinterface_lib.callbacks:R[write to console]: =\n",
            "WARNING:rpy2.rinterface_lib.callbacks:R[write to console]: =\n",
            "WARNING:rpy2.rinterface_lib.callbacks:R[write to console]: =\n",
            "WARNING:rpy2.rinterface_lib.callbacks:R[write to console]: =\n",
            "WARNING:rpy2.rinterface_lib.callbacks:R[write to console]: =\n",
            "WARNING:rpy2.rinterface_lib.callbacks:R[write to console]: =\n",
            "WARNING:rpy2.rinterface_lib.callbacks:R[write to console]: =\n",
            "WARNING:rpy2.rinterface_lib.callbacks:R[write to console]: =\n",
            "WARNING:rpy2.rinterface_lib.callbacks:R[write to console]: =\n",
            "WARNING:rpy2.rinterface_lib.callbacks:R[write to console]: =\n",
            "WARNING:rpy2.rinterface_lib.callbacks:R[write to console]: =\n",
            "WARNING:rpy2.rinterface_lib.callbacks:R[write to console]: =\n",
            "WARNING:rpy2.rinterface_lib.callbacks:R[write to console]: =\n",
            "WARNING:rpy2.rinterface_lib.callbacks:R[write to console]: =\n",
            "WARNING:rpy2.rinterface_lib.callbacks:R[write to console]: =\n",
            "WARNING:rpy2.rinterface_lib.callbacks:R[write to console]: =\n",
            "WARNING:rpy2.rinterface_lib.callbacks:R[write to console]: =\n",
            "WARNING:rpy2.rinterface_lib.callbacks:R[write to console]: =\n",
            "WARNING:rpy2.rinterface_lib.callbacks:R[write to console]: =\n",
            "WARNING:rpy2.rinterface_lib.callbacks:R[write to console]: =\n",
            "WARNING:rpy2.rinterface_lib.callbacks:R[write to console]: =\n",
            "WARNING:rpy2.rinterface_lib.callbacks:R[write to console]: =\n",
            "WARNING:rpy2.rinterface_lib.callbacks:R[write to console]: =\n",
            "WARNING:rpy2.rinterface_lib.callbacks:R[write to console]: =\n",
            "WARNING:rpy2.rinterface_lib.callbacks:R[write to console]: =\n",
            "WARNING:rpy2.rinterface_lib.callbacks:R[write to console]: =\n",
            "WARNING:rpy2.rinterface_lib.callbacks:R[write to console]: =\n",
            "WARNING:rpy2.rinterface_lib.callbacks:R[write to console]: =\n",
            "WARNING:rpy2.rinterface_lib.callbacks:R[write to console]: =\n",
            "WARNING:rpy2.rinterface_lib.callbacks:R[write to console]: =\n",
            "WARNING:rpy2.rinterface_lib.callbacks:R[write to console]: =\n",
            "WARNING:rpy2.rinterface_lib.callbacks:R[write to console]: =\n",
            "WARNING:rpy2.rinterface_lib.callbacks:R[write to console]: =\n",
            "WARNING:rpy2.rinterface_lib.callbacks:R[write to console]: =\n",
            "WARNING:rpy2.rinterface_lib.callbacks:R[write to console]: =\n",
            "WARNING:rpy2.rinterface_lib.callbacks:R[write to console]: =\n",
            "WARNING:rpy2.rinterface_lib.callbacks:R[write to console]: =\n",
            "WARNING:rpy2.rinterface_lib.callbacks:R[write to console]: =\n",
            "WARNING:rpy2.rinterface_lib.callbacks:R[write to console]: =\n",
            "WARNING:rpy2.rinterface_lib.callbacks:R[write to console]: =\n",
            "WARNING:rpy2.rinterface_lib.callbacks:R[write to console]: =\n",
            "WARNING:rpy2.rinterface_lib.callbacks:R[write to console]: =\n",
            "WARNING:rpy2.rinterface_lib.callbacks:R[write to console]: =\n",
            "WARNING:rpy2.rinterface_lib.callbacks:R[write to console]: =\n",
            "WARNING:rpy2.rinterface_lib.callbacks:R[write to console]: =\n",
            "WARNING:rpy2.rinterface_lib.callbacks:R[write to console]: =\n",
            "WARNING:rpy2.rinterface_lib.callbacks:R[write to console]: =\n",
            "WARNING:rpy2.rinterface_lib.callbacks:R[write to console]: =\n",
            "WARNING:rpy2.rinterface_lib.callbacks:R[write to console]: =\n",
            "WARNING:rpy2.rinterface_lib.callbacks:R[write to console]: \n",
            "\n",
            "WARNING:rpy2.rinterface_lib.callbacks:R[write to console]: downloaded 610 KB\n",
            "\n",
            "\n",
            "WARNING:rpy2.rinterface_lib.callbacks:R[write to console]: \n",
            "\n",
            "WARNING:rpy2.rinterface_lib.callbacks:R[write to console]: \n",
            "WARNING:rpy2.rinterface_lib.callbacks:R[write to console]: The downloaded source packages are in\n",
            "\t‘/tmp/RtmpfNF24C/downloaded_packages’\n",
            "WARNING:rpy2.rinterface_lib.callbacks:R[write to console]: \n",
            "WARNING:rpy2.rinterface_lib.callbacks:R[write to console]: \n",
            "\n",
            "WARNING:rpy2.rinterface_lib.callbacks:R[write to console]: Version:  1.38.6\n",
            "Date:     2022-04-06\n",
            "Author:   Philip Leifeld (University of Essex)\n",
            "\n",
            "Consider submitting praise using the praise or praise_interactive functions.\n",
            "Please cite the JSS article in your publications -- see citation(\"texreg\").\n",
            "\n",
            "WARNING:rpy2.rinterface_lib.callbacks:R[write to console]: \n",
            "Attaching package: ‘texreg’\n",
            "\n",
            "\n",
            "WARNING:rpy2.rinterface_lib.callbacks:R[write to console]: The following object is masked from ‘package:tidyr’:\n",
            "\n",
            "    extract\n",
            "\n",
            "\n",
            "WARNING:rpy2.rinterface_lib.callbacks:R[write to console]: Installing package into ‘/usr/local/lib/R/site-library’\n",
            "(as ‘lib’ is unspecified)\n",
            "\n",
            "WARNING:rpy2.rinterface_lib.callbacks:R[write to console]: trying URL 'https://cran.rstudio.com/src/contrib/MASS_7.3-58.1.tar.gz'\n",
            "\n",
            "WARNING:rpy2.rinterface_lib.callbacks:R[write to console]: Content type 'application/x-gzip'\n",
            "WARNING:rpy2.rinterface_lib.callbacks:R[write to console]:  length 514882 bytes (502 KB)\n",
            "\n",
            "WARNING:rpy2.rinterface_lib.callbacks:R[write to console]: =\n",
            "WARNING:rpy2.rinterface_lib.callbacks:R[write to console]: =\n",
            "WARNING:rpy2.rinterface_lib.callbacks:R[write to console]: =\n",
            "WARNING:rpy2.rinterface_lib.callbacks:R[write to console]: =\n",
            "WARNING:rpy2.rinterface_lib.callbacks:R[write to console]: =\n",
            "WARNING:rpy2.rinterface_lib.callbacks:R[write to console]: =\n",
            "WARNING:rpy2.rinterface_lib.callbacks:R[write to console]: =\n",
            "WARNING:rpy2.rinterface_lib.callbacks:R[write to console]: =\n",
            "WARNING:rpy2.rinterface_lib.callbacks:R[write to console]: =\n",
            "WARNING:rpy2.rinterface_lib.callbacks:R[write to console]: =\n",
            "WARNING:rpy2.rinterface_lib.callbacks:R[write to console]: =\n",
            "WARNING:rpy2.rinterface_lib.callbacks:R[write to console]: =\n",
            "WARNING:rpy2.rinterface_lib.callbacks:R[write to console]: =\n",
            "WARNING:rpy2.rinterface_lib.callbacks:R[write to console]: =\n",
            "WARNING:rpy2.rinterface_lib.callbacks:R[write to console]: =\n",
            "WARNING:rpy2.rinterface_lib.callbacks:R[write to console]: =\n",
            "WARNING:rpy2.rinterface_lib.callbacks:R[write to console]: =\n",
            "WARNING:rpy2.rinterface_lib.callbacks:R[write to console]: =\n",
            "WARNING:rpy2.rinterface_lib.callbacks:R[write to console]: =\n",
            "WARNING:rpy2.rinterface_lib.callbacks:R[write to console]: =\n",
            "WARNING:rpy2.rinterface_lib.callbacks:R[write to console]: =\n",
            "WARNING:rpy2.rinterface_lib.callbacks:R[write to console]: =\n",
            "WARNING:rpy2.rinterface_lib.callbacks:R[write to console]: =\n",
            "WARNING:rpy2.rinterface_lib.callbacks:R[write to console]: =\n",
            "WARNING:rpy2.rinterface_lib.callbacks:R[write to console]: =\n",
            "WARNING:rpy2.rinterface_lib.callbacks:R[write to console]: =\n",
            "WARNING:rpy2.rinterface_lib.callbacks:R[write to console]: =\n",
            "WARNING:rpy2.rinterface_lib.callbacks:R[write to console]: =\n",
            "WARNING:rpy2.rinterface_lib.callbacks:R[write to console]: =\n",
            "WARNING:rpy2.rinterface_lib.callbacks:R[write to console]: =\n",
            "WARNING:rpy2.rinterface_lib.callbacks:R[write to console]: =\n",
            "WARNING:rpy2.rinterface_lib.callbacks:R[write to console]: =\n",
            "WARNING:rpy2.rinterface_lib.callbacks:R[write to console]: =\n",
            "WARNING:rpy2.rinterface_lib.callbacks:R[write to console]: =\n",
            "WARNING:rpy2.rinterface_lib.callbacks:R[write to console]: =\n",
            "WARNING:rpy2.rinterface_lib.callbacks:R[write to console]: =\n",
            "WARNING:rpy2.rinterface_lib.callbacks:R[write to console]: =\n",
            "WARNING:rpy2.rinterface_lib.callbacks:R[write to console]: =\n",
            "WARNING:rpy2.rinterface_lib.callbacks:R[write to console]: =\n",
            "WARNING:rpy2.rinterface_lib.callbacks:R[write to console]: =\n",
            "WARNING:rpy2.rinterface_lib.callbacks:R[write to console]: =\n",
            "WARNING:rpy2.rinterface_lib.callbacks:R[write to console]: =\n",
            "WARNING:rpy2.rinterface_lib.callbacks:R[write to console]: =\n",
            "WARNING:rpy2.rinterface_lib.callbacks:R[write to console]: =\n",
            "WARNING:rpy2.rinterface_lib.callbacks:R[write to console]: =\n",
            "WARNING:rpy2.rinterface_lib.callbacks:R[write to console]: =\n",
            "WARNING:rpy2.rinterface_lib.callbacks:R[write to console]: =\n",
            "WARNING:rpy2.rinterface_lib.callbacks:R[write to console]: =\n",
            "WARNING:rpy2.rinterface_lib.callbacks:R[write to console]: =\n",
            "WARNING:rpy2.rinterface_lib.callbacks:R[write to console]: =\n",
            "WARNING:rpy2.rinterface_lib.callbacks:R[write to console]: \n",
            "\n",
            "WARNING:rpy2.rinterface_lib.callbacks:R[write to console]: downloaded 502 KB\n",
            "\n",
            "\n",
            "WARNING:rpy2.rinterface_lib.callbacks:R[write to console]: \n",
            "\n",
            "WARNING:rpy2.rinterface_lib.callbacks:R[write to console]: \n",
            "WARNING:rpy2.rinterface_lib.callbacks:R[write to console]: The downloaded source packages are in\n",
            "\t‘/tmp/RtmpfNF24C/downloaded_packages’\n",
            "WARNING:rpy2.rinterface_lib.callbacks:R[write to console]: \n",
            "WARNING:rpy2.rinterface_lib.callbacks:R[write to console]: \n",
            "\n",
            "WARNING:rpy2.rinterface_lib.callbacks:R[write to console]: Loading required package: MASS\n",
            "\n",
            "WARNING:rpy2.rinterface_lib.callbacks:R[write to console]: \n",
            "Attaching package: ‘MASS’\n",
            "\n",
            "\n",
            "WARNING:rpy2.rinterface_lib.callbacks:R[write to console]: The following object is masked from ‘package:dplyr’:\n",
            "\n",
            "    select\n",
            "\n",
            "\n"
          ]
        }
      ]
    },
    {
      "cell_type": "code",
      "source": [
        "%%R \n",
        "\n",
        "install.packages(\"texreg\")"
      ],
      "metadata": {
        "colab": {
          "base_uri": "https://localhost:8080/"
        },
        "id": "iOiXCjBV7gvu",
        "outputId": "70744a1f-1aa1-449d-af3b-bf722cbe2f22"
      },
      "execution_count": null,
      "outputs": [
        {
          "output_type": "stream",
          "name": "stderr",
          "text": [
            "WARNING:rpy2.rinterface_lib.callbacks:R[write to console]: Installing package into ‘/usr/local/lib/R/site-library’\n",
            "(as ‘lib’ is unspecified)\n",
            "\n",
            "WARNING:rpy2.rinterface_lib.callbacks:R[write to console]: trying URL 'https://cran.rstudio.com/src/contrib/texreg_1.38.6.tar.gz'\n",
            "\n",
            "WARNING:rpy2.rinterface_lib.callbacks:R[write to console]: Content type 'application/x-gzip'\n",
            "WARNING:rpy2.rinterface_lib.callbacks:R[write to console]:  length 625638 bytes (610 KB)\n",
            "\n",
            "WARNING:rpy2.rinterface_lib.callbacks:R[write to console]: =\n",
            "WARNING:rpy2.rinterface_lib.callbacks:R[write to console]: =\n",
            "WARNING:rpy2.rinterface_lib.callbacks:R[write to console]: =\n",
            "WARNING:rpy2.rinterface_lib.callbacks:R[write to console]: =\n",
            "WARNING:rpy2.rinterface_lib.callbacks:R[write to console]: =\n",
            "WARNING:rpy2.rinterface_lib.callbacks:R[write to console]: =\n",
            "WARNING:rpy2.rinterface_lib.callbacks:R[write to console]: =\n",
            "WARNING:rpy2.rinterface_lib.callbacks:R[write to console]: =\n",
            "WARNING:rpy2.rinterface_lib.callbacks:R[write to console]: =\n",
            "WARNING:rpy2.rinterface_lib.callbacks:R[write to console]: =\n",
            "WARNING:rpy2.rinterface_lib.callbacks:R[write to console]: =\n",
            "WARNING:rpy2.rinterface_lib.callbacks:R[write to console]: =\n",
            "WARNING:rpy2.rinterface_lib.callbacks:R[write to console]: =\n",
            "WARNING:rpy2.rinterface_lib.callbacks:R[write to console]: =\n",
            "WARNING:rpy2.rinterface_lib.callbacks:R[write to console]: =\n",
            "WARNING:rpy2.rinterface_lib.callbacks:R[write to console]: =\n",
            "WARNING:rpy2.rinterface_lib.callbacks:R[write to console]: =\n",
            "WARNING:rpy2.rinterface_lib.callbacks:R[write to console]: =\n",
            "WARNING:rpy2.rinterface_lib.callbacks:R[write to console]: =\n",
            "WARNING:rpy2.rinterface_lib.callbacks:R[write to console]: =\n",
            "WARNING:rpy2.rinterface_lib.callbacks:R[write to console]: =\n",
            "WARNING:rpy2.rinterface_lib.callbacks:R[write to console]: =\n",
            "WARNING:rpy2.rinterface_lib.callbacks:R[write to console]: =\n",
            "WARNING:rpy2.rinterface_lib.callbacks:R[write to console]: =\n",
            "WARNING:rpy2.rinterface_lib.callbacks:R[write to console]: =\n",
            "WARNING:rpy2.rinterface_lib.callbacks:R[write to console]: =\n",
            "WARNING:rpy2.rinterface_lib.callbacks:R[write to console]: =\n",
            "WARNING:rpy2.rinterface_lib.callbacks:R[write to console]: =\n",
            "WARNING:rpy2.rinterface_lib.callbacks:R[write to console]: =\n",
            "WARNING:rpy2.rinterface_lib.callbacks:R[write to console]: =\n",
            "WARNING:rpy2.rinterface_lib.callbacks:R[write to console]: =\n",
            "WARNING:rpy2.rinterface_lib.callbacks:R[write to console]: =\n",
            "WARNING:rpy2.rinterface_lib.callbacks:R[write to console]: =\n",
            "WARNING:rpy2.rinterface_lib.callbacks:R[write to console]: =\n",
            "WARNING:rpy2.rinterface_lib.callbacks:R[write to console]: =\n",
            "WARNING:rpy2.rinterface_lib.callbacks:R[write to console]: =\n",
            "WARNING:rpy2.rinterface_lib.callbacks:R[write to console]: =\n",
            "WARNING:rpy2.rinterface_lib.callbacks:R[write to console]: =\n",
            "WARNING:rpy2.rinterface_lib.callbacks:R[write to console]: =\n",
            "WARNING:rpy2.rinterface_lib.callbacks:R[write to console]: =\n",
            "WARNING:rpy2.rinterface_lib.callbacks:R[write to console]: =\n",
            "WARNING:rpy2.rinterface_lib.callbacks:R[write to console]: =\n",
            "WARNING:rpy2.rinterface_lib.callbacks:R[write to console]: =\n",
            "WARNING:rpy2.rinterface_lib.callbacks:R[write to console]: =\n",
            "WARNING:rpy2.rinterface_lib.callbacks:R[write to console]: =\n",
            "WARNING:rpy2.rinterface_lib.callbacks:R[write to console]: =\n",
            "WARNING:rpy2.rinterface_lib.callbacks:R[write to console]: =\n",
            "WARNING:rpy2.rinterface_lib.callbacks:R[write to console]: =\n",
            "WARNING:rpy2.rinterface_lib.callbacks:R[write to console]: =\n",
            "WARNING:rpy2.rinterface_lib.callbacks:R[write to console]: =\n",
            "WARNING:rpy2.rinterface_lib.callbacks:R[write to console]: \n",
            "\n",
            "WARNING:rpy2.rinterface_lib.callbacks:R[write to console]: downloaded 610 KB\n",
            "\n",
            "\n",
            "WARNING:rpy2.rinterface_lib.callbacks:R[write to console]: \n",
            "\n",
            "WARNING:rpy2.rinterface_lib.callbacks:R[write to console]: \n",
            "WARNING:rpy2.rinterface_lib.callbacks:R[write to console]: The downloaded source packages are in\n",
            "\t‘/tmp/RtmpSbY4xC/downloaded_packages’\n",
            "WARNING:rpy2.rinterface_lib.callbacks:R[write to console]: \n",
            "WARNING:rpy2.rinterface_lib.callbacks:R[write to console]: \n",
            "\n"
          ]
        }
      ]
    },
    {
      "cell_type": "code",
      "source": [
        "%%R\n",
        "library(texreg)\n",
        "#\"Residence(OutsideKhartoum)*Race(Arab)\"\n",
        "screenreg(m_announcementint , digits=3, file = \"/content/drive/MyDrive/R part/m_announcementintfinal.doc\", label=\"table:comment.effect\",  \n",
        "          custom.model.names=c(\"Logistic Regression Model for Sympathy discourses\"), \n",
        "          custom.coef.names = c(\"Intercept\", \"Gender(Male)\",  \n",
        "                                \"Age\",\"Political Affiliation(yes)\", \"Residence(outsideKhartoum)\", \"Race(Arab)\", \"Residence(OutsideKhartoum)*Race(Arab)\"))"
      ],
      "metadata": {
        "colab": {
          "base_uri": "https://localhost:8080/"
        },
        "id": "AAO4vzef78kP",
        "outputId": "fb62b237-d904-421f-e6d6-777f209bd690"
      },
      "execution_count": null,
      "outputs": [
        {
          "output_type": "stream",
          "name": "stderr",
          "text": [
            "WARNING:rpy2.rinterface_lib.callbacks:R[write to console]: The table was written to the file '/content/drive/MyDrive/R part/m_announcementintfinal.doc'.\n",
            "\n",
            "\n"
          ]
        }
      ]
    },
    {
      "cell_type": "code",
      "source": [
        "%%R\n",
        "texreg(m_announcementint)\n"
      ],
      "metadata": {
        "colab": {
          "base_uri": "https://localhost:8080/"
        },
        "id": "-rJgHYTTJZyu",
        "outputId": "ab21924c-5bdc-44d1-81b4-2d770fe8f03f"
      },
      "execution_count": null,
      "outputs": [
        {
          "output_type": "stream",
          "name": "stdout",
          "text": [
            "\n",
            "\\begin{table}\n",
            "\\begin{center}\n",
            "\\begin{tabular}{l c}\n",
            "\\hline\n",
            " & Model 1 \\\\\n",
            "\\hline\n",
            "(Intercept)                            & $6.22^{***}$  \\\\\n",
            "                                       & $(0.45)$      \\\\\n",
            "GenderMale                             & $0.06$        \\\\\n",
            "                                       & $(0.40)$      \\\\\n",
            "Age                                    & $-0.02^{**}$  \\\\\n",
            "                                       & $(0.01)$      \\\\\n",
            "Political.affiliationyes               & $0.59^{*}$    \\\\\n",
            "                                       & $(0.24)$      \\\\\n",
            "Residenceoutsidekhartoum               & $1.54^{***}$  \\\\\n",
            "                                       & $(0.29)$      \\\\\n",
            "EthnicityArab                          & $0.38^{*}$    \\\\\n",
            "                                       & $(0.15)$      \\\\\n",
            "Residenceoutsidekhartoum:EthnicityArab & $-1.10^{***}$ \\\\\n",
            "                                       & $(0.32)$      \\\\\n",
            "\\hline\n",
            "AIC                                    & $4361.34$     \\\\\n",
            "BIC                                    & $4432.32$     \\\\\n",
            "Log Likelihood                         & $-2173.67$    \\\\\n",
            "Deviance                               & $4347.34$     \\\\\n",
            "Num. obs.                              & $187350$      \\\\\n",
            "\\hline\n",
            "\\multicolumn{2}{l}{\\scriptsize{$^{***}p<0.001$; $^{**}p<0.01$; $^{*}p<0.05$}}\n",
            "\\end{tabular}\n",
            "\\caption{Statistical models}\n",
            "\\label{table:coefficients}\n",
            "\\end{center}\n",
            "\\end{table}\n",
            " FALSE"
          ]
        }
      ]
    },
    {
      "cell_type": "code",
      "source": [
        "%%R\n",
        "sympathy <- trymerge%>%filter(Discourse == \"Sympathy\")\n",
        "escalation <- trymerge%>%filter(Discourse == \"Escalation\")\n",
        "announcement <- trymerge%>%filter(Discourse == \"Announcement\")"
      ],
      "metadata": {
        "id": "PXWiUmdZOg2G"
      },
      "execution_count": null,
      "outputs": []
    },
    {
      "cell_type": "code",
      "source": [
        "%%R\n",
        "m_sympathy <- glm(mention.ref ~Gender+Age+ Political.affiliation+Residence+ Ethnicity, data = sympathy, family = \"binomial\")\n",
        "summary(m_sympathy)"
      ],
      "metadata": {
        "colab": {
          "base_uri": "https://localhost:8080/"
        },
        "id": "kAgp_JbROxsX",
        "outputId": "8b599981-f891-45b7-a440-43192fc2b648"
      },
      "execution_count": null,
      "outputs": [
        {
          "output_type": "stream",
          "name": "stdout",
          "text": [
            "\n",
            "Call:\n",
            "glm(formula = mention.ref ~ Gender + Age + Political.affiliation + \n",
            "    Residence + Ethnicity, family = \"binomial\", data = sympathy)\n",
            "\n",
            "Deviance Residuals: \n",
            "    Min       1Q   Median       3Q      Max  \n",
            "-3.6801   0.0712   0.0860   0.1086   0.1551  \n",
            "\n",
            "Coefficients:\n",
            "                          Estimate Std. Error z value Pr(>|z|)    \n",
            "(Intercept)               5.649172   0.458073  12.332  < 2e-16 ***\n",
            "GenderMale               -0.216383   0.425018  -0.509  0.61067    \n",
            "Age                      -0.021652   0.004204  -5.150  2.6e-07 ***\n",
            "Political.affiliationyes  0.598912   0.195005   3.071  0.00213 ** \n",
            "Residenceoutsidekhartoum  0.890459   0.114492   7.778  7.4e-15 ***\n",
            "EthnicityArab             0.281268   0.108034   2.604  0.00923 ** \n",
            "---\n",
            "Signif. codes:  0 ‘***’ 0.001 ‘**’ 0.01 ‘*’ 0.05 ‘.’ 0.1 ‘ ’ 1\n",
            "\n",
            "(Dispersion parameter for binomial family taken to be 1)\n",
            "\n",
            "    Null deviance: 5543.5  on 98645  degrees of freedom\n",
            "Residual deviance: 5431.1  on 98640  degrees of freedom\n",
            "AIC: 5443.1\n",
            "\n",
            "Number of Fisher Scoring iterations: 8\n",
            "\n"
          ]
        }
      ]
    },
    {
      "cell_type": "code",
      "source": [
        "%%R\n",
        "m_sympathyint <- glm(mention.ref ~Gender+Age+ Political.affiliation+Residence+ Ethnicity + Residence*Ethnicity, data = sympathy, family = \"binomial\")\n",
        "summary(m_sympathyint)\n",
        "#\"Residence(OutsideKhartoum)*Race(Arab)\""
      ],
      "metadata": {
        "colab": {
          "base_uri": "https://localhost:8080/"
        },
        "id": "lBR-VgB3dCtn",
        "outputId": "500afc61-292d-4e42-c513-1ce436bd4e97"
      },
      "execution_count": null,
      "outputs": [
        {
          "output_type": "stream",
          "name": "stdout",
          "text": [
            "\n",
            "Call:\n",
            "glm(formula = mention.ref ~ Gender + Age + Political.affiliation + \n",
            "    Residence + Ethnicity + Residence * Ethnicity, family = \"binomial\", \n",
            "    data = sympathy)\n",
            "\n",
            "Deviance Residuals: \n",
            "    Min       1Q   Median       3Q      Max  \n",
            "-3.6793   0.0726   0.0905   0.1042   0.1488  \n",
            "\n",
            "Coefficients:\n",
            "                                        Estimate Std. Error z value Pr(>|z|)\n",
            "(Intercept)                             5.456620   0.457857  11.918  < 2e-16\n",
            "GenderMale                             -0.183186   0.424512  -0.432  0.66609\n",
            "Age                                    -0.021688   0.004249  -5.104 3.32e-07\n",
            "Political.affiliationyes                0.596529   0.194763   3.063  0.00219\n",
            "Residenceoutsidekhartoum                1.797618   0.268102   6.705 2.01e-11\n",
            "EthnicityArab                           0.525789   0.119374   4.405 1.06e-05\n",
            "Residenceoutsidekhartoum:EthnicityArab -1.203001   0.294734  -4.082 4.47e-05\n",
            "                                          \n",
            "(Intercept)                            ***\n",
            "GenderMale                                \n",
            "Age                                    ***\n",
            "Political.affiliationyes               ** \n",
            "Residenceoutsidekhartoum               ***\n",
            "EthnicityArab                          ***\n",
            "Residenceoutsidekhartoum:EthnicityArab ***\n",
            "---\n",
            "Signif. codes:  0 ‘***’ 0.001 ‘**’ 0.01 ‘*’ 0.05 ‘.’ 0.1 ‘ ’ 1\n",
            "\n",
            "(Dispersion parameter for binomial family taken to be 1)\n",
            "\n",
            "    Null deviance: 5543.5  on 98645  degrees of freedom\n",
            "Residual deviance: 5411.3  on 98639  degrees of freedom\n",
            "AIC: 5425.3\n",
            "\n",
            "Number of Fisher Scoring iterations: 9\n",
            "\n"
          ]
        }
      ]
    },
    {
      "cell_type": "code",
      "source": [
        "%%R\n",
        "sym1 <- as.data.frame(exp(coef(m_sympathy)))\n",
        "sym2 <- as.data.frame(exp(coef(m_sympathyint)))"
      ],
      "metadata": {
        "id": "F_pFz_lJdSbt"
      },
      "execution_count": null,
      "outputs": []
    },
    {
      "cell_type": "code",
      "source": [
        "%%R\n",
        "m_escalation <- glm(mention.ref ~Gender+Age+ Political.affiliation+Residence+ Ethnicity, data = escalation, family = \"binomial\")\n",
        "summary(m_escalation)"
      ],
      "metadata": {
        "colab": {
          "base_uri": "https://localhost:8080/"
        },
        "id": "q5_Fl8u1O8dQ",
        "outputId": "ec9f4a52-5410-429f-a6e1-28e01947abba"
      },
      "execution_count": null,
      "outputs": [
        {
          "output_type": "stream",
          "name": "stdout",
          "text": [
            "\n",
            "Call:\n",
            "glm(formula = mention.ref ~ Gender + Age + Political.affiliation + \n",
            "    Residence + Ethnicity, family = \"binomial\", data = escalation)\n",
            "\n",
            "Deviance Residuals: \n",
            "    Min       1Q   Median       3Q      Max  \n",
            "-4.4386   0.0125   0.0137   0.0247   0.0274  \n",
            "\n",
            "Coefficients:\n",
            "                          Estimate Std. Error z value Pr(>|z|)    \n",
            "(Intercept)               8.684040   1.076800   8.065 7.34e-16 ***\n",
            "GenderMale               -0.663258   1.025614  -0.647    0.518    \n",
            "Age                      -0.004281   0.008942  -0.479    0.632    \n",
            "Political.affiliationyes  0.150145   0.295170   0.509    0.611    \n",
            "Residenceoutsidekhartoum  1.350760   0.216004   6.253 4.02e-10 ***\n",
            "EthnicityArab             0.185906   0.196377   0.947    0.344    \n",
            "---\n",
            "Signif. codes:  0 ‘***’ 0.001 ‘**’ 0.01 ‘*’ 0.05 ‘.’ 0.1 ‘ ’ 1\n",
            "\n",
            "(Dispersion parameter for binomial family taken to be 1)\n",
            "\n",
            "    Null deviance: 2376.8  on 662793  degrees of freedom\n",
            "Residual deviance: 2324.7  on 662788  degrees of freedom\n",
            "AIC: 2336.7\n",
            "\n",
            "Number of Fisher Scoring iterations: 12\n",
            "\n"
          ]
        }
      ]
    },
    {
      "cell_type": "code",
      "source": [
        "%%R\n",
        "m_escalationint <- glm(mention.ref ~Gender+Age+ Political.affiliation+Residence+ Ethnicity + Residence*Ethnicity, data = escalation, family = \"binomial\")\n",
        "summary(m_escalationint)"
      ],
      "metadata": {
        "colab": {
          "base_uri": "https://localhost:8080/"
        },
        "id": "yN18kRHGPELy",
        "outputId": "5b963c8e-a4b9-4be2-ce62-64a40f736295"
      },
      "execution_count": null,
      "outputs": [
        {
          "output_type": "stream",
          "name": "stdout",
          "text": [
            "\n",
            "Call:\n",
            "glm(formula = mention.ref ~ Gender + Age + Political.affiliation + \n",
            "    Residence + Ethnicity + Residence * Ethnicity, family = \"binomial\", \n",
            "    data = escalation)\n",
            "\n",
            "Deviance Residuals: \n",
            "    Min       1Q   Median       3Q      Max  \n",
            "-4.4018   0.0119   0.0151   0.0250   0.0269  \n",
            "\n",
            "Coefficients:\n",
            "                                        Estimate Std. Error z value Pr(>|z|)\n",
            "(Intercept)                             8.767499   1.082388   8.100 5.49e-16\n",
            "GenderMale                             -0.687407   1.026165  -0.670  0.50293\n",
            "Age                                    -0.004240   0.008946  -0.474  0.63554\n",
            "Political.affiliationyes                0.138347   0.295760   0.468  0.63995\n",
            "Residenceoutsidekhartoum                1.102564   0.355262   3.104  0.00191\n",
            "EthnicityArab                           0.097162   0.224583   0.433  0.66528\n",
            "Residenceoutsidekhartoum:EthnicityArab  0.375863   0.441611   0.851  0.39470\n",
            "                                          \n",
            "(Intercept)                            ***\n",
            "GenderMale                                \n",
            "Age                                       \n",
            "Political.affiliationyes                  \n",
            "Residenceoutsidekhartoum               ** \n",
            "EthnicityArab                             \n",
            "Residenceoutsidekhartoum:EthnicityArab    \n",
            "---\n",
            "Signif. codes:  0 ‘***’ 0.001 ‘**’ 0.01 ‘*’ 0.05 ‘.’ 0.1 ‘ ’ 1\n",
            "\n",
            "(Dispersion parameter for binomial family taken to be 1)\n",
            "\n",
            "    Null deviance: 2376.8  on 662793  degrees of freedom\n",
            "Residual deviance: 2324.0  on 662787  degrees of freedom\n",
            "AIC: 2338\n",
            "\n",
            "Number of Fisher Scoring iterations: 12\n",
            "\n"
          ]
        }
      ]
    },
    {
      "cell_type": "code",
      "source": [
        "%%R\n",
        "esc1 <- as.data.frame(exp(coef(m_escalation)))\n",
        "esc2 <- as.data.frame(exp(coef(m_escalationint)))"
      ],
      "metadata": {
        "id": "0Yu9cNW8eqmH"
      },
      "execution_count": null,
      "outputs": []
    },
    {
      "cell_type": "code",
      "source": [
        "%%R\n",
        "m_announcement <- glm(mention.ref ~Gender+Age+ Political.affiliation+Residence+ Ethnicity, data = announcement, family = \"binomial\")\n",
        "summary(m_announcement)"
      ],
      "metadata": {
        "colab": {
          "base_uri": "https://localhost:8080/"
        },
        "id": "eNqsaZSPfOri",
        "outputId": "fc6f59d0-fecb-4c79-dbeb-5c640e740d1c"
      },
      "execution_count": null,
      "outputs": [
        {
          "output_type": "stream",
          "name": "stdout",
          "text": [
            "\n",
            "Call:\n",
            "glm(formula = mention.ref ~ Gender + Age + Political.affiliation + \n",
            "    Residence + Ethnicity, family = \"binomial\", data = announcement)\n",
            "\n",
            "Deviance Residuals: \n",
            "    Min       1Q   Median       3Q      Max  \n",
            "-3.8732   0.0452   0.0515   0.0637   0.0859  \n",
            "\n",
            "Coefficients:\n",
            "                          Estimate Std. Error z value Pr(>|z|)    \n",
            "(Intercept)               6.426375   0.447706  14.354  < 2e-16 ***\n",
            "GenderMale                0.048312   0.398725   0.121  0.90356    \n",
            "Age                      -0.015772   0.005108  -3.088  0.00202 ** \n",
            "Political.affiliationyes  0.559667   0.245149   2.283  0.02243 *  \n",
            "Residenceoutsidekhartoum  0.709354   0.127233   5.575 2.47e-08 ***\n",
            "EthnicityArab             0.072035   0.133037   0.541  0.58819    \n",
            "---\n",
            "Signif. codes:  0 ‘***’ 0.001 ‘**’ 0.01 ‘*’ 0.05 ‘.’ 0.1 ‘ ’ 1\n",
            "\n",
            "(Dispersion parameter for binomial family taken to be 1)\n",
            "\n",
            "    Null deviance: 4410.2  on 187349  degrees of freedom\n",
            "Residual deviance: 4361.1  on 187344  degrees of freedom\n",
            "AIC: 4373.1\n",
            "\n",
            "Number of Fisher Scoring iterations: 9\n",
            "\n"
          ]
        }
      ]
    },
    {
      "cell_type": "code",
      "source": [
        "%%R\n",
        "m_announcementint <- glm(mention.ref ~Gender+Age+ Political.affiliation+Residence+ Ethnicity+ Residence*Ethnicity, data = announcement, family = \"binomial\")\n",
        "summary(m_announcementint)"
      ],
      "metadata": {
        "colab": {
          "base_uri": "https://localhost:8080/"
        },
        "id": "9eiES5NXfj-z",
        "outputId": "d5cfac8d-7865-4308-cee6-f661532d6fcf"
      },
      "execution_count": null,
      "outputs": [
        {
          "output_type": "stream",
          "name": "stdout",
          "text": [
            "\n",
            "Call:\n",
            "glm(formula = mention.ref ~ Gender + Age + Political.affiliation + \n",
            "    Residence + Ethnicity + Residence * Ethnicity, family = \"binomial\", \n",
            "    data = announcement)\n",
            "\n",
            "Deviance Residuals: \n",
            "    Min       1Q   Median       3Q      Max  \n",
            "-3.8982   0.0463   0.0563   0.0631   0.0824  \n",
            "\n",
            "Coefficients:\n",
            "                                        Estimate Std. Error z value Pr(>|z|)\n",
            "(Intercept)                             6.222586   0.447666  13.900  < 2e-16\n",
            "GenderMale                              0.059400   0.398219   0.149 0.881425\n",
            "Age                                    -0.016262   0.005145  -3.161 0.001574\n",
            "Political.affiliationyes                0.586746   0.244898   2.396 0.016580\n",
            "Residenceoutsidekhartoum                1.542987   0.286014   5.395 6.86e-08\n",
            "EthnicityArab                           0.376439   0.153192   2.457 0.013999\n",
            "Residenceoutsidekhartoum:EthnicityArab -1.104233   0.317485  -3.478 0.000505\n",
            "                                          \n",
            "(Intercept)                            ***\n",
            "GenderMale                                \n",
            "Age                                    ** \n",
            "Political.affiliationyes               *  \n",
            "Residenceoutsidekhartoum               ***\n",
            "EthnicityArab                          *  \n",
            "Residenceoutsidekhartoum:EthnicityArab ***\n",
            "---\n",
            "Signif. codes:  0 ‘***’ 0.001 ‘**’ 0.01 ‘*’ 0.05 ‘.’ 0.1 ‘ ’ 1\n",
            "\n",
            "(Dispersion parameter for binomial family taken to be 1)\n",
            "\n",
            "    Null deviance: 4410.2  on 187349  degrees of freedom\n",
            "Residual deviance: 4347.3  on 187343  degrees of freedom\n",
            "AIC: 4361.3\n",
            "\n",
            "Number of Fisher Scoring iterations: 10\n",
            "\n"
          ]
        }
      ]
    },
    {
      "cell_type": "code",
      "source": [
        "%%R\n",
        "annou1 <- as.data.frame(exp(coef(m_announcement)))\n",
        "annou2 <- as.data.frame(exp(coef(m_announcementint)))"
      ],
      "metadata": {
        "id": "oTVAC4t6gKOm"
      },
      "execution_count": null,
      "outputs": []
    },
    {
      "cell_type": "code",
      "source": [
        "%%R\n",
        "general1 <- as.data.frame(exp(coef(m12)))\n",
        "general2 <- as.data.frame(exp(coef(m13)))"
      ],
      "metadata": {
        "id": "teIYnQbzgwH5"
      },
      "execution_count": null,
      "outputs": []
    },
    {
      "cell_type": "code",
      "source": [
        "#combining odds dataframes:\n",
        "%%R\n",
        "firstodds <-cbind(general1 , sym1, esc1, annou1)\n",
        "secondodds <-cbind(general2, sym2, esc2, annou2)\n",
        "write.csv(firstodds, \"/content/drive/MyDrive/R part/all1.csv\", row.names = FALSE)\n",
        "write.csv(secondodds, \"/content/drive/MyDrive/R part/all2.csv\", row.names = FALSE)"
      ],
      "metadata": {
        "id": "_gMU8-Ykg7m-"
      },
      "execution_count": null,
      "outputs": []
    },
    {
      "cell_type": "code",
      "source": [
        "%%R\n",
        "mentions <- trymerge%>%filter(mention == \"Yes\")\n",
        "gender <- mentions%>%group_by(Gender)%>%summarise(freq =n())\n",
        "ggplot(data = gender, aes(x = Gender, y = freq, fill = Gender))+ geom_bar(stat = \"identity\")+geom_text(aes(label = freq))+ \n",
        "      theme(legend.position=\"none\")+theme_bw()"
      ],
      "metadata": {
        "colab": {
          "base_uri": "https://localhost:8080/",
          "height": 497
        },
        "id": "JYp4OXFzKprO",
        "outputId": "d78d1c38-accb-487f-dd16-fe2257b84e5b"
      },
      "execution_count": null,
      "outputs": [
        {
          "output_type": "display_data",
          "data": {
            "image/png": "[encoded data removed]"
          },
          "metadata": {}
        }
      ]
    },
    {
      "cell_type": "code",
      "source": [
        "%%R\n",
        "residence <- mentions%>%group_by(Residence)%>%summarise(freq =n())\n",
        "ggplot(data = residence, aes(x = , y = Residence, freq, fill = Residence))+ geom_bar(stat = \"identity\")+geom_text(aes(label = freq))+ \n",
        "      theme_bw()+theme(legend.position=\"none\")"
      ],
      "metadata": {
        "colab": {
          "base_uri": "https://localhost:8080/",
          "height": 497
        },
        "id": "qY5IRWH7NC2E",
        "outputId": "94a120a5-4d2d-42fd-a8a1-54b523dff306"
      },
      "execution_count": null,
      "outputs": [
        {
          "output_type": "display_data",
          "data": {
            "image/png": "[encoded data removed]"
          },
          "metadata": {}
        }
      ]
    },
    {
      "cell_type": "code",
      "source": [
        "%%R\n",
        "residence_race <-mentions%>%group_by(Residence, Ethnicity)%>%summarise(freq = n())\n",
        "ggplot(data = residence_race , aes(x = Residence, y = freq , fill = Ethnicity))+ geom_bar(stat = \"identity\")+theme_bw()+scale_fill_manual(values = c(\"red\", \"grey\"))"
      ],
      "metadata": {
        "colab": {
          "base_uri": "https://localhost:8080/",
          "height": 533
        },
        "id": "Ik7twJVvNb9O",
        "outputId": "60824911-c6c2-4241-d9ed-ac9d5c18cbd5"
      },
      "execution_count": null,
      "outputs": [
        {
          "output_type": "stream",
          "name": "stdout",
          "text": [
            "`summarise()` has grouped output by 'Residence'. You can override using the\n",
            "`.groups` argument.\n"
          ]
        },
        {
          "output_type": "display_data",
          "data": {
            "image/png": "[encoded data removed]"
          },
          "metadata": {}
        }
      ]
    },
    {
      "cell_type": "code",
      "source": [
        "%%R\n",
        "sympathymen <- mentions%>%filter(Discourse == \"Sympathy\")\n",
        "escalationmen <- mentions%>%filter(Discourse == \"Escalation\")\n",
        "announcementmen <- mentions%>%filter(Discourse == \"Announcement\")"
      ],
      "metadata": {
        "id": "W7RTP8Exv-52"
      },
      "execution_count": null,
      "outputs": []
    },
    {
      "cell_type": "code",
      "source": [
        "%%R\n",
        "residence_race <-sympathymen%>%group_by(Residence, Ethnicity)%>%summarise(freq = n())\n",
        "p1 <-ggplot(data = residence_race , aes(x = Residence, y = freq , fill = Ethnicity))+ geom_bar(stat = \"identity\")+theme_bw()+scale_fill_manual(values = c(\"blue\", \"grey\"))+theme(legend.position = \"none\", axis.text.x = element_blank(), axis.title.y = element_blank())+xlab(\"Sympathy Discourses\")+ylab(\"Number of mentions\")\n",
        "p1"
      ],
      "metadata": {
        "colab": {
          "base_uri": "https://localhost:8080/",
          "height": 533
        },
        "id": "N9HxxOV3wZeG",
        "outputId": "9830c4fb-37f8-4b9f-b66e-86b0edfd96d6"
      },
      "execution_count": null,
      "outputs": [
        {
          "output_type": "stream",
          "name": "stdout",
          "text": [
            "`summarise()` has grouped output by 'Residence'. You can override using the\n",
            "`.groups` argument.\n"
          ]
        },
        {
          "output_type": "display_data",
          "data": {
            "image/png": "[encoded data removed]"
          },
          "metadata": {}
        }
      ]
    },
    {
      "cell_type": "code",
      "source": [
        "%%R\n",
        "residence_race <-escalationmen%>%group_by(Residence, Ethnicity)%>%summarise(freq = n())\n",
        "p2 <-ggplot(data = residence_race , aes(x = Residence, y = freq , fill = Ethnicity))+ geom_bar(stat = \"identity\")+theme_bw()+scale_fill_manual(values = c(\"blue\", \"grey\"))+theme( axis.title.y = element_blank(), axis.text.x = element_blank())+xlab(\"Escalation  Discourses\")\n",
        "p2"
      ],
      "metadata": {
        "colab": {
          "base_uri": "https://localhost:8080/",
          "height": 533
        },
        "id": "hzdjrmqbwgEt",
        "outputId": "d030f82d-0cda-4a12-a499-78c1e1851fc3"
      },
      "execution_count": null,
      "outputs": [
        {
          "output_type": "stream",
          "name": "stdout",
          "text": [
            "`summarise()` has grouped output by 'Residence'. You can override using the\n",
            "`.groups` argument.\n"
          ]
        },
        {
          "output_type": "display_data",
          "data": {
            "image/png": "[encoded data removed]"
          },
          "metadata": {}
        }
      ]
    },
    {
      "cell_type": "code",
      "source": [
        "%%R\n",
        "residence_race <-announcementmen%>%group_by(Residence, Ethnicity)%>%summarise(freq = n())\n",
        "p3 <-ggplot(data = residence_race , aes(x = Residence, y = freq , fill = Ethnicity))+ geom_bar(stat = \"identity\")+theme_bw()+scale_fill_manual(values = c(\"blue\", \"grey\"))+theme(legend.position = \"none\", axis.title.y = element_blank())+xlab(\"Announcement  Discourses\")\n",
        "p3"
      ],
      "metadata": {
        "colab": {
          "base_uri": "https://localhost:8080/",
          "height": 533
        },
        "id": "BBQ4GRSMwxcK",
        "outputId": "fdf84139-b05e-4788-d4bf-05f7711a60e4"
      },
      "execution_count": null,
      "outputs": [
        {
          "output_type": "stream",
          "name": "stdout",
          "text": [
            "`summarise()` has grouped output by 'Residence'. You can override using the\n",
            "`.groups` argument.\n"
          ]
        },
        {
          "output_type": "display_data",
          "data": {
            "image/png": "[encoded data removed]"
          },
          "metadata": {}
        }
      ]
    },
    {
      "cell_type": "code",
      "source": [
        "%%R\n",
        "install.packages(\"patchwork\")\n",
        "library(patchwork)"
      ],
      "metadata": {
        "colab": {
          "base_uri": "https://localhost:8080/"
        },
        "id": "WrJ16DBsw4GT",
        "outputId": "e9a6c876-6adc-4991-f490-f6a2647b8cb2"
      },
      "execution_count": null,
      "outputs": [
        {
          "output_type": "stream",
          "name": "stderr",
          "text": [
            "WARNING:rpy2.rinterface_lib.callbacks:R[write to console]: Installing package into ‘/usr/local/lib/R/site-library’\n",
            "(as ‘lib’ is unspecified)\n",
            "\n",
            "WARNING:rpy2.rinterface_lib.callbacks:R[write to console]: trying URL 'https://cran.rstudio.com/src/contrib/patchwork_1.1.1.tar.gz'\n",
            "\n",
            "WARNING:rpy2.rinterface_lib.callbacks:R[write to console]: Content type 'application/x-gzip'\n",
            "WARNING:rpy2.rinterface_lib.callbacks:R[write to console]:  length 3193762 bytes (3.0 MB)\n",
            "\n",
            "WARNING:rpy2.rinterface_lib.callbacks:R[write to console]: =\n",
            "WARNING:rpy2.rinterface_lib.callbacks:R[write to console]: =\n",
            "WARNING:rpy2.rinterface_lib.callbacks:R[write to console]: =\n",
            "WARNING:rpy2.rinterface_lib.callbacks:R[write to console]: =\n",
            "WARNING:rpy2.rinterface_lib.callbacks:R[write to console]: =\n",
            "WARNING:rpy2.rinterface_lib.callbacks:R[write to console]: =\n",
            "WARNING:rpy2.rinterface_lib.callbacks:R[write to console]: =\n",
            "WARNING:rpy2.rinterface_lib.callbacks:R[write to console]: =\n",
            "WARNING:rpy2.rinterface_lib.callbacks:R[write to console]: =\n",
            "WARNING:rpy2.rinterface_lib.callbacks:R[write to console]: =\n",
            "WARNING:rpy2.rinterface_lib.callbacks:R[write to console]: =\n",
            "WARNING:rpy2.rinterface_lib.callbacks:R[write to console]: =\n",
            "WARNING:rpy2.rinterface_lib.callbacks:R[write to console]: =\n",
            "WARNING:rpy2.rinterface_lib.callbacks:R[write to console]: =\n",
            "WARNING:rpy2.rinterface_lib.callbacks:R[write to console]: =\n",
            "WARNING:rpy2.rinterface_lib.callbacks:R[write to console]: =\n",
            "WARNING:rpy2.rinterface_lib.callbacks:R[write to console]: =\n",
            "WARNING:rpy2.rinterface_lib.callbacks:R[write to console]: =\n",
            "WARNING:rpy2.rinterface_lib.callbacks:R[write to console]: =\n",
            "WARNING:rpy2.rinterface_lib.callbacks:R[write to console]: =\n",
            "WARNING:rpy2.rinterface_lib.callbacks:R[write to console]: =\n",
            "WARNING:rpy2.rinterface_lib.callbacks:R[write to console]: =\n",
            "WARNING:rpy2.rinterface_lib.callbacks:R[write to console]: =\n",
            "WARNING:rpy2.rinterface_lib.callbacks:R[write to console]: =\n",
            "WARNING:rpy2.rinterface_lib.callbacks:R[write to console]: =\n",
            "WARNING:rpy2.rinterface_lib.callbacks:R[write to console]: =\n",
            "WARNING:rpy2.rinterface_lib.callbacks:R[write to console]: =\n",
            "WARNING:rpy2.rinterface_lib.callbacks:R[write to console]: =\n",
            "WARNING:rpy2.rinterface_lib.callbacks:R[write to console]: =\n",
            "WARNING:rpy2.rinterface_lib.callbacks:R[write to console]: =\n",
            "WARNING:rpy2.rinterface_lib.callbacks:R[write to console]: =\n",
            "WARNING:rpy2.rinterface_lib.callbacks:R[write to console]: =\n",
            "WARNING:rpy2.rinterface_lib.callbacks:R[write to console]: =\n",
            "WARNING:rpy2.rinterface_lib.callbacks:R[write to console]: =\n",
            "WARNING:rpy2.rinterface_lib.callbacks:R[write to console]: =\n",
            "WARNING:rpy2.rinterface_lib.callbacks:R[write to console]: =\n",
            "WARNING:rpy2.rinterface_lib.callbacks:R[write to console]: =\n",
            "WARNING:rpy2.rinterface_lib.callbacks:R[write to console]: =\n",
            "WARNING:rpy2.rinterface_lib.callbacks:R[write to console]: =\n",
            "WARNING:rpy2.rinterface_lib.callbacks:R[write to console]: =\n",
            "WARNING:rpy2.rinterface_lib.callbacks:R[write to console]: =\n",
            "WARNING:rpy2.rinterface_lib.callbacks:R[write to console]: =\n",
            "WARNING:rpy2.rinterface_lib.callbacks:R[write to console]: =\n",
            "WARNING:rpy2.rinterface_lib.callbacks:R[write to console]: =\n",
            "WARNING:rpy2.rinterface_lib.callbacks:R[write to console]: =\n",
            "WARNING:rpy2.rinterface_lib.callbacks:R[write to console]: =\n",
            "WARNING:rpy2.rinterface_lib.callbacks:R[write to console]: =\n",
            "WARNING:rpy2.rinterface_lib.callbacks:R[write to console]: =\n",
            "WARNING:rpy2.rinterface_lib.callbacks:R[write to console]: =\n",
            "WARNING:rpy2.rinterface_lib.callbacks:R[write to console]: =\n",
            "WARNING:rpy2.rinterface_lib.callbacks:R[write to console]: \n",
            "\n",
            "WARNING:rpy2.rinterface_lib.callbacks:R[write to console]: downloaded 3.0 MB\n",
            "\n",
            "\n",
            "WARNING:rpy2.rinterface_lib.callbacks:R[write to console]: \n",
            "\n",
            "WARNING:rpy2.rinterface_lib.callbacks:R[write to console]: \n",
            "WARNING:rpy2.rinterface_lib.callbacks:R[write to console]: The downloaded source packages are in\n",
            "\t‘/tmp/RtmpfNF24C/downloaded_packages’\n",
            "WARNING:rpy2.rinterface_lib.callbacks:R[write to console]: \n",
            "WARNING:rpy2.rinterface_lib.callbacks:R[write to console]: \n",
            "\n",
            "WARNING:rpy2.rinterface_lib.callbacks:R[write to console]: \n",
            "Attaching package: ‘patchwork’\n",
            "\n",
            "\n",
            "WARNING:rpy2.rinterface_lib.callbacks:R[write to console]: The following object is masked from ‘package:MASS’:\n",
            "\n",
            "    area\n",
            "\n",
            "\n"
          ]
        }
      ]
    },
    {
      "cell_type": "code",
      "source": [
        "%%R\n",
        "#Helping Function global from the patchwork library, reference: https://github.com/thomasp85/patchwork/issues/43\n",
        "add_global_label <- function(pwobj, Xlab = NULL, Ylab = NULL, Xgap = 0.03, Ygap = 0.03, ...) {\n",
        "  ylabgrob <- patchwork::plot_spacer()\n",
        "  if (!is.null(Ylab)) {\n",
        "    ylabgrob <- ggplot() +\n",
        "      geom_text(aes(x = .5, y = .5), label = Ylab, angle = 90, ...) +\n",
        "      theme_void()\n",
        "  }\n",
        "  if (!is.null(Xlab)) {\n",
        "    xlabgrob <- ggplot() +\n",
        "      geom_text(aes(x = .5, y = .5), label = Xlab, ...) +\n",
        "      theme_void()\n",
        "  }\n",
        "  if (!is.null(Ylab) & is.null(Xlab)) {\n",
        "    return((ylabgrob + patchworkGrob(pwobj)) + \n",
        "             patchwork::plot_layout(widths = 100 * c(Ygap, 1 - Ygap)))\n",
        "  }\n",
        "  if (is.null(Ylab) & !is.null(Xlab)) {\n",
        "    return((ylabgrob + pwobj) + \n",
        "             (xlabgrob) +\n",
        "             patchwork::plot_layout(heights = 100 * c(1 - Xgap, Xgap),\n",
        "                                    widths = c(0, 100),\n",
        "                                    design = \"\n",
        "                                   AB\n",
        "                                   CC\n",
        "                                   \"\n",
        "             ))\n",
        "  }\n",
        "  if (!is.null(Ylab) & !is.null(Xlab)) {\n",
        "    return((ylabgrob + pwobj) + \n",
        "             (xlabgrob) +\n",
        "             patchwork::plot_layout(heights = 100 * c(1 - Xgap, Xgap),\n",
        "                                    widths = 100 * c(Ygap, 1 - Ygap),\n",
        "                                    design = \"\n",
        "                                   AB\n",
        "                                   CC\n",
        "                                   \"\n",
        "             ))\n",
        "  }\n",
        "  return(pwobj)\n",
        "}\n"
      ],
      "metadata": {
        "id": "P3OSvP0m09dY"
      },
      "execution_count": null,
      "outputs": []
    },
    {
      "cell_type": "code",
      "source": [
        "%%R\n",
        "add_global_label((p1/p2/p3), Ylab = \"Number of mentions\")"
      ],
      "metadata": {
        "colab": {
          "base_uri": "https://localhost:8080/",
          "height": 497
        },
        "id": "xgxQt7rVxDf7",
        "outputId": "e8c69f1a-37f6-4af8-dbeb-6650cb9e7257"
      },
      "execution_count": null,
      "outputs": [
        {
          "output_type": "display_data",
          "data": {
            "image/png": "[encoded data removed]"
          },
          "metadata": {}
        }
      ]
    },
    {
      "cell_type": "code",
      "source": [
        "%%R\n",
        "qplot(x = Age, fill = , fill=..count.., geom=\"histogram\" , data = mentions)+scale_fill_gradient(low=\"blue\", high=\"red\")"
      ],
      "metadata": {
        "colab": {
          "base_uri": "https://localhost:8080/",
          "height": 552
        },
        "id": "94awZ4tRQL5M",
        "outputId": "2d54c190-01b3-41ff-c7f4-8735cfd7c54e"
      },
      "execution_count": null,
      "outputs": [
        {
          "output_type": "stream",
          "name": "stderr",
          "text": [
            "WARNING:rpy2.rinterface_lib.callbacks:R[write to console]: `stat_bin()` using `bins = 30`. Pick better value with `binwidth`.\n",
            "\n"
          ]
        },
        {
          "output_type": "display_data",
          "data": {
            "image/png": "[encoded data removed]"
          },
          "metadata": {}
        }
      ]
    },
    {
      "cell_type": "code",
      "source": [
        "%%R\n",
        "summary(m12)"
      ],
      "metadata": {
        "colab": {
          "base_uri": "https://localhost:8080/"
        },
        "id": "VljQHlsDU_bg",
        "outputId": "3d756bbb-b542-48af-d1a3-fd1a120cd615"
      },
      "execution_count": null,
      "outputs": [
        {
          "output_type": "stream",
          "name": "stdout",
          "text": [
            "\n",
            "Call:\n",
            "glm(formula = mention.ref ~ Gender + Age + Political.affiliation + \n",
            "    Residence + Race, family = \"binomial\", data = trymerge)\n",
            "\n",
            "Deviance Residuals: \n",
            "    Min       1Q   Median       3Q      Max  \n",
            "-3.9686   0.0324   0.0381   0.0487   0.0606  \n",
            "\n",
            "Coefficients:\n",
            "                         Estimate Std. Error z value Pr(>|z|)    \n",
            "(Intercept)               7.36724    0.32356  22.769  < 2e-16 ***\n",
            "GenderMale               -0.47276    0.29883  -1.582   0.1136    \n",
            "Age                      -0.01286    0.00324  -3.970 7.18e-05 ***\n",
            "Political.affiliationyes  0.16399    0.12103   1.355   0.1754    \n",
            "Residenceoutsidekhartoum  0.80326    0.07596  10.575  < 2e-16 ***\n",
            "RaceArab                  0.17501    0.07784   2.248   0.0246 *  \n",
            "---\n",
            "Signif. codes:  0 ‘***’ 0.001 ‘**’ 0.01 ‘*’ 0.05 ‘.’ 0.1 ‘ ’ 1\n",
            "\n",
            "(Dispersion parameter for binomial family taken to be 1)\n",
            "\n",
            "    Null deviance: 13224  on 950261  degrees of freedom\n",
            "Residual deviance: 13074  on 950256  degrees of freedom\n",
            "AIC: 13086\n",
            "\n",
            "Number of Fisher Scoring iterations: 10\n",
            "\n"
          ]
        }
      ]
    },
    {
      "cell_type": "markdown",
      "source": [
        "We can say that living outside Khartoum multiplies the odds of a tweet mentioning a decaesed demonstrator by (e^coef - 1)*100, holding others constant \n",
        "being Arab mulyiplies the odds of a tweet mentioning a deceased demonstrators by 22%\n",
        "being affiliated with a politcial party multiplies the odds of a tweet to be mentioning a deceased demonstrator by 48%"
      ],
      "metadata": {
        "id": "OMji0ZaJt4fk"
      }
    },
    {
      "cell_type": "code",
      "source": [
        "%%R\n",
        "head(new_data)"
      ],
      "metadata": {
        "colab": {
          "base_uri": "https://localhost:8080/"
        },
        "id": "IujFbotdVIpj",
        "outputId": "90c89eef-8775-4a16-8a0a-f905adad2937"
      },
      "execution_count": null,
      "outputs": [
        {
          "output_type": "stream",
          "name": "stdout",
          "text": [
            "       Age Gender       Residence Race Political.affiliation      pros\n",
            "1 3.000000   Male outsidekhartoum Arab                   yes 0.9997590\n",
            "2 3.122244   Male outsidekhartoum Arab                   yes 0.9997585\n",
            "3 3.244489   Male outsidekhartoum Arab                   yes 0.9997581\n",
            "4 3.366733   Male outsidekhartoum Arab                   yes 0.9997576\n",
            "5 3.488978   Male outsidekhartoum Arab                   yes 0.9997572\n",
            "6 3.611222   Male outsidekhartoum Arab                   yes 0.9997567\n"
          ]
        }
      ]
    },
    {
      "cell_type": "code",
      "source": [
        "%%R\n",
        "new_data <- data.frame(Residence = sample(c('outsidekhartoum', 'Khartoum'), 500, replace=TRUE))\n",
        "new_data <- new_data%>%mutate(Gender = sample(c('Female', 'Male'), 500, replace=TRUE))\n",
        "new_data <- new_data%>%mutate(Age = mean(trymerge$Age))\n",
        "new_data <- new_data%>%mutate(Race = \"African\")\n",
        "new_data <- new_data%>%mutate(Political.affiliation = \"No\")\n",
        "new_data$pros = predict(m12, new_data, type=\"response\")"
      ],
      "metadata": {
        "id": "M24mP3F3OwZU"
      },
      "execution_count": null,
      "outputs": []
    },
    {
      "cell_type": "code",
      "source": [
        "%%R\n",
        "ggplot(newdata3, aes(x = gre, y = PredictedProb)) + geom_ribbon(aes(ymin = LL,\n",
        "    ymax = UL, fill = rank), alpha = 0.2) + geom_line(aes(colour = rank),\n",
        "    size = 1)\n"
      ],
      "metadata": {
        "colab": {
          "base_uri": "https://localhost:8080/"
        },
        "id": "Q4jkSSjRjZwy",
        "outputId": "a92ef6fc-3f88-4bc2-e9b1-a6ea2621f1eb"
      },
      "execution_count": null,
      "outputs": [
        {
          "output_type": "stream",
          "name": "stdout",
          "text": [
            "          Residence Gender      Age    Race Political.affiliation      pros\n",
            "1          Khartoum Female 25.10473 African                    No 0.9992690\n",
            "2   outsidekhartoum Female 25.10473 African                    No 0.9997446\n",
            "3          Khartoum Female 25.10473 African                    No 0.9992690\n",
            "4   outsidekhartoum Female 25.10473 African                    No 0.9997446\n",
            "5          Khartoum Female 25.10473 African                    No 0.9992690\n",
            "6   outsidekhartoum Female 25.10473 African                    No 0.9997446\n",
            "7          Khartoum Female 25.10473 African                    No 0.9992690\n",
            "8   outsidekhartoum Female 25.10473 African                    No 0.9997446\n",
            "9   outsidekhartoum Female 25.10473 African                    No 0.9997446\n",
            "10         Khartoum Female 25.10473 African                    No 0.9992690\n",
            "11  outsidekhartoum Female 25.10473 African                    No 0.9997446\n",
            "12  outsidekhartoum Female 25.10473 African                    No 0.9997446\n",
            "13         Khartoum Female 25.10473 African                    No 0.9992690\n",
            "14  outsidekhartoum Female 25.10473 African                    No 0.9997446\n",
            "15  outsidekhartoum Female 25.10473 African                    No 0.9997446\n",
            "16         Khartoum Female 25.10473 African                    No 0.9992690\n",
            "17  outsidekhartoum Female 25.10473 African                    No 0.9997446\n",
            "18  outsidekhartoum Female 25.10473 African                    No 0.9997446\n",
            "19         Khartoum Female 25.10473 African                    No 0.9992690\n",
            "20         Khartoum Female 25.10473 African                    No 0.9992690\n",
            "21         Khartoum Female 25.10473 African                    No 0.9992690\n",
            "22  outsidekhartoum Female 25.10473 African                    No 0.9997446\n",
            "23  outsidekhartoum Female 25.10473 African                    No 0.9997446\n",
            "24  outsidekhartoum Female 25.10473 African                    No 0.9997446\n",
            "25         Khartoum Female 25.10473 African                    No 0.9992690\n",
            "26         Khartoum Female 25.10473 African                    No 0.9992690\n",
            "27         Khartoum Female 25.10473 African                    No 0.9992690\n",
            "28         Khartoum Female 25.10473 African                    No 0.9992690\n",
            "29  outsidekhartoum Female 25.10473 African                    No 0.9997446\n",
            "30  outsidekhartoum Female 25.10473 African                    No 0.9997446\n",
            "31  outsidekhartoum Female 25.10473 African                    No 0.9997446\n",
            "32         Khartoum Female 25.10473 African                    No 0.9992690\n",
            "33         Khartoum Female 25.10473 African                    No 0.9992690\n",
            "34  outsidekhartoum Female 25.10473 African                    No 0.9997446\n",
            "35  outsidekhartoum Female 25.10473 African                    No 0.9997446\n",
            "36         Khartoum Female 25.10473 African                    No 0.9992690\n",
            "37  outsidekhartoum Female 25.10473 African                    No 0.9997446\n",
            "38         Khartoum Female 25.10473 African                    No 0.9992690\n",
            "39         Khartoum Female 25.10473 African                    No 0.9992690\n",
            "40  outsidekhartoum Female 25.10473 African                    No 0.9997446\n",
            "41         Khartoum Female 25.10473 African                    No 0.9992690\n",
            "42         Khartoum Female 25.10473 African                    No 0.9992690\n",
            "43         Khartoum Female 25.10473 African                    No 0.9992690\n",
            "44  outsidekhartoum Female 25.10473 African                    No 0.9997446\n",
            "45  outsidekhartoum Female 25.10473 African                    No 0.9997446\n",
            "46  outsidekhartoum Female 25.10473 African                    No 0.9997446\n",
            "47  outsidekhartoum Female 25.10473 African                    No 0.9997446\n",
            "48  outsidekhartoum Female 25.10473 African                    No 0.9997446\n",
            "49  outsidekhartoum Female 25.10473 African                    No 0.9997446\n",
            "50         Khartoum Female 25.10473 African                    No 0.9992690\n",
            "51  outsidekhartoum Female 25.10473 African                    No 0.9997446\n",
            "52         Khartoum Female 25.10473 African                    No 0.9992690\n",
            "53  outsidekhartoum Female 25.10473 African                    No 0.9997446\n",
            "54         Khartoum Female 25.10473 African                    No 0.9992690\n",
            "55         Khartoum Female 25.10473 African                    No 0.9992690\n",
            "56  outsidekhartoum Female 25.10473 African                    No 0.9997446\n",
            "57  outsidekhartoum Female 25.10473 African                    No 0.9997446\n",
            "58         Khartoum Female 25.10473 African                    No 0.9992690\n",
            "59         Khartoum Female 25.10473 African                    No 0.9992690\n",
            "60  outsidekhartoum Female 25.10473 African                    No 0.9997446\n",
            "61  outsidekhartoum Female 25.10473 African                    No 0.9997446\n",
            "62         Khartoum Female 25.10473 African                    No 0.9992690\n",
            "63         Khartoum Female 25.10473 African                    No 0.9992690\n",
            "64         Khartoum Female 25.10473 African                    No 0.9992690\n",
            "65         Khartoum Female 25.10473 African                    No 0.9992690\n",
            "66         Khartoum Female 25.10473 African                    No 0.9992690\n",
            "67         Khartoum Female 25.10473 African                    No 0.9992690\n",
            "68         Khartoum Female 25.10473 African                    No 0.9992690\n",
            "69  outsidekhartoum Female 25.10473 African                    No 0.9997446\n",
            "70  outsidekhartoum Female 25.10473 African                    No 0.9997446\n",
            "71         Khartoum Female 25.10473 African                    No 0.9992690\n",
            "72  outsidekhartoum Female 25.10473 African                    No 0.9997446\n",
            "73         Khartoum Female 25.10473 African                    No 0.9992690\n",
            "74  outsidekhartoum Female 25.10473 African                    No 0.9997446\n",
            "75  outsidekhartoum Female 25.10473 African                    No 0.9997446\n",
            "76  outsidekhartoum Female 25.10473 African                    No 0.9997446\n",
            "77  outsidekhartoum Female 25.10473 African                    No 0.9997446\n",
            "78         Khartoum Female 25.10473 African                    No 0.9992690\n",
            "79  outsidekhartoum Female 25.10473 African                    No 0.9997446\n",
            "80         Khartoum Female 25.10473 African                    No 0.9992690\n",
            "81         Khartoum Female 25.10473 African                    No 0.9992690\n",
            "82  outsidekhartoum Female 25.10473 African                    No 0.9997446\n",
            "83         Khartoum Female 25.10473 African                    No 0.9992690\n",
            "84         Khartoum Female 25.10473 African                    No 0.9992690\n",
            "85         Khartoum Female 25.10473 African                    No 0.9992690\n",
            "86  outsidekhartoum Female 25.10473 African                    No 0.9997446\n",
            "87  outsidekhartoum Female 25.10473 African                    No 0.9997446\n",
            "88  outsidekhartoum Female 25.10473 African                    No 0.9997446\n",
            "89         Khartoum Female 25.10473 African                    No 0.9992690\n",
            "90  outsidekhartoum Female 25.10473 African                    No 0.9997446\n",
            "91  outsidekhartoum Female 25.10473 African                    No 0.9997446\n",
            "92         Khartoum Female 25.10473 African                    No 0.9992690\n",
            "93         Khartoum Female 25.10473 African                    No 0.9992690\n",
            "94         Khartoum Female 25.10473 African                    No 0.9992690\n",
            "95         Khartoum Female 25.10473 African                    No 0.9992690\n",
            "96         Khartoum Female 25.10473 African                    No 0.9992690\n",
            "97  outsidekhartoum Female 25.10473 African                    No 0.9997446\n",
            "98  outsidekhartoum Female 25.10473 African                    No 0.9997446\n",
            "99         Khartoum Female 25.10473 African                    No 0.9992690\n",
            "100 outsidekhartoum Female 25.10473 African                    No 0.9997446\n",
            "101 outsidekhartoum Female 25.10473 African                    No 0.9997446\n",
            "102        Khartoum Female 25.10473 African                    No 0.9992690\n",
            "103 outsidekhartoum Female 25.10473 African                    No 0.9997446\n",
            "104 outsidekhartoum Female 25.10473 African                    No 0.9997446\n",
            "105        Khartoum Female 25.10473 African                    No 0.9992690\n",
            "106        Khartoum Female 25.10473 African                    No 0.9992690\n",
            "107 outsidekhartoum Female 25.10473 African                    No 0.9997446\n",
            "108 outsidekhartoum Female 25.10473 African                    No 0.9997446\n",
            "109 outsidekhartoum Female 25.10473 African                    No 0.9997446\n",
            "110 outsidekhartoum Female 25.10473 African                    No 0.9997446\n",
            "111        Khartoum Female 25.10473 African                    No 0.9992690\n",
            "112 outsidekhartoum Female 25.10473 African                    No 0.9997446\n",
            "113 outsidekhartoum Female 25.10473 African                    No 0.9997446\n",
            "114        Khartoum Female 25.10473 African                    No 0.9992690\n",
            "115 outsidekhartoum Female 25.10473 African                    No 0.9997446\n",
            "116        Khartoum Female 25.10473 African                    No 0.9992690\n",
            "117        Khartoum Female 25.10473 African                    No 0.9992690\n",
            "118 outsidekhartoum Female 25.10473 African                    No 0.9997446\n",
            "119 outsidekhartoum Female 25.10473 African                    No 0.9997446\n",
            "120        Khartoum Female 25.10473 African                    No 0.9992690\n",
            "121 outsidekhartoum Female 25.10473 African                    No 0.9997446\n",
            "122 outsidekhartoum Female 25.10473 African                    No 0.9997446\n",
            "123        Khartoum Female 25.10473 African                    No 0.9992690\n",
            "124        Khartoum Female 25.10473 African                    No 0.9992690\n",
            "125 outsidekhartoum Female 25.10473 African                    No 0.9997446\n",
            "126 outsidekhartoum Female 25.10473 African                    No 0.9997446\n",
            "127 outsidekhartoum Female 25.10473 African                    No 0.9997446\n",
            "128        Khartoum Female 25.10473 African                    No 0.9992690\n",
            "129        Khartoum Female 25.10473 African                    No 0.9992690\n",
            "130        Khartoum Female 25.10473 African                    No 0.9992690\n",
            "131        Khartoum Female 25.10473 African                    No 0.9992690\n",
            "132 outsidekhartoum Female 25.10473 African                    No 0.9997446\n",
            "133        Khartoum Female 25.10473 African                    No 0.9992690\n",
            "134 outsidekhartoum Female 25.10473 African                    No 0.9997446\n",
            "135        Khartoum Female 25.10473 African                    No 0.9992690\n",
            "136 outsidekhartoum Female 25.10473 African                    No 0.9997446\n",
            "137        Khartoum Female 25.10473 African                    No 0.9992690\n",
            "138        Khartoum Female 25.10473 African                    No 0.9992690\n",
            "139        Khartoum Female 25.10473 African                    No 0.9992690\n",
            "140        Khartoum Female 25.10473 African                    No 0.9992690\n",
            "141        Khartoum Female 25.10473 African                    No 0.9992690\n",
            "142        Khartoum Female 25.10473 African                    No 0.9992690\n",
            "143        Khartoum Female 25.10473 African                    No 0.9992690\n",
            "144 outsidekhartoum Female 25.10473 African                    No 0.9997446\n",
            "145        Khartoum Female 25.10473 African                    No 0.9992690\n",
            "146        Khartoum Female 25.10473 African                    No 0.9992690\n",
            "147 outsidekhartoum Female 25.10473 African                    No 0.9997446\n",
            "148 outsidekhartoum Female 25.10473 African                    No 0.9997446\n",
            "149 outsidekhartoum Female 25.10473 African                    No 0.9997446\n",
            "150        Khartoum Female 25.10473 African                    No 0.9992690\n",
            "151        Khartoum Female 25.10473 African                    No 0.9992690\n",
            "152 outsidekhartoum Female 25.10473 African                    No 0.9997446\n",
            "153 outsidekhartoum Female 25.10473 African                    No 0.9997446\n",
            "154 outsidekhartoum Female 25.10473 African                    No 0.9997446\n",
            "155        Khartoum Female 25.10473 African                    No 0.9992690\n",
            "156        Khartoum Female 25.10473 African                    No 0.9992690\n",
            "157 outsidekhartoum Female 25.10473 African                    No 0.9997446\n",
            "158        Khartoum Female 25.10473 African                    No 0.9992690\n",
            "159 outsidekhartoum Female 25.10473 African                    No 0.9997446\n",
            "160 outsidekhartoum Female 25.10473 African                    No 0.9997446\n",
            "161 outsidekhartoum Female 25.10473 African                    No 0.9997446\n",
            "162 outsidekhartoum Female 25.10473 African                    No 0.9997446\n",
            "163        Khartoum Female 25.10473 African                    No 0.9992690\n",
            "164        Khartoum Female 25.10473 African                    No 0.9992690\n",
            "165        Khartoum Female 25.10473 African                    No 0.9992690\n",
            "166 outsidekhartoum Female 25.10473 African                    No 0.9997446\n",
            "167        Khartoum Female 25.10473 African                    No 0.9992690\n",
            "168 outsidekhartoum Female 25.10473 African                    No 0.9997446\n",
            "169 outsidekhartoum Female 25.10473 African                    No 0.9997446\n",
            "170        Khartoum Female 25.10473 African                    No 0.9992690\n",
            "171        Khartoum Female 25.10473 African                    No 0.9992690\n",
            "172        Khartoum Female 25.10473 African                    No 0.9992690\n",
            "173 outsidekhartoum Female 25.10473 African                    No 0.9997446\n",
            "174        Khartoum Female 25.10473 African                    No 0.9992690\n",
            "175 outsidekhartoum Female 25.10473 African                    No 0.9997446\n",
            "176 outsidekhartoum Female 25.10473 African                    No 0.9997446\n",
            "177        Khartoum Female 25.10473 African                    No 0.9992690\n",
            "178 outsidekhartoum Female 25.10473 African                    No 0.9997446\n",
            "179 outsidekhartoum Female 25.10473 African                    No 0.9997446\n",
            "180        Khartoum Female 25.10473 African                    No 0.9992690\n",
            "181        Khartoum Female 25.10473 African                    No 0.9992690\n",
            "182        Khartoum Female 25.10473 African                    No 0.9992690\n",
            "183 outsidekhartoum Female 25.10473 African                    No 0.9997446\n",
            "184        Khartoum Female 25.10473 African                    No 0.9992690\n",
            "185 outsidekhartoum Female 25.10473 African                    No 0.9997446\n",
            "186        Khartoum Female 25.10473 African                    No 0.9992690\n",
            "187        Khartoum Female 25.10473 African                    No 0.9992690\n",
            "188        Khartoum Female 25.10473 African                    No 0.9992690\n",
            "189 outsidekhartoum Female 25.10473 African                    No 0.9997446\n",
            "190        Khartoum Female 25.10473 African                    No 0.9992690\n",
            "191 outsidekhartoum Female 25.10473 African                    No 0.9997446\n",
            "192        Khartoum Female 25.10473 African                    No 0.9992690\n",
            "193 outsidekhartoum Female 25.10473 African                    No 0.9997446\n",
            "194 outsidekhartoum Female 25.10473 African                    No 0.9997446\n",
            "195        Khartoum Female 25.10473 African                    No 0.9992690\n",
            "196        Khartoum Female 25.10473 African                    No 0.9992690\n",
            "197        Khartoum Female 25.10473 African                    No 0.9992690\n",
            "198 outsidekhartoum Female 25.10473 African                    No 0.9997446\n",
            "199        Khartoum Female 25.10473 African                    No 0.9992690\n",
            "200 outsidekhartoum Female 25.10473 African                    No 0.9997446\n",
            "201        Khartoum Female 25.10473 African                    No 0.9992690\n",
            "202        Khartoum Female 25.10473 African                    No 0.9992690\n",
            "203        Khartoum Female 25.10473 African                    No 0.9992690\n",
            "204 outsidekhartoum Female 25.10473 African                    No 0.9997446\n",
            "205 outsidekhartoum Female 25.10473 African                    No 0.9997446\n",
            "206 outsidekhartoum Female 25.10473 African                    No 0.9997446\n",
            "207        Khartoum Female 25.10473 African                    No 0.9992690\n",
            "208 outsidekhartoum Female 25.10473 African                    No 0.9997446\n",
            "209 outsidekhartoum Female 25.10473 African                    No 0.9997446\n",
            "210 outsidekhartoum Female 25.10473 African                    No 0.9997446\n",
            "211        Khartoum Female 25.10473 African                    No 0.9992690\n",
            "212        Khartoum Female 25.10473 African                    No 0.9992690\n",
            "213        Khartoum Female 25.10473 African                    No 0.9992690\n",
            "214 outsidekhartoum Female 25.10473 African                    No 0.9997446\n",
            "215        Khartoum Female 25.10473 African                    No 0.9992690\n",
            "216        Khartoum Female 25.10473 African                    No 0.9992690\n",
            "217 outsidekhartoum Female 25.10473 African                    No 0.9997446\n",
            "218 outsidekhartoum Female 25.10473 African                    No 0.9997446\n",
            "219        Khartoum Female 25.10473 African                    No 0.9992690\n",
            "220        Khartoum Female 25.10473 African                    No 0.9992690\n",
            "221 outsidekhartoum Female 25.10473 African                    No 0.9997446\n",
            "222        Khartoum Female 25.10473 African                    No 0.9992690\n",
            "223        Khartoum Female 25.10473 African                    No 0.9992690\n",
            "224 outsidekhartoum Female 25.10473 African                    No 0.9997446\n",
            "225        Khartoum Female 25.10473 African                    No 0.9992690\n",
            "226        Khartoum Female 25.10473 African                    No 0.9992690\n",
            "227 outsidekhartoum Female 25.10473 African                    No 0.9997446\n",
            "228        Khartoum Female 25.10473 African                    No 0.9992690\n",
            "229 outsidekhartoum Female 25.10473 African                    No 0.9997446\n",
            "230        Khartoum Female 25.10473 African                    No 0.9992690\n",
            "231        Khartoum Female 25.10473 African                    No 0.9992690\n",
            "232 outsidekhartoum Female 25.10473 African                    No 0.9997446\n",
            "233 outsidekhartoum Female 25.10473 African                    No 0.9997446\n",
            "234 outsidekhartoum Female 25.10473 African                    No 0.9997446\n",
            "235        Khartoum Female 25.10473 African                    No 0.9992690\n",
            "236        Khartoum Female 25.10473 African                    No 0.9992690\n",
            "237        Khartoum Female 25.10473 African                    No 0.9992690\n",
            "238        Khartoum Female 25.10473 African                    No 0.9992690\n",
            "239        Khartoum Female 25.10473 African                    No 0.9992690\n",
            "240 outsidekhartoum Female 25.10473 African                    No 0.9997446\n",
            "241 outsidekhartoum Female 25.10473 African                    No 0.9997446\n",
            "242        Khartoum Female 25.10473 African                    No 0.9992690\n",
            "243 outsidekhartoum Female 25.10473 African                    No 0.9997446\n",
            "244 outsidekhartoum Female 25.10473 African                    No 0.9997446\n",
            "245        Khartoum Female 25.10473 African                    No 0.9992690\n",
            "246 outsidekhartoum Female 25.10473 African                    No 0.9997446\n",
            "247 outsidekhartoum Female 25.10473 African                    No 0.9997446\n",
            "248 outsidekhartoum Female 25.10473 African                    No 0.9997446\n",
            "249 outsidekhartoum Female 25.10473 African                    No 0.9997446\n",
            "250 outsidekhartoum Female 25.10473 African                    No 0.9997446\n",
            "251 outsidekhartoum Female 25.10473 African                    No 0.9997446\n",
            "252        Khartoum Female 25.10473 African                    No 0.9992690\n",
            "253 outsidekhartoum Female 25.10473 African                    No 0.9997446\n",
            "254 outsidekhartoum Female 25.10473 African                    No 0.9997446\n",
            "255 outsidekhartoum Female 25.10473 African                    No 0.9997446\n",
            "256 outsidekhartoum Female 25.10473 African                    No 0.9997446\n",
            "257        Khartoum Female 25.10473 African                    No 0.9992690\n",
            "258 outsidekhartoum Female 25.10473 African                    No 0.9997446\n",
            "259        Khartoum Female 25.10473 African                    No 0.9992690\n",
            "260        Khartoum Female 25.10473 African                    No 0.9992690\n",
            "261 outsidekhartoum Female 25.10473 African                    No 0.9997446\n",
            "262 outsidekhartoum Female 25.10473 African                    No 0.9997446\n",
            "263        Khartoum Female 25.10473 African                    No 0.9992690\n",
            "264        Khartoum Female 25.10473 African                    No 0.9992690\n",
            "265 outsidekhartoum Female 25.10473 African                    No 0.9997446\n",
            "266 outsidekhartoum Female 25.10473 African                    No 0.9997446\n",
            "267        Khartoum Female 25.10473 African                    No 0.9992690\n",
            "268        Khartoum Female 25.10473 African                    No 0.9992690\n",
            "269 outsidekhartoum Female 25.10473 African                    No 0.9997446\n",
            "270 outsidekhartoum Female 25.10473 African                    No 0.9997446\n",
            "271 outsidekhartoum Female 25.10473 African                    No 0.9997446\n",
            "272 outsidekhartoum Female 25.10473 African                    No 0.9997446\n",
            "273        Khartoum Female 25.10473 African                    No 0.9992690\n",
            "274        Khartoum Female 25.10473 African                    No 0.9992690\n",
            "275        Khartoum Female 25.10473 African                    No 0.9992690\n",
            "276 outsidekhartoum Female 25.10473 African                    No 0.9997446\n",
            "277 outsidekhartoum Female 25.10473 African                    No 0.9997446\n",
            "278 outsidekhartoum Female 25.10473 African                    No 0.9997446\n",
            "279        Khartoum Female 25.10473 African                    No 0.9992690\n",
            "280        Khartoum Female 25.10473 African                    No 0.9992690\n",
            "281        Khartoum Female 25.10473 African                    No 0.9992690\n",
            "282        Khartoum Female 25.10473 African                    No 0.9992690\n",
            "283        Khartoum Female 25.10473 African                    No 0.9992690\n",
            "284        Khartoum Female 25.10473 African                    No 0.9992690\n",
            "285        Khartoum Female 25.10473 African                    No 0.9992690\n",
            "286        Khartoum Female 25.10473 African                    No 0.9992690\n",
            "287 outsidekhartoum Female 25.10473 African                    No 0.9997446\n",
            "288        Khartoum Female 25.10473 African                    No 0.9992690\n",
            "289        Khartoum Female 25.10473 African                    No 0.9992690\n",
            "290 outsidekhartoum Female 25.10473 African                    No 0.9997446\n",
            "291        Khartoum Female 25.10473 African                    No 0.9992690\n",
            "292 outsidekhartoum Female 25.10473 African                    No 0.9997446\n",
            "293        Khartoum Female 25.10473 African                    No 0.9992690\n",
            "294 outsidekhartoum Female 25.10473 African                    No 0.9997446\n",
            "295 outsidekhartoum Female 25.10473 African                    No 0.9997446\n",
            "296 outsidekhartoum Female 25.10473 African                    No 0.9997446\n",
            "297 outsidekhartoum Female 25.10473 African                    No 0.9997446\n",
            "298 outsidekhartoum Female 25.10473 African                    No 0.9997446\n",
            "299 outsidekhartoum Female 25.10473 African                    No 0.9997446\n",
            "300        Khartoum Female 25.10473 African                    No 0.9992690\n",
            "301 outsidekhartoum Female 25.10473 African                    No 0.9997446\n",
            "302        Khartoum Female 25.10473 African                    No 0.9992690\n",
            "303        Khartoum Female 25.10473 African                    No 0.9992690\n",
            "304 outsidekhartoum Female 25.10473 African                    No 0.9997446\n",
            "305        Khartoum Female 25.10473 African                    No 0.9992690\n",
            "306 outsidekhartoum Female 25.10473 African                    No 0.9997446\n",
            "307        Khartoum Female 25.10473 African                    No 0.9992690\n",
            "308 outsidekhartoum Female 25.10473 African                    No 0.9997446\n",
            "309 outsidekhartoum Female 25.10473 African                    No 0.9997446\n",
            "310 outsidekhartoum Female 25.10473 African                    No 0.9997446\n",
            "311 outsidekhartoum Female 25.10473 African                    No 0.9997446\n",
            "312 outsidekhartoum Female 25.10473 African                    No 0.9997446\n",
            "313        Khartoum Female 25.10473 African                    No 0.9992690\n",
            "314 outsidekhartoum Female 25.10473 African                    No 0.9997446\n",
            "315 outsidekhartoum Female 25.10473 African                    No 0.9997446\n",
            "316 outsidekhartoum Female 25.10473 African                    No 0.9997446\n",
            "317 outsidekhartoum Female 25.10473 African                    No 0.9997446\n",
            "318 outsidekhartoum Female 25.10473 African                    No 0.9997446\n",
            "319 outsidekhartoum Female 25.10473 African                    No 0.9997446\n",
            "320        Khartoum Female 25.10473 African                    No 0.9992690\n",
            "321 outsidekhartoum Female 25.10473 African                    No 0.9997446\n",
            "322        Khartoum Female 25.10473 African                    No 0.9992690\n",
            "323        Khartoum Female 25.10473 African                    No 0.9992690\n",
            "324        Khartoum Female 25.10473 African                    No 0.9992690\n",
            "325 outsidekhartoum Female 25.10473 African                    No 0.9997446\n",
            "326        Khartoum Female 25.10473 African                    No 0.9992690\n",
            "327 outsidekhartoum Female 25.10473 African                    No 0.9997446\n",
            "328        Khartoum Female 25.10473 African                    No 0.9992690\n",
            "329        Khartoum Female 25.10473 African                    No 0.9992690\n",
            "330 outsidekhartoum Female 25.10473 African                    No 0.9997446\n",
            "331        Khartoum Female 25.10473 African                    No 0.9992690\n",
            "332        Khartoum Female 25.10473 African                    No 0.9992690\n",
            "333 outsidekhartoum Female 25.10473 African                    No 0.9997446\n",
            "334        Khartoum Female 25.10473 African                    No 0.9992690\n",
            "335 outsidekhartoum Female 25.10473 African                    No 0.9997446\n",
            "336        Khartoum Female 25.10473 African                    No 0.9992690\n",
            "337 outsidekhartoum Female 25.10473 African                    No 0.9997446\n",
            "338 outsidekhartoum Female 25.10473 African                    No 0.9997446\n",
            "339        Khartoum Female 25.10473 African                    No 0.9992690\n",
            "340        Khartoum Female 25.10473 African                    No 0.9992690\n",
            "341 outsidekhartoum Female 25.10473 African                    No 0.9997446\n",
            "342 outsidekhartoum Female 25.10473 African                    No 0.9997446\n",
            "343        Khartoum Female 25.10473 African                    No 0.9992690\n",
            "344 outsidekhartoum Female 25.10473 African                    No 0.9997446\n",
            "345 outsidekhartoum Female 25.10473 African                    No 0.9997446\n",
            "346 outsidekhartoum Female 25.10473 African                    No 0.9997446\n",
            "347        Khartoum Female 25.10473 African                    No 0.9992690\n",
            "348        Khartoum Female 25.10473 African                    No 0.9992690\n",
            "349        Khartoum Female 25.10473 African                    No 0.9992690\n",
            "350        Khartoum Female 25.10473 African                    No 0.9992690\n",
            "351        Khartoum Female 25.10473 African                    No 0.9992690\n",
            "352 outsidekhartoum Female 25.10473 African                    No 0.9997446\n",
            "353 outsidekhartoum Female 25.10473 African                    No 0.9997446\n",
            "354 outsidekhartoum Female 25.10473 African                    No 0.9997446\n",
            "355 outsidekhartoum Female 25.10473 African                    No 0.9997446\n",
            "356 outsidekhartoum Female 25.10473 African                    No 0.9997446\n",
            "357        Khartoum Female 25.10473 African                    No 0.9992690\n",
            "358        Khartoum Female 25.10473 African                    No 0.9992690\n",
            "359        Khartoum Female 25.10473 African                    No 0.9992690\n",
            "360 outsidekhartoum Female 25.10473 African                    No 0.9997446\n",
            "361 outsidekhartoum Female 25.10473 African                    No 0.9997446\n",
            "362 outsidekhartoum Female 25.10473 African                    No 0.9997446\n",
            "363 outsidekhartoum Female 25.10473 African                    No 0.9997446\n",
            "364 outsidekhartoum Female 25.10473 African                    No 0.9997446\n",
            "365 outsidekhartoum Female 25.10473 African                    No 0.9997446\n",
            "366 outsidekhartoum Female 25.10473 African                    No 0.9997446\n",
            "367 outsidekhartoum Female 25.10473 African                    No 0.9997446\n",
            "368        Khartoum Female 25.10473 African                    No 0.9992690\n",
            "369        Khartoum Female 25.10473 African                    No 0.9992690\n",
            "370        Khartoum Female 25.10473 African                    No 0.9992690\n",
            "371 outsidekhartoum Female 25.10473 African                    No 0.9997446\n",
            "372        Khartoum Female 25.10473 African                    No 0.9992690\n",
            "373 outsidekhartoum Female 25.10473 African                    No 0.9997446\n",
            "374 outsidekhartoum Female 25.10473 African                    No 0.9997446\n",
            "375        Khartoum Female 25.10473 African                    No 0.9992690\n",
            "376        Khartoum Female 25.10473 African                    No 0.9992690\n",
            "377 outsidekhartoum Female 25.10473 African                    No 0.9997446\n",
            "378 outsidekhartoum Female 25.10473 African                    No 0.9997446\n",
            "379        Khartoum Female 25.10473 African                    No 0.9992690\n",
            "380 outsidekhartoum Female 25.10473 African                    No 0.9997446\n",
            "381 outsidekhartoum Female 25.10473 African                    No 0.9997446\n",
            "382 outsidekhartoum Female 25.10473 African                    No 0.9997446\n",
            "383 outsidekhartoum Female 25.10473 African                    No 0.9997446\n",
            "384        Khartoum Female 25.10473 African                    No 0.9992690\n",
            "385 outsidekhartoum Female 25.10473 African                    No 0.9997446\n",
            "386        Khartoum Female 25.10473 African                    No 0.9992690\n",
            "387 outsidekhartoum Female 25.10473 African                    No 0.9997446\n",
            "388        Khartoum Female 25.10473 African                    No 0.9992690\n",
            "389        Khartoum Female 25.10473 African                    No 0.9992690\n",
            "390 outsidekhartoum Female 25.10473 African                    No 0.9997446\n",
            "391        Khartoum Female 25.10473 African                    No 0.9992690\n",
            "392 outsidekhartoum Female 25.10473 African                    No 0.9997446\n",
            "393        Khartoum Female 25.10473 African                    No 0.9992690\n",
            "394 outsidekhartoum Female 25.10473 African                    No 0.9997446\n",
            "395        Khartoum Female 25.10473 African                    No 0.9992690\n",
            "396 outsidekhartoum Female 25.10473 African                    No 0.9997446\n",
            "397        Khartoum Female 25.10473 African                    No 0.9992690\n",
            "398        Khartoum Female 25.10473 African                    No 0.9992690\n",
            "399 outsidekhartoum Female 25.10473 African                    No 0.9997446\n",
            "400        Khartoum Female 25.10473 African                    No 0.9992690\n",
            "401 outsidekhartoum Female 25.10473 African                    No 0.9997446\n",
            "402 outsidekhartoum Female 25.10473 African                    No 0.9997446\n",
            "403 outsidekhartoum Female 25.10473 African                    No 0.9997446\n",
            "404 outsidekhartoum Female 25.10473 African                    No 0.9997446\n",
            "405 outsidekhartoum Female 25.10473 African                    No 0.9997446\n",
            "406        Khartoum Female 25.10473 African                    No 0.9992690\n",
            "407 outsidekhartoum Female 25.10473 African                    No 0.9997446\n",
            "408 outsidekhartoum Female 25.10473 African                    No 0.9997446\n",
            "409 outsidekhartoum Female 25.10473 African                    No 0.9997446\n",
            "410 outsidekhartoum Female 25.10473 African                    No 0.9997446\n",
            "411        Khartoum Female 25.10473 African                    No 0.9992690\n",
            "412        Khartoum Female 25.10473 African                    No 0.9992690\n",
            "413        Khartoum Female 25.10473 African                    No 0.9992690\n",
            "414        Khartoum Female 25.10473 African                    No 0.9992690\n",
            "415        Khartoum Female 25.10473 African                    No 0.9992690\n",
            "416        Khartoum Female 25.10473 African                    No 0.9992690\n",
            "417        Khartoum Female 25.10473 African                    No 0.9992690\n",
            "418 outsidekhartoum Female 25.10473 African                    No 0.9997446\n",
            "419        Khartoum Female 25.10473 African                    No 0.9992690\n",
            "420        Khartoum Female 25.10473 African                    No 0.9992690\n",
            "421 outsidekhartoum Female 25.10473 African                    No 0.9997446\n",
            "422 outsidekhartoum Female 25.10473 African                    No 0.9997446\n",
            "423 outsidekhartoum Female 25.10473 African                    No 0.9997446\n",
            "424 outsidekhartoum Female 25.10473 African                    No 0.9997446\n",
            "425        Khartoum Female 25.10473 African                    No 0.9992690\n",
            "426        Khartoum Female 25.10473 African                    No 0.9992690\n",
            "427        Khartoum Female 25.10473 African                    No 0.9992690\n",
            "428        Khartoum Female 25.10473 African                    No 0.9992690\n",
            "429 outsidekhartoum Female 25.10473 African                    No 0.9997446\n",
            "430 outsidekhartoum Female 25.10473 African                    No 0.9997446\n",
            "431        Khartoum Female 25.10473 African                    No 0.9992690\n",
            "432 outsidekhartoum Female 25.10473 African                    No 0.9997446\n",
            "433        Khartoum Female 25.10473 African                    No 0.9992690\n",
            "434        Khartoum Female 25.10473 African                    No 0.9992690\n",
            "435        Khartoum Female 25.10473 African                    No 0.9992690\n",
            "436        Khartoum Female 25.10473 African                    No 0.9992690\n",
            "437 outsidekhartoum Female 25.10473 African                    No 0.9997446\n",
            "438        Khartoum Female 25.10473 African                    No 0.9992690\n",
            "439        Khartoum Female 25.10473 African                    No 0.9992690\n",
            "440 outsidekhartoum Female 25.10473 African                    No 0.9997446\n",
            "441 outsidekhartoum Female 25.10473 African                    No 0.9997446\n",
            "442 outsidekhartoum Female 25.10473 African                    No 0.9997446\n",
            "443 outsidekhartoum Female 25.10473 African                    No 0.9997446\n",
            "444        Khartoum Female 25.10473 African                    No 0.9992690\n",
            "445        Khartoum Female 25.10473 African                    No 0.9992690\n",
            "446 outsidekhartoum Female 25.10473 African                    No 0.9997446\n",
            "447        Khartoum Female 25.10473 African                    No 0.9992690\n",
            "448 outsidekhartoum Female 25.10473 African                    No 0.9997446\n",
            "449 outsidekhartoum Female 25.10473 African                    No 0.9997446\n",
            "450 outsidekhartoum Female 25.10473 African                    No 0.9997446\n",
            "451        Khartoum Female 25.10473 African                    No 0.9992690\n",
            "452 outsidekhartoum Female 25.10473 African                    No 0.9997446\n",
            "453 outsidekhartoum Female 25.10473 African                    No 0.9997446\n",
            "454        Khartoum Female 25.10473 African                    No 0.9992690\n",
            "455        Khartoum Female 25.10473 African                    No 0.9992690\n",
            "456        Khartoum Female 25.10473 African                    No 0.9992690\n",
            "457 outsidekhartoum Female 25.10473 African                    No 0.9997446\n",
            "458        Khartoum Female 25.10473 African                    No 0.9992690\n",
            "459        Khartoum Female 25.10473 African                    No 0.9992690\n",
            "460 outsidekhartoum Female 25.10473 African                    No 0.9997446\n",
            "461 outsidekhartoum Female 25.10473 African                    No 0.9997446\n",
            "462 outsidekhartoum Female 25.10473 African                    No 0.9997446\n",
            "463        Khartoum Female 25.10473 African                    No 0.9992690\n",
            "464        Khartoum Female 25.10473 African                    No 0.9992690\n",
            "465        Khartoum Female 25.10473 African                    No 0.9992690\n",
            "466 outsidekhartoum Female 25.10473 African                    No 0.9997446\n",
            "467        Khartoum Female 25.10473 African                    No 0.9992690\n",
            "468 outsidekhartoum Female 25.10473 African                    No 0.9997446\n",
            "469        Khartoum Female 25.10473 African                    No 0.9992690\n",
            "470        Khartoum Female 25.10473 African                    No 0.9992690\n",
            "471        Khartoum Female 25.10473 African                    No 0.9992690\n",
            "472 outsidekhartoum Female 25.10473 African                    No 0.9997446\n",
            "473        Khartoum Female 25.10473 African                    No 0.9992690\n",
            "474 outsidekhartoum Female 25.10473 African                    No 0.9997446\n",
            "475 outsidekhartoum Female 25.10473 African                    No 0.9997446\n",
            "476 outsidekhartoum Female 25.10473 African                    No 0.9997446\n",
            "477        Khartoum Female 25.10473 African                    No 0.9992690\n",
            "478 outsidekhartoum Female 25.10473 African                    No 0.9997446\n",
            "479        Khartoum Female 25.10473 African                    No 0.9992690\n",
            "480        Khartoum Female 25.10473 African                    No 0.9992690\n",
            "481        Khartoum Female 25.10473 African                    No 0.9992690\n",
            "482        Khartoum Female 25.10473 African                    No 0.9992690\n",
            "483 outsidekhartoum Female 25.10473 African                    No 0.9997446\n",
            "484        Khartoum Female 25.10473 African                    No 0.9992690\n",
            "485 outsidekhartoum Female 25.10473 African                    No 0.9997446\n",
            "486 outsidekhartoum Female 25.10473 African                    No 0.9997446\n",
            "487 outsidekhartoum Female 25.10473 African                    No 0.9997446\n",
            "488        Khartoum Female 25.10473 African                    No 0.9992690\n",
            "489        Khartoum Female 25.10473 African                    No 0.9992690\n",
            "490 outsidekhartoum Female 25.10473 African                    No 0.9997446\n",
            "491        Khartoum Female 25.10473 African                    No 0.9992690\n",
            "492        Khartoum Female 25.10473 African                    No 0.9992690\n",
            "493 outsidekhartoum Female 25.10473 African                    No 0.9997446\n",
            "494 outsidekhartoum Female 25.10473 African                    No 0.9997446\n",
            "495 outsidekhartoum Female 25.10473 African                    No 0.9997446\n",
            "496 outsidekhartoum Female 25.10473 African                    No 0.9997446\n",
            "497 outsidekhartoum Female 25.10473 African                    No 0.9997446\n",
            "498 outsidekhartoum Female 25.10473 African                    No 0.9997446\n",
            "499        Khartoum Female 25.10473 African                    No 0.9992690\n",
            "500 outsidekhartoum Female 25.10473 African                    No 0.9997446\n"
          ]
        }
      ]
    },
    {
      "cell_type": "code",
      "source": [
        "%%R\n",
        "\n",
        "exp(coef(m12))"
      ],
      "metadata": {
        "colab": {
          "base_uri": "https://localhost:8080/"
        },
        "id": "yYIy5KUkkMK6",
        "outputId": "d852e5e4-f0fc-4d31-80da-77c2321141d2"
      },
      "execution_count": null,
      "outputs": [
        {
          "output_type": "stream",
          "name": "stdout",
          "text": [
            "             (Intercept)               GenderMale                      Age \n",
            "            2002.1443572                0.4171732                0.9849124 \n",
            "Political.affiliationyes Residenceoutsidekhartoum                 RaceArab \n",
            "               1.4868266                2.8639711                1.2206535 \n"
          ]
        }
      ]
    },
    {
      "cell_type": "code",
      "source": [
        "%%R\n",
        "ggplot(data = new_data, aes(x= Age, y= pros)) + \n",
        "  geom_point(alpha=.5) +\n",
        "  stat_smooth(method=\"glm\", se=FALSE, method.args = list(family=binomial))"
      ],
      "metadata": {
        "colab": {
          "base_uri": "https://localhost:8080/",
          "height": 532
        },
        "id": "DDKiEFjjVcM0",
        "outputId": "21b50fae-41f6-4d51-e410-a3b005884a12"
      },
      "execution_count": null,
      "outputs": [
        {
          "output_type": "stream",
          "name": "stderr",
          "text": [
            "WARNING:rpy2.rinterface_lib.callbacks:R[write to console]: `geom_smooth()` using formula 'y ~ x'\n",
            "\n"
          ]
        },
        {
          "output_type": "display_data",
          "data": {
            "image/png": "[encoded data removed]"
          },
          "metadata": {}
        }
      ]
    },
    {
      "cell_type": "code",
      "source": [
        "%%R\n",
        "m14 <- glm(mention.ref ~Age, data = trymerge, family =\"binomial\")\n",
        "summary(m14)"
      ],
      "metadata": {
        "colab": {
          "base_uri": "https://localhost:8080/"
        },
        "id": "jGyPJoM5cBSS",
        "outputId": "6e1b105c-59c4-459c-9012-00f515103b15"
      },
      "execution_count": null,
      "outputs": [
        {
          "output_type": "stream",
          "name": "stdout",
          "text": [
            "\n",
            "Call:\n",
            "glm(formula = mention.ref ~ Age, family = \"binomial\", data = trymerge)\n",
            "\n",
            "Deviance Residuals: \n",
            "    Min       1Q   Median       3Q      Max  \n",
            "-3.7992   0.0422   0.0432   0.0445   0.0553  \n",
            "\n",
            "Coefficients:\n",
            "             Estimate Std. Error z value Pr(>|z|)    \n",
            "(Intercept)  7.252478   0.085164  85.159  < 2e-16 ***\n",
            "Age         -0.012052   0.002966  -4.063 4.85e-05 ***\n",
            "---\n",
            "Signif. codes:  0 ‘***’ 0.001 ‘**’ 0.01 ‘*’ 0.05 ‘.’ 0.1 ‘ ’ 1\n",
            "\n",
            "(Dispersion parameter for binomial family taken to be 1)\n",
            "\n",
            "    Null deviance: 14582  on 950870  degrees of freedom\n",
            "Residual deviance: 14567  on 950869  degrees of freedom\n",
            "AIC: 14571\n",
            "\n",
            "Number of Fisher Scoring iterations: 9\n",
            "\n"
          ]
        }
      ]
    },
    {
      "cell_type": "code",
      "source": [
        "%%R\n",
        "new <- data.frame(Age =seq(min(trymerge$Age), max(trymerge$Age),len=500))\n",
        "new$pros = predict(m14, new, type=\"response\")"
      ],
      "metadata": {
        "id": "mr2RTU3rcb4d"
      },
      "execution_count": null,
      "outputs": []
    },
    {
      "cell_type": "code",
      "source": [
        "%%R\n",
        "ggplot(data = new, aes(x= Age, y= pros)) + \n",
        "  geom_point(alpha=.5) +\n",
        "  stat_smooth(method=\"glm\", se=FALSE, method.args = list(family=binomial))"
      ],
      "metadata": {
        "colab": {
          "base_uri": "https://localhost:8080/",
          "height": 532
        },
        "id": "LFH3KpqwXnEb",
        "outputId": "3c1c5eaa-5956-48be-eb57-cd00547b432f"
      },
      "execution_count": null,
      "outputs": [
        {
          "output_type": "stream",
          "name": "stderr",
          "text": [
            "WARNING:rpy2.rinterface_lib.callbacks:R[write to console]: `geom_smooth()` using formula 'y ~ x'\n",
            "\n"
          ]
        },
        {
          "output_type": "display_data",
          "data": {
            "image/png": "[encoded data removed]"
          },
          "metadata": {}
        }
      ]
    },
    {
      "cell_type": "code",
      "source": [
        "%%R\n",
        "mentions <- trymerge%>%filter(mention == \"Yes\")"
      ],
      "metadata": {
        "id": "Yk5PcHDIueLq"
      },
      "execution_count": null,
      "outputs": []
    },
    {
      "cell_type": "code",
      "source": [
        "%%R\n",
        "mentions%>%group_by(Gender)%>%summarise(freq = n())%>%mutate(effect = 100*freq/851)"
      ],
      "metadata": {
        "colab": {
          "base_uri": "https://localhost:8080/"
        },
        "id": "9B8mmfFvukUA",
        "outputId": "5b67665f-4508-485d-d19b-7c7fbdfdfc1f"
      },
      "execution_count": null,
      "outputs": [
        {
          "output_type": "stream",
          "name": "stdout",
          "text": [
            "# A tibble: 2 × 3\n",
            "  Gender  freq effect\n",
            "  <chr>  <int>  <dbl>\n",
            "1 Female    14   1.65\n",
            "2 Male     837  98.4 \n"
          ]
        }
      ]
    },
    {
      "cell_type": "code",
      "source": [
        "%%R\n",
        "mentions%>%group_by(Residence)%>%summarise(freq = n())%>%mutate(effect = 100*freq/851)"
      ],
      "metadata": {
        "colab": {
          "base_uri": "https://localhost:8080/"
        },
        "id": "dNrayWo1wF16",
        "outputId": "f8ac2f4e-8ed8-4a9a-f855-b6979da08242"
      },
      "execution_count": null,
      "outputs": [
        {
          "output_type": "stream",
          "name": "stdout",
          "text": [
            "# A tibble: 2 × 3\n",
            "  Residence        freq effect\n",
            "  <chr>           <int>  <dbl>\n",
            "1 Khartoum          616   72.4\n",
            "2 outsidekhartoum   235   27.6\n"
          ]
        }
      ]
    },
    {
      "cell_type": "code",
      "source": [
        "%%R\n",
        "mentions%>%group_by(Race)%>%summarise(freq = n())%>%mutate(effect = 100*freq/851)"
      ],
      "metadata": {
        "colab": {
          "base_uri": "https://localhost:8080/"
        },
        "id": "cyR7N5dMw_y3",
        "outputId": "1c9e37a7-96bb-40c4-ef3e-a2bcdac90238"
      },
      "execution_count": null,
      "outputs": [
        {
          "output_type": "stream",
          "name": "stdout",
          "text": [
            "# A tibble: 2 × 3\n",
            "  Race     freq effect\n",
            "  <chr>   <int>  <dbl>\n",
            "1 African   265   31.1\n",
            "2 Arab      586   68.9\n"
          ]
        }
      ]
    },
    {
      "cell_type": "code",
      "source": [
        "%%R\n",
        "mentions%>%group_by(Political.affiliation)%>%summarise(freq = n())%>%mutate(effect = 100*freq/851)"
      ],
      "metadata": {
        "colab": {
          "base_uri": "https://localhost:8080/"
        },
        "id": "11sINDbsxZFP",
        "outputId": "771bd403-7e62-46d3-af54-2f7fbc056a21"
      },
      "execution_count": null,
      "outputs": [
        {
          "output_type": "stream",
          "name": "stdout",
          "text": [
            "# A tibble: 2 × 3\n",
            "  Political.affiliation  freq effect\n",
            "  <chr>                 <int>  <dbl>\n",
            "1 No                      791  92.9 \n",
            "2 yes                      60   7.05\n"
          ]
        }
      ]
    },
    {
      "cell_type": "code",
      "source": [
        "%%R\n",
        "mentions%>%group_by(Residence, Race)%>%summarise(freq = n())"
      ],
      "metadata": {
        "colab": {
          "base_uri": "https://localhost:8080/"
        },
        "id": "0euk4WN-yYUg",
        "outputId": "ca2d02e1-0ef3-483a-c0d8-a122af78570a"
      },
      "execution_count": null,
      "outputs": [
        {
          "output_type": "stream",
          "name": "stdout",
          "text": [
            "`summarise()` has grouped output by 'Residence'. You can override using the\n",
            "`.groups` argument.\n",
            "# A tibble: 4 × 3\n",
            "# Groups:   Residence [2]\n",
            "  Residence       Race     freq\n",
            "  <chr>           <chr>   <int>\n",
            "1 Khartoum        African   223\n",
            "2 Khartoum        Arab      393\n",
            "3 outsidekhartoum African    42\n",
            "4 outsidekhartoum Arab      193\n"
          ]
        }
      ]
    }
  ],
  "metadata": {
    "accelerator": "GPU",
    "colab": {
      "collapsed_sections": [],
      "machine_shape": "hm",
      "name": "Copy of R Trial.ipynb",
      "provenance": []
    },
    "gpuClass": "standard",
    "kernelspec": {
      "display_name": "Python 3",
      "name": "python3"
    },
    "language_info": {
      "name": "python"
    }
  },
  "nbformat": 4,
  "nbformat_minor": 0
}